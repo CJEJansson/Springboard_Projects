{
 "cells": [
  {
   "cell_type": "markdown",
   "metadata": {},
   "source": [
    "This exercise will require you to pull some data from the Qunadl API. Qaundl is currently the most widely used aggregator of financial market data."
   ]
  },
  {
   "cell_type": "markdown",
   "metadata": {},
   "source": [
    "As a first step, you will need to register a free account on the http://www.quandl.com website."
   ]
  },
  {
   "cell_type": "markdown",
   "metadata": {},
   "source": [
    "After you register, you will be provided with a unique API key, that you should store:"
   ]
  },
  {
   "cell_type": "code",
   "execution_count": 6,
   "metadata": {},
   "outputs": [],
   "source": [
    "# Store the API key as a string - according to PEP8, constants are always named in all upper case\n",
    "API_KEY = 'DbB8eqZ8aZM1zEc3_UQv'"
   ]
  },
  {
   "cell_type": "markdown",
   "metadata": {},
   "source": [
    "Qaundl has a large number of data sources, but, unfortunately, most of them require a Premium subscription. Still, there are also a good number of free datasets."
   ]
  },
  {
   "cell_type": "markdown",
   "metadata": {},
   "source": [
    "For this mini project, we will focus on equities data from the Frankfurt Stock Exhange (FSE), which is available for free. We'll try and analyze the stock prices of a company called Carl Zeiss Meditec, which manufactures tools for eye examinations, as well as medical lasers for laser eye surgery: https://www.zeiss.com/meditec/int/home.html. The company is listed under the stock ticker AFX_X."
   ]
  },
  {
   "cell_type": "markdown",
   "metadata": {},
   "source": [
    "You can find the detailed Quandl API instructions here: https://docs.quandl.com/docs/time-series"
   ]
  },
  {
   "cell_type": "markdown",
   "metadata": {},
   "source": [
    "While there is a dedicated Python package for connecting to the Quandl API, we would prefer that you use the *requests* package, which can be easily downloaded using *pip* or *conda*. You can find the documentation for the package here: http://docs.python-requests.org/en/master/ "
   ]
  },
  {
   "cell_type": "markdown",
   "metadata": {},
   "source": [
    "Finally, apart from the *requests* package, you are encouraged to not use any third party Python packages, such as *pandas*, and instead focus on what's available in the Python Standard Library (the *collections* module might come in handy: https://pymotw.com/3/collections/ ).\n",
    "Also, since you won't have access to DataFrames, you are encouraged to us Python's native data structures - preferably dictionaries, though some questions can also be answered using lists.\n",
    "You can read more on these data structures here: https://docs.python.org/3/tutorial/datastructures.html"
   ]
  },
  {
   "cell_type": "markdown",
   "metadata": {},
   "source": [
    "Keep in mind that the JSON responses you will be getting from the API map almost one-to-one to Python's dictionaries. Unfortunately, they can be very nested, so make sure you read up on indexing dictionaries in the documentation provided above."
   ]
  },
  {
   "cell_type": "code",
   "execution_count": 7,
   "metadata": {},
   "outputs": [],
   "source": [
    "# First, import the relevant modules\n",
    "import requests\n"
   ]
  },
  {
   "cell_type": "code",
   "execution_count": 8,
   "metadata": {},
   "outputs": [
    {
     "name": "stdout",
     "output_type": "stream",
     "text": [
      "https://www.quandl.com/api/v3/datasets/FSE/AFX_X/data.json?start_date=2019-09-15    &end_date=2019-09-16&apikey=DbB8eqZ8aZM1zEc3_UQv\n"
     ]
    }
   ],
   "source": [
    "# Now, call the Quandl API and pull out a small sample of the data (only one day) to get a glimpse\n",
    "# into the JSON structure that will be returned\n",
    "url='https://www.quandl.com/api/v3/datasets/FSE/AFX_X/data.json?start_date=2019-09-15\\\n",
    "    &end_date=2019-09-16&apikey='+API_KEY\n",
    "print(url)\n",
    "r=requests.get(url)"
   ]
  },
  {
   "cell_type": "code",
   "execution_count": 9,
   "metadata": {},
   "outputs": [
    {
     "name": "stdout",
     "output_type": "stream",
     "text": [
      "{'dataset_data': {'limit': None, 'transform': None, 'column_index': None, 'column_names': ['Date', 'Open', 'High', 'Low', 'Close', 'Change', 'Traded Volume', 'Turnover', 'Last Price of the Day', 'Daily Traded Units', 'Daily Turnover'], 'start_date': '2019-09-15', 'end_date': '2019-09-16', 'frequency': 'daily', 'data': [['2019-09-16', 99.0, 99.75, 97.85, 99.35, None, 112585.0, 11171601.0, None, None, None]], 'collapse': None, 'order': None}}\n"
     ]
    }
   ],
   "source": [
    "# Inspect the JSON structure of the object you created, and take note of how nested it is,\n",
    "# as well as the overall structure\n",
    "\n",
    "print(r.json())\n"
   ]
  },
  {
   "cell_type": "code",
   "execution_count": 10,
   "metadata": {},
   "outputs": [
    {
     "name": "stdout",
     "output_type": "stream",
     "text": [
      "['Date', 'Open', 'High', 'Low', 'Close', 'Change', 'Traded Volume', 'Turnover', 'Last Price of the Day', 'Daily Traded Units', 'Daily Turnover']\n"
     ]
    }
   ],
   "source": [
    "database=r.json()['dataset_data']['data']\n",
    "columns=r.json()['dataset_data']['column_names']\n",
    "print(columns)"
   ]
  },
  {
   "cell_type": "markdown",
   "metadata": {},
   "source": [
    "These are your tasks for this mini project:\n",
    "\n",
    "1. Collect data from the Franfurt Stock Exchange, for the ticker AFX_X, for the whole year 2017 (keep in mind that the date format is YYYY-MM-DD).\n",
    "2. Convert the returned JSON object into a Python dictionary.\n",
    "3. Calculate what the highest and lowest opening prices were for the stock in this period.\n",
    "4. What was the largest change in any one day (based on High and Low price)?\n",
    "5. What was the largest change between any two days (based on Closing Price)?\n",
    "6. What was the average daily trading volume during this year?\n",
    "7. (Optional) What was the median trading volume during this year. (Note: you may need to implement your own function for calculating the median.)"
   ]
  },
  {
   "cell_type": "code",
   "execution_count": 11,
   "metadata": {},
   "outputs": [],
   "source": [
    "#Pull the data from the Frankfurt Stock Exchange for ticker AFX_X (Carl Zeiss Meditech) for all of 2017\n",
    "url2017=url='https://www.quandl.com/api/v3/datasets/FSE/AFX_X/data.json?start_date=2017-01-01\\\n",
    "    &end_date=2017-12-31&apikey='+API_KEY\n",
    "r=requests.get(url2017)"
   ]
  },
  {
   "cell_type": "code",
   "execution_count": 12,
   "metadata": {},
   "outputs": [],
   "source": [
    "#Convert the returned JSON object into a Python dictionary.\n",
    "data2017=r.json()\n"
   ]
  },
  {
   "cell_type": "code",
   "execution_count": 13,
   "metadata": {
    "scrolled": true
   },
   "outputs": [
    {
     "name": "stdout",
     "output_type": "stream",
     "text": [
      "The lowest opening price was €34.0.\n",
      "The highest opening price was €53.11.\n"
     ]
    }
   ],
   "source": [
    "#Calculate what the highest and lowest opening prices were for the stock in this period.\n",
    "stock_data=data2017['dataset_data']['data']\n",
    "\n",
    "#From exploration above, you know that opening price is in index 1 of [dataset_data][data]\n",
    "#Null values are assigned as 'None', and these will need removed\n",
    "opening_price=[item[1] for item in stock_data if item[1]!=None]\n",
    "\n",
    "#sort values low to high\n",
    "opening_price_sorted=sorted(opening_price)\n",
    "\n",
    "low_price=opening_price_sorted[0]\n",
    "high_price=opening_price_sorted[-1]\n",
    "\n",
    "print('The lowest opening price was €' + str(low_price) + '.')\n",
    "print('The highest opening price was €' + str(high_price) + '.')"
   ]
  },
  {
   "cell_type": "code",
   "execution_count": 14,
   "metadata": {},
   "outputs": [
    {
     "name": "stdout",
     "output_type": "stream",
     "text": [
      "The largest change in any one day was €2.81.\n"
     ]
    }
   ],
   "source": [
    "#What was the largest change in any one day (based on High and Low price)?\n",
    "\n",
    "#Explore data to find that \"High\" is index 2, \"Low\" is index 3\n",
    "# Again remove null values, but exploration shows that this is not necessary as you get the same result\n",
    "stock_data=r.json()['dataset_data']['data']\n",
    "\n",
    "price_change=[item[2]-item[3] for item in stock_data if (item[2]!=None) and (item[3]!=None)]\n",
    "price_change_sorted=sorted(price_change)\n",
    "largest_change=price_change_sorted[-1]\n",
    "\n",
    "#Convert to two decimals\n",
    "largest_change_rounded= str(round(largest_change, 2))\n",
    "\n",
    "print('The largest change in any one day was €' + largest_change_rounded + '.')"
   ]
  },
  {
   "cell_type": "code",
   "execution_count": 17,
   "metadata": {},
   "outputs": [
    {
     "name": "stdout",
     "output_type": "stream",
     "text": [
      "The largest change between any two days, based on closing price, was €2.56.\n"
     ]
    }
   ],
   "source": [
    "#What was the largest change between any two days (based on Closing Price)?\n",
    "stock_data=r.json()['dataset_data']['data']\n",
    "\n",
    "#Determine number of days via length\n",
    "num_days=len(stock_data)\n",
    "\n",
    "#You know that \"Date\" is index 0, Closing price is index 4\n",
    "#Calculate difference between current day and next day, remove null values \n",
    "two_day_change= [stock_data[i+1][4]-stock_data[i][4] for i in range (0,num_days-1) \\\n",
    "                 if (stock_data[i+1][4]!=None) and (stock_data[i][4]!=None)]\n",
    "largest_two_day_change=sorted(two_day_change)\n",
    "\n",
    "#Convert to two decimals\n",
    "largest_value=largest_two_day_change[-1]\n",
    "largest_two_day_change_rounded=str(round(largest_value,2))\n",
    "\n",
    "print('The largest change between any two days, based on closing price, was €' \\\n",
    "      + largest_two_day_change_rounded + '.')\n",
    "\n",
    "\n"
   ]
  },
  {
   "cell_type": "code",
   "execution_count": 15,
   "metadata": {},
   "outputs": [
    {
     "name": "stdout",
     "output_type": "stream",
     "text": [
      "The average daily trading volume in 2017 was 89124.34 shares.\n"
     ]
    }
   ],
   "source": [
    "#What was the average daily trading volume during this year?\n",
    "\n",
    "stock_data=r.json()['dataset_data']['data']\n",
    "\n",
    "#You know that the trading volume is index 6\n",
    "#Use list comprehension to pull the trade volume, and remove null values\n",
    "trade_volume=[item[6] for item in stock_data if item[6]!=None]\n",
    "number_trades=len(trade_volume)\n",
    "\n",
    "#Calculate average, knowing average=sum(values)/# values\n",
    "avg_trade_volume=sum(trade_volume)/number_trades\n",
    "\n",
    "#Round value to two decimals, for consistency\n",
    "avg_trade_rounded=str(round(avg_trade_volume,2))\n",
    "\n",
    "print('The average daily trading volume in 2017 was ' + avg_trade_rounded + ' shares.')"
   ]
  },
  {
   "cell_type": "code",
   "execution_count": 16,
   "metadata": {},
   "outputs": [
    {
     "name": "stdout",
     "output_type": "stream",
     "text": [
      "The median trading volume in 2017 was 76286.0 units.\n"
     ]
    }
   ],
   "source": [
    "#What was the median trading volume during this year. \n",
    "#(Note: you may need to implement your own function for calculating the median.)\n",
    "\n",
    "def calc_median(mylist):\n",
    "    #Calculate list length\n",
    "    n=len(mylist)\n",
    "    \n",
    "    #Sort list\n",
    "    ordered_list=sorted(mylist)\n",
    "    \n",
    "    #Find Median\n",
    "    if n % 2 == 0:\n",
    "        m_low=ordered_list[n//2]\n",
    "        m_hi=ordered_list[n//2-1]\n",
    "        median=(m_low+m_hi)/2\n",
    "    else:\n",
    "        median=ordered_list[n//2]\n",
    "    return median\n",
    "    \n",
    "trade_volume=[item[6] for item in stock_data if item[6]!=None]\n",
    "median_trade_volume=calc_median(trade_volume)\n",
    "\n",
    "\n",
    "\n",
    "print('The median trading volume in 2017 was ' + str(median_trade_volume) + ' units.')"
   ]
  },
  {
   "cell_type": "code",
   "execution_count": null,
   "metadata": {},
   "outputs": [],
   "source": []
  }
 ],
 "metadata": {
  "kernelspec": {
   "display_name": "Python 3",
   "language": "python",
   "name": "python3"
  },
  "language_info": {
   "codemirror_mode": {
    "name": "ipython",
    "version": 3
   },
   "file_extension": ".py",
   "mimetype": "text/x-python",
   "name": "python",
   "nbconvert_exporter": "python",
   "pygments_lexer": "ipython3",
   "version": "3.7.3"
  }
 },
 "nbformat": 4,
 "nbformat_minor": 2
}
