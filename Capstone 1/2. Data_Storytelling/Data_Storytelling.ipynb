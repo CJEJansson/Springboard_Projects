{
 "cells": [
  {
   "cell_type": "markdown",
   "metadata": {},
   "source": [
    "# Introduction:\n",
    "\n",
    "The intent of this EDA is to investigate the impact of each recorded characteristic on the overall adoption speed. Specifically, the goal is to explore the relationships between each variable and adoption speed. \n",
    "\n",
    "The PetFinder Malaysia dataset investigation will hopefully yield insights that can be applied to the pet catalog of a local shelter to increase pet adoptions overall by adjusting online pet profiles. \n",
    "\n",
    "The datasets utilized in this notebook were cleaned and generated in the data wrangling portion of this project, details of which can be found here: [Github Link: Data_Wrangling.ipynb](https://github.com/CJEJansson/Springboard_Projects/blob/master/Capstone%201/Data_Wrangling/Data_Wrangling.ipynb)"
   ]
  },
  {
   "cell_type": "markdown",
   "metadata": {},
   "source": [
    "# The Data:"
   ]
  },
  {
   "cell_type": "code",
   "execution_count": 6,
   "metadata": {},
   "outputs": [],
   "source": [
    "#Import Libraries\n",
    "import numpy as np\n",
    "import pandas as pd\n",
    "import matplotlib.pyplot as plt\n",
    "import seaborn as sns"
   ]
  },
  {
   "cell_type": "code",
   "execution_count": 16,
   "metadata": {},
   "outputs": [],
   "source": [
    "#Import Data Sets\n",
    "\n",
    "#File Names\n",
    "adoptfile  = 'tidy_data/adoption_speed.csv'\n",
    "colorfile  = 'tidy_data/color_labels.csv'\n",
    "wormfile   = 'tidy_data/dewormed.csv'\n",
    "breedfile  = 'tidy_data/dog_breeds.csv'\n",
    "datafile   = 'tidy_data/dog_data.csv'\n",
    "furfile    = 'tidy_data/fur_length.csv'\n",
    "healthfile = 'tidy_data/health.csv'\n",
    "sizefile   = 'tidy_data/size.csv'\n",
    "statefile  = 'tidy_data/state_labels.csv'\n",
    "fixedfile  = 'tidy_data/sterilized.csv'\n",
    "vacfile    = 'tidy_data/vaccine.csv'\n",
    "\n",
    "#Import Files\n",
    "adptspeed  = pd.read_csv(adoptfile)\n",
    "color      = pd.read_csv(colorfile)\n",
    "dewormed   = pd.read_csv(wormfile)\n",
    "breeds     = pd.read_csv(breedfile)\n",
    "dog_data   = pd.read_csv(datafile)\n",
    "fur_length = pd.read_csv(furfile)\n",
    "health     = pd.read_csv(healthfile)\n",
    "adult_size = pd.read_csv(sizefile)\n",
    "state=pd.read_csv(statefile)\n",
    "fixed = pd.read_csv(fixedfile)\n",
    "vaccinated = pd.read_csv(vacfile)"
   ]
  },
  {
   "cell_type": "markdown",
   "metadata": {},
   "source": [
    "#### The data set variables are defined in the column variables of the data set, which can be found via the code below:"
   ]
  },
  {
   "cell_type": "code",
   "execution_count": 18,
   "metadata": {},
   "outputs": [
    {
     "name": "stdout",
     "output_type": "stream",
     "text": [
      "<class 'pandas.core.frame.DataFrame'>\n",
      "RangeIndex: 10230 entries, 0 to 10229\n",
      "Data columns (total 26 columns):\n",
      "index            10230 non-null int64\n",
      "Name             7238 non-null object\n",
      "Age              10230 non-null int64\n",
      "Breed1           10230 non-null int64\n",
      "Breed2           10230 non-null int64\n",
      "BreedCount       10230 non-null int64\n",
      "Gender           10230 non-null int64\n",
      "Color1           10230 non-null int64\n",
      "Color2           10230 non-null int64\n",
      "Color3           10230 non-null int64\n",
      "ColorCount       10230 non-null int64\n",
      "MaturitySize     10230 non-null int64\n",
      "FurLength        10230 non-null int64\n",
      "Vaccinated       10230 non-null int64\n",
      "Dewormed         10230 non-null int64\n",
      "Sterilized       10230 non-null int64\n",
      "Health           10230 non-null int64\n",
      "Quantity         10230 non-null int64\n",
      "Fee              10230 non-null int64\n",
      "State            10230 non-null int64\n",
      "RescuerID        10230 non-null object\n",
      "VideoAmt         10230 non-null int64\n",
      "Description      10196 non-null object\n",
      "PetID            10230 non-null object\n",
      "PhotoAmt         10230 non-null int64\n",
      "AdoptionSpeed    8130 non-null float64\n",
      "dtypes: float64(1), int64(21), object(4)\n",
      "memory usage: 2.0+ MB\n"
     ]
    }
   ],
   "source": [
    "dog_data.info()"
   ]
  },
  {
   "cell_type": "code",
   "execution_count": 17,
   "metadata": {},
   "outputs": [
    {
     "data": {
      "text/plain": [
       "Index(['index', 'Name', 'Age', 'Breed1', 'Breed2', 'BreedCount', 'Gender',\n",
       "       'Color1', 'Color2', 'Color3', 'ColorCount', 'MaturitySize', 'FurLength',\n",
       "       'Vaccinated', 'Dewormed', 'Sterilized', 'Health', 'Quantity', 'Fee',\n",
       "       'State', 'RescuerID', 'VideoAmt', 'Description', 'PetID', 'PhotoAmt',\n",
       "       'AdoptionSpeed'],\n",
       "      dtype='object')"
      ]
     },
     "execution_count": 17,
     "metadata": {},
     "output_type": "execute_result"
    }
   ],
   "source": [
    "dog_data.columns"
   ]
  },
  {
   "cell_type": "markdown",
   "metadata": {},
   "source": [
    "## The characteristics of each listing are as follows:\n",
    " \n",
    " - Animal Specific\n",
    "    - Name\n",
    "    - Age (in months)\n",
    "    - Breed \n",
    "    - Gender (M/F or \"mixed\" for multipet listings)\n",
    "    - Color\n",
    "    - Adult size\n",
    "    - Fur Length\n",
    "    - Health: Vacinnations, Dewormed, Sterilized, known Injuries/Illness\n",
    "    \n",
    " - Listing Specific\n",
    "    - Number of pets in listing\n",
    "    - Presence and number of photos/videos\n",
    "    - Animal location (State)\n",
    "    - Organization (Rescuer ID)\n",
    "    - Adoption Fee (0=Free)\n",
    "    - Description\n",
    "    "
   ]
  },
  {
   "cell_type": "markdown",
   "metadata": {},
   "source": [
    "# Exploratory Data Analysis:\n",
    "\n",
    "We will begin by investigating the distribution of adoption speeds in the dataset. Once this is understood, an investigation will be performed to try and determine the impacts of the following on adoption speed: \n",
    "\n",
    "1.  Name\n",
    "    - presence vs. absence\n",
    "2.  Age\n",
    "2.  Breed\n",
    "    - type of breed\n",
    "    - mixed vs. pure breed\n",
    "3.  Gender\n",
    "4.  Color\n",
    "    - specific color\n",
    "    - multicolor vs single color\n",
    "5.  Size at maturity\n",
    "6.  Fur Length\n",
    "7.  General health\n",
    "    - has the animal been dewormed?\n",
    "    - has the animal been vaccinated?\n",
    "    - has the animal been spayed/neutered?\n",
    "    - does the animal have any injuries/known health problems?\n",
    "8.  Number of pets per listing\n",
    "9.  Adoption fee\n",
    "    - cost to adopt\n",
    "    - paid vs free\n",
    "10. Location\n",
    "11. Rescue Organization\n",
    "12. Media\n",
    "    - number of videos\n",
    "    - presence/absence of videos\n",
    "    - number of photos\n",
    "    - presence/absence of photos"
   ]
  },
  {
   "cell_type": "markdown",
   "metadata": {},
   "source": [
    "## Adoption Speed Distribution\n",
    "\n",
    "There are 10,230 dogs in the provided dataset. Of those dogs, the adoption rate distribution is as follows: "
   ]
  },
  {
   "cell_type": "code",
   "execution_count": null,
   "metadata": {},
   "outputs": [],
   "source": []
  },
  {
   "cell_type": "code",
   "execution_count": null,
   "metadata": {},
   "outputs": [],
   "source": []
  },
  {
   "cell_type": "code",
   "execution_count": null,
   "metadata": {},
   "outputs": [],
   "source": []
  },
  {
   "cell_type": "code",
   "execution_count": null,
   "metadata": {},
   "outputs": [],
   "source": []
  },
  {
   "cell_type": "code",
   "execution_count": null,
   "metadata": {},
   "outputs": [],
   "source": []
  },
  {
   "cell_type": "code",
   "execution_count": null,
   "metadata": {},
   "outputs": [],
   "source": []
  },
  {
   "cell_type": "markdown",
   "metadata": {},
   "source": [
    "Age was not addressed during data wrangling, and so a column to address life stages of the dogs will need to be added to the data for exploratory analysis. Typical age grouping for dogs is as follows: \n",
    "\n",
    "- Puppy: 0-6 months\n",
    "- Adolescent: 6-18 months\n",
    "- Adult: 18+ months\n",
    "- Senior:\n",
    "  - Small Dogs: 10-12 years (120-144 months)\n",
    "  - Medium Dogs: 9-11 years (108-132 months)\n",
    "  - Large Dogs: 8-10 years (96 -120 months)\n",
    "  - Giant Dogs: 5-7 years (60-84 months)\n",
    "  \n",
    "For the purposes of this data the cut offs will be defined as follows for \"senior\" animals\n",
    "\n",
    "- Small: 132 months\n",
    "- Medium: 120 months\n",
    "- Large : 108 months\n",
    "- Giant: 96 months\n",
    "\n",
    "Let's add a column for the life stage of the animal, \"lifestage\". "
   ]
  },
  {
   "cell_type": "code",
   "execution_count": null,
   "metadata": {},
   "outputs": [],
   "source": []
  }
 ],
 "metadata": {
  "kernelspec": {
   "display_name": "Python 3",
   "language": "python",
   "name": "python3"
  },
  "language_info": {
   "codemirror_mode": {
    "name": "ipython",
    "version": 3
   },
   "file_extension": ".py",
   "mimetype": "text/x-python",
   "name": "python",
   "nbconvert_exporter": "python",
   "pygments_lexer": "ipython3",
   "version": "3.7.4"
  }
 },
 "nbformat": 4,
 "nbformat_minor": 2
}
