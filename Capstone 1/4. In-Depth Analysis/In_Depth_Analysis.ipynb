{
 "cells": [
  {
   "cell_type": "markdown",
   "metadata": {},
   "source": [
    "# In-Depth Analysis\n",
    "\n",
    "At this point, it's time to apply some machine learning techniques to the data and try building some predictive models. We'll start by importing the data and libraries needed to start."
   ]
  },
  {
   "cell_type": "code",
   "execution_count": null,
   "metadata": {},
   "outputs": [],
   "source": [
    "#Import Libraries\n",
    "import numpy as np\n",
    "import pandas as pd\n",
    "import matplotlib.pyplot as plt\n",
    "import seaborn as sns\n",
    "from scipy import stats\n",
    "from sklearn.model_selection import train_test_split, StratifiedKFold \n",
    "from sklearn.neighbors import KNeighborsClassifier\n",
    "from sklearn.linear_model import LogisticRegression\n",
    "from sklearn.metrics import accuracy_score\n",
    "\n",
    "#MultinomialNB classifier\n",
    "from sklearn.naive_bayes import MultinomialNB\n",
    "\n",
    "#LightGBM\n",
    "import lightgbm as lgb\n",
    "import scipy as sp"
   ]
  },
  {
   "cell_type": "code",
   "execution_count": 2,
   "metadata": {},
   "outputs": [],
   "source": [
    "#Import data\n",
    "\n",
    "#File Names\n",
    "adoptfile  = 'tidy_data/adoption_speed.csv'\n",
    "colorfile  = 'tidy_data/color_labels.csv'\n",
    "wormfile   = 'tidy_data/dewormed.csv'\n",
    "breedfile  = 'tidy_data/dog_breeds.csv'\n",
    "datafile   = 'tidy_data/dog_data.csv'\n",
    "furfile    = 'tidy_data/fur_length.csv'\n",
    "healthfile = 'tidy_data/health.csv'\n",
    "sizefile   = 'tidy_data/size.csv'\n",
    "statefile  = 'tidy_data/state_labels.csv'\n",
    "fixedfile  = 'tidy_data/sterilized.csv'\n",
    "vacfile    = 'tidy_data/vaccine.csv'\n",
    "\n",
    "#Import Files\n",
    "adptspeed  = pd.read_csv(adoptfile)\n",
    "color      = pd.read_csv(colorfile)\n",
    "dewormed   = pd.read_csv(wormfile)\n",
    "breeds     = pd.read_csv(breedfile)\n",
    "dog_data   = pd.read_csv(datafile)\n",
    "fur_length = pd.read_csv(furfile)\n",
    "health     = pd.read_csv(healthfile)\n",
    "adult_size = pd.read_csv(sizefile)\n",
    "state=pd.read_csv(statefile)\n",
    "fixed = pd.read_csv(fixedfile)\n",
    "vaccinated = pd.read_csv(vacfile)"
   ]
  },
  {
   "cell_type": "code",
   "execution_count": 3,
   "metadata": {},
   "outputs": [],
   "source": [
    "#Separate dog_data into the original test data and training data files to work with\n",
    "dogs_orig_train = dog_data[dog_data.AdoptionSpeed.notnull()]\n",
    "dogs_orig_test = dog_data[dog_data.AdoptionSpeed.isnull()]\n",
    "\n",
    "#Save dogs_train and dogs_test as files for later use \n",
    "dogs_orig_train.to_csv(r'tidy_data/dogs_orig_train.csv',index=False)\n",
    "dogs_orig_test.to_csv(r'tidy_data/dogs_test.csv',index=False)"
   ]
  },
  {
   "cell_type": "code",
   "execution_count": 4,
   "metadata": {},
   "outputs": [
    {
     "name": "stdout",
     "output_type": "stream",
     "text": [
      "<class 'pandas.core.frame.DataFrame'>\n",
      "Int64Index: 8130 entries, 2100 to 10229\n",
      "Data columns (total 26 columns):\n",
      " #   Column         Non-Null Count  Dtype  \n",
      "---  ------         --------------  -----  \n",
      " 0   index          8130 non-null   int64  \n",
      " 1   Name           5768 non-null   object \n",
      " 2   Age            8130 non-null   int64  \n",
      " 3   Breed1         8130 non-null   int64  \n",
      " 4   Breed2         8130 non-null   int64  \n",
      " 5   BreedCount     8130 non-null   int64  \n",
      " 6   Gender         8130 non-null   int64  \n",
      " 7   Color1         8130 non-null   int64  \n",
      " 8   Color2         8130 non-null   int64  \n",
      " 9   Color3         8130 non-null   int64  \n",
      " 10  ColorCount     8130 non-null   int64  \n",
      " 11  MaturitySize   8130 non-null   int64  \n",
      " 12  FurLength      8130 non-null   int64  \n",
      " 13  Vaccinated     8130 non-null   int64  \n",
      " 14  Dewormed       8130 non-null   int64  \n",
      " 15  Sterilized     8130 non-null   int64  \n",
      " 16  Health         8130 non-null   int64  \n",
      " 17  Quantity       8130 non-null   int64  \n",
      " 18  Fee            8130 non-null   int64  \n",
      " 19  State          8130 non-null   int64  \n",
      " 20  RescuerID      8130 non-null   object \n",
      " 21  VideoAmt       8130 non-null   int64  \n",
      " 22  Description    8100 non-null   object \n",
      " 23  PetID          8130 non-null   object \n",
      " 24  PhotoAmt       8130 non-null   int64  \n",
      " 25  AdoptionSpeed  8130 non-null   float64\n",
      "dtypes: float64(1), int64(21), object(4)\n",
      "memory usage: 1.7+ MB\n"
     ]
    }
   ],
   "source": [
    "dogs = dogs_orig_train\n",
    "dogs.info()"
   ]
  },
  {
   "cell_type": "code",
   "execution_count": 5,
   "metadata": {},
   "outputs": [
    {
     "data": {
      "text/html": [
       "<div>\n",
       "<style scoped>\n",
       "    .dataframe tbody tr th:only-of-type {\n",
       "        vertical-align: middle;\n",
       "    }\n",
       "\n",
       "    .dataframe tbody tr th {\n",
       "        vertical-align: top;\n",
       "    }\n",
       "\n",
       "    .dataframe thead th {\n",
       "        text-align: right;\n",
       "    }\n",
       "</style>\n",
       "<table border=\"1\" class=\"dataframe\">\n",
       "  <thead>\n",
       "    <tr style=\"text-align: right;\">\n",
       "      <th></th>\n",
       "      <th>index</th>\n",
       "      <th>Name</th>\n",
       "      <th>Age</th>\n",
       "      <th>Breed1</th>\n",
       "      <th>Breed2</th>\n",
       "      <th>BreedCount</th>\n",
       "      <th>Gender</th>\n",
       "      <th>Color1</th>\n",
       "      <th>Color2</th>\n",
       "      <th>Color3</th>\n",
       "      <th>...</th>\n",
       "      <th>Quantity</th>\n",
       "      <th>Fee</th>\n",
       "      <th>State</th>\n",
       "      <th>RescuerID</th>\n",
       "      <th>VideoAmt</th>\n",
       "      <th>Description</th>\n",
       "      <th>PetID</th>\n",
       "      <th>PhotoAmt</th>\n",
       "      <th>AdoptionSpeed</th>\n",
       "      <th>Name_bool</th>\n",
       "    </tr>\n",
       "  </thead>\n",
       "  <tbody>\n",
       "    <tr>\n",
       "      <th>2100</th>\n",
       "      <td>2100</td>\n",
       "      <td>Brisco</td>\n",
       "      <td>1</td>\n",
       "      <td>307</td>\n",
       "      <td>0</td>\n",
       "      <td>1</td>\n",
       "      <td>1</td>\n",
       "      <td>2</td>\n",
       "      <td>7</td>\n",
       "      <td>0</td>\n",
       "      <td>...</td>\n",
       "      <td>1</td>\n",
       "      <td>0</td>\n",
       "      <td>41326</td>\n",
       "      <td>fa90fa5b1ee11c86938398b60abc32cb</td>\n",
       "      <td>0</td>\n",
       "      <td>Their pregnant mother was dumped by her irresp...</td>\n",
       "      <td>3422e4906</td>\n",
       "      <td>7</td>\n",
       "      <td>3.0</td>\n",
       "      <td>1</td>\n",
       "    </tr>\n",
       "    <tr>\n",
       "      <th>2101</th>\n",
       "      <td>2101</td>\n",
       "      <td>Miko</td>\n",
       "      <td>4</td>\n",
       "      <td>307</td>\n",
       "      <td>0</td>\n",
       "      <td>1</td>\n",
       "      <td>2</td>\n",
       "      <td>1</td>\n",
       "      <td>2</td>\n",
       "      <td>0</td>\n",
       "      <td>...</td>\n",
       "      <td>1</td>\n",
       "      <td>150</td>\n",
       "      <td>41401</td>\n",
       "      <td>9238e4f44c71a75282e62f7136c6b240</td>\n",
       "      <td>0</td>\n",
       "      <td>Good guard dog, very alert, active, obedience ...</td>\n",
       "      <td>5842f1ff5</td>\n",
       "      <td>8</td>\n",
       "      <td>2.0</td>\n",
       "      <td>1</td>\n",
       "    </tr>\n",
       "    <tr>\n",
       "      <th>2102</th>\n",
       "      <td>2102</td>\n",
       "      <td>Hunter</td>\n",
       "      <td>1</td>\n",
       "      <td>307</td>\n",
       "      <td>0</td>\n",
       "      <td>1</td>\n",
       "      <td>1</td>\n",
       "      <td>1</td>\n",
       "      <td>0</td>\n",
       "      <td>0</td>\n",
       "      <td>...</td>\n",
       "      <td>1</td>\n",
       "      <td>0</td>\n",
       "      <td>41326</td>\n",
       "      <td>95481e953f8aed9ec3d16fc4509537e8</td>\n",
       "      <td>0</td>\n",
       "      <td>This handsome yet cute boy is up for adoption....</td>\n",
       "      <td>850a43f90</td>\n",
       "      <td>3</td>\n",
       "      <td>2.0</td>\n",
       "      <td>1</td>\n",
       "    </tr>\n",
       "    <tr>\n",
       "      <th>2103</th>\n",
       "      <td>2103</td>\n",
       "      <td>Siu Pak</td>\n",
       "      <td>0</td>\n",
       "      <td>307</td>\n",
       "      <td>0</td>\n",
       "      <td>1</td>\n",
       "      <td>2</td>\n",
       "      <td>1</td>\n",
       "      <td>2</td>\n",
       "      <td>7</td>\n",
       "      <td>...</td>\n",
       "      <td>6</td>\n",
       "      <td>0</td>\n",
       "      <td>41326</td>\n",
       "      <td>1fba5f6e5480946254590d48f9c5198d</td>\n",
       "      <td>0</td>\n",
       "      <td>Siu Pak just give birth on 13/6/10 to 6puppies...</td>\n",
       "      <td>97aa9eeac</td>\n",
       "      <td>9</td>\n",
       "      <td>3.0</td>\n",
       "      <td>1</td>\n",
       "    </tr>\n",
       "    <tr>\n",
       "      <th>2104</th>\n",
       "      <td>2104</td>\n",
       "      <td>Bear</td>\n",
       "      <td>2</td>\n",
       "      <td>307</td>\n",
       "      <td>0</td>\n",
       "      <td>1</td>\n",
       "      <td>1</td>\n",
       "      <td>1</td>\n",
       "      <td>2</td>\n",
       "      <td>7</td>\n",
       "      <td>...</td>\n",
       "      <td>1</td>\n",
       "      <td>0</td>\n",
       "      <td>41401</td>\n",
       "      <td>9238e4f44c71a75282e62f7136c6b240</td>\n",
       "      <td>0</td>\n",
       "      <td>For serious adopter, please do sms or call for...</td>\n",
       "      <td>8b693ca84</td>\n",
       "      <td>7</td>\n",
       "      <td>1.0</td>\n",
       "      <td>1</td>\n",
       "    </tr>\n",
       "  </tbody>\n",
       "</table>\n",
       "<p>5 rows × 27 columns</p>\n",
       "</div>"
      ],
      "text/plain": [
       "      index     Name  Age  Breed1  Breed2  BreedCount  Gender  Color1  Color2  \\\n",
       "2100   2100   Brisco    1     307       0           1       1       2       7   \n",
       "2101   2101     Miko    4     307       0           1       2       1       2   \n",
       "2102   2102   Hunter    1     307       0           1       1       1       0   \n",
       "2103   2103  Siu Pak    0     307       0           1       2       1       2   \n",
       "2104   2104     Bear    2     307       0           1       1       1       2   \n",
       "\n",
       "      Color3  ...  Quantity  Fee  State                         RescuerID  \\\n",
       "2100       0  ...         1    0  41326  fa90fa5b1ee11c86938398b60abc32cb   \n",
       "2101       0  ...         1  150  41401  9238e4f44c71a75282e62f7136c6b240   \n",
       "2102       0  ...         1    0  41326  95481e953f8aed9ec3d16fc4509537e8   \n",
       "2103       7  ...         6    0  41326  1fba5f6e5480946254590d48f9c5198d   \n",
       "2104       7  ...         1    0  41401  9238e4f44c71a75282e62f7136c6b240   \n",
       "\n",
       "      VideoAmt                                        Description      PetID  \\\n",
       "2100         0  Their pregnant mother was dumped by her irresp...  3422e4906   \n",
       "2101         0  Good guard dog, very alert, active, obedience ...  5842f1ff5   \n",
       "2102         0  This handsome yet cute boy is up for adoption....  850a43f90   \n",
       "2103         0  Siu Pak just give birth on 13/6/10 to 6puppies...  97aa9eeac   \n",
       "2104         0  For serious adopter, please do sms or call for...  8b693ca84   \n",
       "\n",
       "      PhotoAmt  AdoptionSpeed  Name_bool  \n",
       "2100         7            3.0          1  \n",
       "2101         8            2.0          1  \n",
       "2102         3            2.0          1  \n",
       "2103         9            3.0          1  \n",
       "2104         7            1.0          1  \n",
       "\n",
       "[5 rows x 27 columns]"
      ]
     },
     "execution_count": 5,
     "metadata": {},
     "output_type": "execute_result"
    }
   ],
   "source": [
    "#Convert the names column to ordinal values 1 if named, 0 if not named and add a new column\n",
    "pd.options.mode.chained_assignment = None  # default='warn'\n",
    "dogs['Name_bool']=dogs.Name.notnull().astype(int)\n",
    "dogs.head()"
   ]
  },
  {
   "cell_type": "code",
   "execution_count": 6,
   "metadata": {},
   "outputs": [
    {
     "data": {
      "text/html": [
       "<div>\n",
       "<style scoped>\n",
       "    .dataframe tbody tr th:only-of-type {\n",
       "        vertical-align: middle;\n",
       "    }\n",
       "\n",
       "    .dataframe tbody tr th {\n",
       "        vertical-align: top;\n",
       "    }\n",
       "\n",
       "    .dataframe thead th {\n",
       "        text-align: right;\n",
       "    }\n",
       "</style>\n",
       "<table border=\"1\" class=\"dataframe\">\n",
       "  <thead>\n",
       "    <tr style=\"text-align: right;\">\n",
       "      <th></th>\n",
       "      <th>index</th>\n",
       "      <th>Name</th>\n",
       "      <th>Age</th>\n",
       "      <th>Breed1</th>\n",
       "      <th>Breed2</th>\n",
       "      <th>BreedCount</th>\n",
       "      <th>Gender</th>\n",
       "      <th>Color1</th>\n",
       "      <th>Color2</th>\n",
       "      <th>Color3</th>\n",
       "      <th>...</th>\n",
       "      <th>Fee</th>\n",
       "      <th>State</th>\n",
       "      <th>RescuerID</th>\n",
       "      <th>VideoAmt</th>\n",
       "      <th>Description</th>\n",
       "      <th>PetID</th>\n",
       "      <th>PhotoAmt</th>\n",
       "      <th>AdoptionSpeed</th>\n",
       "      <th>Name_bool</th>\n",
       "      <th>RescuerInt</th>\n",
       "    </tr>\n",
       "  </thead>\n",
       "  <tbody>\n",
       "    <tr>\n",
       "      <th>2100</th>\n",
       "      <td>2100</td>\n",
       "      <td>Brisco</td>\n",
       "      <td>1</td>\n",
       "      <td>307</td>\n",
       "      <td>0</td>\n",
       "      <td>1</td>\n",
       "      <td>1</td>\n",
       "      <td>2</td>\n",
       "      <td>7</td>\n",
       "      <td>0</td>\n",
       "      <td>...</td>\n",
       "      <td>0</td>\n",
       "      <td>41326</td>\n",
       "      <td>fa90fa5b1ee11c86938398b60abc32cb</td>\n",
       "      <td>0</td>\n",
       "      <td>Their pregnant mother was dumped by her irresp...</td>\n",
       "      <td>3422e4906</td>\n",
       "      <td>7</td>\n",
       "      <td>3.0</td>\n",
       "      <td>1</td>\n",
       "      <td>1</td>\n",
       "    </tr>\n",
       "    <tr>\n",
       "      <th>2101</th>\n",
       "      <td>2101</td>\n",
       "      <td>Miko</td>\n",
       "      <td>4</td>\n",
       "      <td>307</td>\n",
       "      <td>0</td>\n",
       "      <td>1</td>\n",
       "      <td>2</td>\n",
       "      <td>1</td>\n",
       "      <td>2</td>\n",
       "      <td>0</td>\n",
       "      <td>...</td>\n",
       "      <td>150</td>\n",
       "      <td>41401</td>\n",
       "      <td>9238e4f44c71a75282e62f7136c6b240</td>\n",
       "      <td>0</td>\n",
       "      <td>Good guard dog, very alert, active, obedience ...</td>\n",
       "      <td>5842f1ff5</td>\n",
       "      <td>8</td>\n",
       "      <td>2.0</td>\n",
       "      <td>1</td>\n",
       "      <td>2</td>\n",
       "    </tr>\n",
       "    <tr>\n",
       "      <th>2102</th>\n",
       "      <td>2102</td>\n",
       "      <td>Hunter</td>\n",
       "      <td>1</td>\n",
       "      <td>307</td>\n",
       "      <td>0</td>\n",
       "      <td>1</td>\n",
       "      <td>1</td>\n",
       "      <td>1</td>\n",
       "      <td>0</td>\n",
       "      <td>0</td>\n",
       "      <td>...</td>\n",
       "      <td>0</td>\n",
       "      <td>41326</td>\n",
       "      <td>95481e953f8aed9ec3d16fc4509537e8</td>\n",
       "      <td>0</td>\n",
       "      <td>This handsome yet cute boy is up for adoption....</td>\n",
       "      <td>850a43f90</td>\n",
       "      <td>3</td>\n",
       "      <td>2.0</td>\n",
       "      <td>1</td>\n",
       "      <td>3</td>\n",
       "    </tr>\n",
       "    <tr>\n",
       "      <th>2103</th>\n",
       "      <td>2103</td>\n",
       "      <td>Siu Pak</td>\n",
       "      <td>0</td>\n",
       "      <td>307</td>\n",
       "      <td>0</td>\n",
       "      <td>1</td>\n",
       "      <td>2</td>\n",
       "      <td>1</td>\n",
       "      <td>2</td>\n",
       "      <td>7</td>\n",
       "      <td>...</td>\n",
       "      <td>0</td>\n",
       "      <td>41326</td>\n",
       "      <td>1fba5f6e5480946254590d48f9c5198d</td>\n",
       "      <td>0</td>\n",
       "      <td>Siu Pak just give birth on 13/6/10 to 6puppies...</td>\n",
       "      <td>97aa9eeac</td>\n",
       "      <td>9</td>\n",
       "      <td>3.0</td>\n",
       "      <td>1</td>\n",
       "      <td>4</td>\n",
       "    </tr>\n",
       "    <tr>\n",
       "      <th>2104</th>\n",
       "      <td>2104</td>\n",
       "      <td>Bear</td>\n",
       "      <td>2</td>\n",
       "      <td>307</td>\n",
       "      <td>0</td>\n",
       "      <td>1</td>\n",
       "      <td>1</td>\n",
       "      <td>1</td>\n",
       "      <td>2</td>\n",
       "      <td>7</td>\n",
       "      <td>...</td>\n",
       "      <td>0</td>\n",
       "      <td>41401</td>\n",
       "      <td>9238e4f44c71a75282e62f7136c6b240</td>\n",
       "      <td>0</td>\n",
       "      <td>For serious adopter, please do sms or call for...</td>\n",
       "      <td>8b693ca84</td>\n",
       "      <td>7</td>\n",
       "      <td>1.0</td>\n",
       "      <td>1</td>\n",
       "      <td>2</td>\n",
       "    </tr>\n",
       "  </tbody>\n",
       "</table>\n",
       "<p>5 rows × 28 columns</p>\n",
       "</div>"
      ],
      "text/plain": [
       "      index     Name  Age  Breed1  Breed2  BreedCount  Gender  Color1  Color2  \\\n",
       "2100   2100   Brisco    1     307       0           1       1       2       7   \n",
       "2101   2101     Miko    4     307       0           1       2       1       2   \n",
       "2102   2102   Hunter    1     307       0           1       1       1       0   \n",
       "2103   2103  Siu Pak    0     307       0           1       2       1       2   \n",
       "2104   2104     Bear    2     307       0           1       1       1       2   \n",
       "\n",
       "      Color3  ...  Fee  State                         RescuerID  VideoAmt  \\\n",
       "2100       0  ...    0  41326  fa90fa5b1ee11c86938398b60abc32cb         0   \n",
       "2101       0  ...  150  41401  9238e4f44c71a75282e62f7136c6b240         0   \n",
       "2102       0  ...    0  41326  95481e953f8aed9ec3d16fc4509537e8         0   \n",
       "2103       7  ...    0  41326  1fba5f6e5480946254590d48f9c5198d         0   \n",
       "2104       7  ...    0  41401  9238e4f44c71a75282e62f7136c6b240         0   \n",
       "\n",
       "                                            Description      PetID  PhotoAmt  \\\n",
       "2100  Their pregnant mother was dumped by her irresp...  3422e4906         7   \n",
       "2101  Good guard dog, very alert, active, obedience ...  5842f1ff5         8   \n",
       "2102  This handsome yet cute boy is up for adoption....  850a43f90         3   \n",
       "2103  Siu Pak just give birth on 13/6/10 to 6puppies...  97aa9eeac         9   \n",
       "2104  For serious adopter, please do sms or call for...  8b693ca84         7   \n",
       "\n",
       "      AdoptionSpeed  Name_bool  RescuerInt  \n",
       "2100            3.0          1           1  \n",
       "2101            2.0          1           2  \n",
       "2102            2.0          1           3  \n",
       "2103            3.0          1           4  \n",
       "2104            1.0          1           2  \n",
       "\n",
       "[5 rows x 28 columns]"
      ]
     },
     "execution_count": 6,
     "metadata": {},
     "output_type": "execute_result"
    }
   ],
   "source": [
    "#Create a boolean version of Rescuers by mapping unique Rescuer ID to the dataframe to be used later for modeling\n",
    "r= pd.DataFrame() \n",
    "r['Rescuer']=dogs['RescuerID'].unique()\n",
    "r['Rescuer_Int']=range(1, 2945)\n",
    "s=dict(zip(r.Rescuer,r.Rescuer_Int))\n",
    "\n",
    "dogs['RescuerInt']=dogs['RescuerID'].map(s)\n",
    "dogs.head()"
   ]
  },
  {
   "cell_type": "code",
   "execution_count": 7,
   "metadata": {},
   "outputs": [
    {
     "name": "stdout",
     "output_type": "stream",
     "text": [
      "<class 'pandas.core.frame.DataFrame'>\n",
      "Int64Index: 8130 entries, 2100 to 10229\n",
      "Data columns (total 24 columns):\n",
      " #   Column         Non-Null Count  Dtype  \n",
      "---  ------         --------------  -----  \n",
      " 0   index          8130 non-null   int64  \n",
      " 1   Age            8130 non-null   int64  \n",
      " 2   Breed1         8130 non-null   int64  \n",
      " 3   Breed2         8130 non-null   int64  \n",
      " 4   BreedCount     8130 non-null   int64  \n",
      " 5   Gender         8130 non-null   int64  \n",
      " 6   Color1         8130 non-null   int64  \n",
      " 7   Color2         8130 non-null   int64  \n",
      " 8   Color3         8130 non-null   int64  \n",
      " 9   ColorCount     8130 non-null   int64  \n",
      " 10  MaturitySize   8130 non-null   int64  \n",
      " 11  FurLength      8130 non-null   int64  \n",
      " 12  Vaccinated     8130 non-null   int64  \n",
      " 13  Dewormed       8130 non-null   int64  \n",
      " 14  Sterilized     8130 non-null   int64  \n",
      " 15  Health         8130 non-null   int64  \n",
      " 16  Quantity       8130 non-null   int64  \n",
      " 17  Fee            8130 non-null   int64  \n",
      " 18  State          8130 non-null   int64  \n",
      " 19  VideoAmt       8130 non-null   int64  \n",
      " 20  PhotoAmt       8130 non-null   int64  \n",
      " 21  AdoptionSpeed  8130 non-null   float64\n",
      " 22  Name_bool      8130 non-null   int64  \n",
      " 23  RescuerInt     8130 non-null   int64  \n",
      "dtypes: float64(1), int64(23)\n",
      "memory usage: 1.6 MB\n"
     ]
    }
   ],
   "source": [
    "data = dogs.drop(['Name', 'Description','PetID','RescuerID'],axis=1)\n",
    "data.info()"
   ]
  },
  {
   "cell_type": "markdown",
   "metadata": {},
   "source": [
    "## Split the Data into Test and Train\n",
    "\n",
    "Rather than risk an imbalance when creating a test and data set, I'll perform a test train split using stratification. This will allow for consideration of the proprtion sizes of each of the most heavily weighted features. For this project, those include Breed, Gender, Age, Name presence or Absence, and Rescuer ID. However, as each of these features have instances where only 1 number is represented, the decision was made to stratify on adoption speed."
   ]
  },
  {
   "cell_type": "code",
   "execution_count": 8,
   "metadata": {},
   "outputs": [],
   "source": [
    "#Split the data into a model test and train data set, based on rescuer ID\n",
    "#First Split to save 10% of Data\n",
    "dtrain, dtest = train_test_split(data, test_size = 0.1,stratify=data['AdoptionSpeed'])"
   ]
  },
  {
   "cell_type": "markdown",
   "metadata": {},
   "source": [
    "Now let's verify the stratification has equal representations of adoption speed in each set. "
   ]
  },
  {
   "cell_type": "code",
   "execution_count": 9,
   "metadata": {},
   "outputs": [
    {
     "data": {
      "image/png": "[encoded data removed]",
      "text/plain": [
       "<Figure size 1152x432 with 2 Axes>"
      ]
     },
     "metadata": {
      "needs_background": "light"
     },
     "output_type": "display_data"
    }
   ],
   "source": [
    "#Define x-axis labels\n",
    "adpt_spd = adptspeed.AdoptionSpeed\n",
    "\n",
    "#Create Figure with 2 subplots\n",
    "fig, ax = plt.subplots(figsize = (16, 6))\n",
    "\n",
    "#Plot stratification of training set\n",
    "plt.subplot(1, 2, 1)\n",
    "c = sns.countplot(x='AdoptionSpeed', data=dtrain, palette= 'BuPu_r')\n",
    "plt.xticks([0,1,2,3,4], adpt_spd) \n",
    "plt.ylim([0,2400])\n",
    "plt.xlabel('Adoption Speed (Days)')\n",
    "plt.title ('Adoption Speed Stratification for the Training Set (90% Data)')\n",
    "\n",
    "#Percentages above training set \n",
    "ax=c.axes\n",
    "for p in ax.patches:\n",
    "     ax.annotate(f\"{p.get_height() * 100 / dtrain.shape[0]:.2f}%\", (p.get_x() + p.get_width() / 2., p.get_height()),\n",
    "         ha='center', va='center', fontsize=11, color='k', rotation=0, xytext=(0, 4),\n",
    "         textcoords='offset points')\n",
    "\n",
    "#Plot stratification of test set \n",
    "plt.subplot(1, 2, 2)\n",
    "\n",
    "c = sns.countplot(x='AdoptionSpeed', data=dtest, palette= 'BuPu_r')\n",
    "plt.xticks([0,1,2,3,4], adpt_spd) \n",
    "plt.ylim([0,2400])\n",
    "plt.xlabel('Adoption Speed (Days)')\n",
    "plt.title ('Adoption Speed Stratification for the Test Set (10% Data)')\n",
    "\n",
    "#Percentages above test set \n",
    "ax=c.axes\n",
    "for p in ax.patches:\n",
    "     ax.annotate(f\"{p.get_height() * 100 / dtest.shape[0]:.2f}%\", (p.get_x() + p.get_width() / 2., p.get_height()),\n",
    "         ha='center', va='center', fontsize=11, color='k', rotation=0, xytext=(0, 4),\n",
    "         textcoords='offset points')\n",
    "\n",
    "plt.show()"
   ]
  },
  {
   "cell_type": "markdown",
   "metadata": {},
   "source": [
    "For some model development, specific features will be chosen to test initially for speed purposes. These features will be chosen based on the results of the Statistical Data Analysis previously completed. These models will then be tested using the entirety of the dataset to determine if it performs better or worse having access to all features. \n"
   ]
  },
  {
   "cell_type": "code",
   "execution_count": 10,
   "metadata": {},
   "outputs": [],
   "source": [
    "#Second Split to allow for model development testing\n",
    "x, y = dtrain.loc[:, dtrain.columns != 'AdoptionSpeed'], dtrain['AdoptionSpeed']\n",
    "\n",
    "x_train, x_test, y_train, y_test = train_test_split(x, y, test_size=0.25, random_state=1, stratify=y)"
   ]
  },
  {
   "cell_type": "markdown",
   "metadata": {},
   "source": [
    "## Logistic Regression\n",
    "\n",
    "It's time to choose some Machine Learning models to apply to this data set. \n",
    "\n",
    "Application of a regression model may not yield great results, because several of the variables have non-linear relationships. However, it doesn't hurt to verify this. It's also entirely possible that a combination model using regression may prove useful. \n",
    "\n",
    "The model will be built by further splitting the test set, to ensure that the initial train data set doesn't lead to overfitting.  "
   ]
  },
  {
   "cell_type": "code",
   "execution_count": 71,
   "metadata": {},
   "outputs": [
    {
     "name": "stdout",
     "output_type": "stream",
     "text": [
      "0.38456284153005466\n"
     ]
    }
   ],
   "source": [
    "#Test the model on the highest correlated features \n",
    "xlr, xtestlr, ylr, ytestlr = train_test_split(dtrain[['RescuerInt','Breed1','Age','PhotoAmt']], \n",
    "                                              np.ravel(dtrain[['AdoptionSpeed']],order='C'),\n",
    "                                              stratify=dtrain['AdoptionSpeed'], \n",
    "                                              test_size=0.2,random_state=42)\n",
    "\n",
    "#Train Model on the Data\n",
    "logRegr.fit(xlr, ylr)\n",
    "#Print Accuracy\n",
    "print(accuracy_score(logRegr.predict(xtestlr), ytestlr))"
   ]
  },
  {
   "cell_type": "markdown",
   "metadata": {},
   "source": [
    "While it looks like the best choice is to perform regression on a combination of Breed, Age, and Rescuer ID, the result is still not very good. Let's expolore different solver options for the model and see if one is a better choice than the others before we apply this model to the entire set of features. \n"
   ]
  },
  {
   "cell_type": "code",
   "execution_count": 74,
   "metadata": {},
   "outputs": [
    {
     "name": "stdout",
     "output_type": "stream",
     "text": [
      "0.38456284153005466\n"
     ]
    }
   ],
   "source": [
    "#create model instance\n",
    "logRegr1 = LogisticRegression(solver='newton-cg',multi_class='ovr',max_iter=900000000)\n",
    "#Test the model on Rescuer ID, age, and breed \n",
    "xlr, xtestlr, ylr, ytestlr = train_test_split(dtrain[['RescuerInt','Breed1','Age','PhotoAmt']], \n",
    "                                              np.ravel(dtrain[['AdoptionSpeed']],order='C'),\n",
    "                                              stratify=dtrain['AdoptionSpeed'], \n",
    "                                              test_size=0.2,random_state=42)\n",
    "\n",
    "#Train Model on the Data\n",
    "logRegr1.fit(xlr, ylr)\n",
    "#Print Accuracy\n",
    "print(accuracy_score(logRegr1.predict(xtestlr), ytestlr))"
   ]
  },
  {
   "cell_type": "markdown",
   "metadata": {},
   "source": [
    "Because of the very large number of maximum interations necessary to ensure convergence, so this would not be an ideal choice for our model, and the score is the same as the default solver. "
   ]
  },
  {
   "cell_type": "code",
   "execution_count": 75,
   "metadata": {},
   "outputs": [
    {
     "name": "stdout",
     "output_type": "stream",
     "text": [
      "0.3831967213114754\n"
     ]
    }
   ],
   "source": [
    "#create model instance\n",
    "logRegr2 = LogisticRegression(solver='liblinear',multi_class='ovr')\n",
    "#Test the model on Rescuer ID, age, and breed \n",
    "xlr, xtestlr, ylr, ytestlr = train_test_split(dtrain[['RescuerInt','Breed1','Age','PhotoAmt']], \n",
    "                                              np.ravel(dtrain[['AdoptionSpeed']],order='C'),\n",
    "                                              stratify=dtrain['AdoptionSpeed'], \n",
    "                                              test_size=0.2,random_state=42)\n",
    "\n",
    "#Train Model on the Data\n",
    "logRegr2.fit(xlr, ylr)\n",
    "#Print Accuracy\n",
    "print(accuracy_score(logRegr2.predict(xtestlr), ytestlr))"
   ]
  },
  {
   "cell_type": "code",
   "execution_count": 76,
   "metadata": {},
   "outputs": [
    {
     "name": "stdout",
     "output_type": "stream",
     "text": [
      "0.3592896174863388\n"
     ]
    }
   ],
   "source": [
    "#create model instance\n",
    "logRegr3 = LogisticRegression(solver='saga',multi_class='ovr',max_iter=1000000)\n",
    "#Test the model on Rescuer ID, age, and breed \n",
    "xlr, xtestlr, ylr, ytestlr = train_test_split(dtrain[['RescuerInt','Breed1','Age','PhotoAmt']], \n",
    "                                              np.ravel(dtrain[['AdoptionSpeed']],order='C'),\n",
    "                                              stratify=dtrain['AdoptionSpeed'], \n",
    "                                              test_size=0.2,random_state=42)\n",
    "\n",
    "#Train Model on the Data\n",
    "logRegr3.fit(xlr, ylr)\n",
    "#Print Accuracy\n",
    "print(accuracy_score(logRegr3.predict(xtestlr), ytestlr))"
   ]
  },
  {
   "cell_type": "markdown",
   "metadata": {},
   "source": [
    "So it looks like the best choices for logistic regression is the either the default or the liblinear solver. Even using these choices an improved model will be needed, so let's explore some other options. \n",
    "\n",
    "Before moving on to a new model, let's try optimizing the one we're working with by optimizing the C parameter.\n",
    "\n",
    "K-fold cross validation was deliberatly not utilized here because of the imbalanced classifications and the small number of data points in some groups as compared to others, which would likely lead to accuracy errors. "
   ]
  },
  {
   "cell_type": "code",
   "execution_count": 77,
   "metadata": {},
   "outputs": [
    {
     "name": "stdout",
     "output_type": "stream",
     "text": [
      "C Score Values:  [0.3640710382513661, 0.37841530054644806, 0.3825136612021858, 0.38524590163934425, 0.38046448087431695]\n",
      "Best score:  0.38524590163934425\n",
      "C value that yields best score = 10\n"
     ]
    }
   ],
   "source": [
    "#Test the model on Rescuer ID, age, and breed \n",
    "xlr, xtestlr, ylr, ytestlr = train_test_split(dtrain[['RescuerInt','Breed1','Age','PhotoAmt']], \n",
    "                                              np.ravel(dtrain[['AdoptionSpeed']],order='C'),\n",
    "                                              stratify=dtrain['AdoptionSpeed'], \n",
    "                                              test_size=0.2,random_state=42)\n",
    "\n",
    "#Train Model on the Data\n",
    "#logRegr.fit(xlr, ylr)\n",
    "\n",
    "\n",
    "#the grid of parameters to search over\n",
    "Cs = [0.001, 0.1, 1, 10, 100]\n",
    "\n",
    "# your turn\n",
    "C_scores=[]\n",
    "\n",
    "for param in Cs:\n",
    "    clf = LogisticRegression(C=param,solver='liblinear',multi_class='ovr')\n",
    "    fit = clf.fit(xtestlr,ytestlr)\n",
    "    score = accuracy_score(clf.predict(xtestlr), ytestlr)\n",
    "    C_scores.append(score)\n",
    "\n",
    "max_score = max(C_scores)\n",
    "max_idx = C_scores.index(max(C_scores))\n",
    "highest_C = Cs[max_idx]\n",
    "\n",
    "print('C Score Values: ' , C_scores)\n",
    "print(\"Best score: \", max_score)\n",
    "print(\"C value that yields best score =\", highest_C)"
   ]
  },
  {
   "cell_type": "code",
   "execution_count": 78,
   "metadata": {},
   "outputs": [
    {
     "name": "stdout",
     "output_type": "stream",
     "text": [
      "C Score Values:  [0.3797814207650273, 0.3831967213114754, 0.383879781420765, 0.383879781420765, 0.383879781420765]\n",
      "Best score:  0.383879781420765\n",
      "C value that yields best score = 1\n"
     ]
    }
   ],
   "source": [
    "#the grid of parameters to search over\n",
    "Cs = [0.001, 0.1, 1, 10, 100]\n",
    "\n",
    "# initialize an empty array \n",
    "C_scores=[]\n",
    "\n",
    "#Run model over each C value in Cs\n",
    "for param in Cs:\n",
    "    clf = LogisticRegression(C=param,solver='lbfgs',multi_class='ovr')\n",
    "    fit = clf.fit(xtestlr,ytestlr)\n",
    "    score = accuracy_score(clf.predict(xtestlr), ytestlr)\n",
    "    C_scores.append(score)\n",
    "\n",
    "max_score = max(C_scores)\n",
    "max_idx = C_scores.index(max(C_scores))\n",
    "highest_C = Cs[max_idx]\n",
    "\n",
    "print('C Score Values: ' , C_scores)\n",
    "print(\"Best score: \", max_score)\n",
    "print(\"C value that yields best score =\", highest_C)"
   ]
  },
  {
   "cell_type": "markdown",
   "metadata": {},
   "source": [
    "Testing on both the saga and the lbfgs solver, it looks like the original liblinear solver model, without using the. C-parameter works best, giving an accuracy socre of 0.385 instead of the 0.383 yielded by optmizing the C value. Both scores are improved by tuning the hyperparameter C. \n",
    "\n",
    "Let's now perform a final test using both the liblinear and the default (lbfgs) solvers and access to all the features in the data set to see if the score can be further improved. "
   ]
  },
  {
   "cell_type": "code",
   "execution_count": 79,
   "metadata": {},
   "outputs": [
    {
     "name": "stdout",
     "output_type": "stream",
     "text": [
      "Logistic Regression, all features 0.3655737704918033\n"
     ]
    }
   ],
   "source": [
    "logRegr2.fit(x_train, y_train)\n",
    "#Print Accuracy\n",
    "print('Logistic Regression, all features', accuracy_score(logRegr2.predict(x_test), y_test))"
   ]
  },
  {
   "cell_type": "code",
   "execution_count": 88,
   "metadata": {},
   "outputs": [
    {
     "name": "stdout",
     "output_type": "stream",
     "text": [
      "C Score Values:  [0.3836065573770492, 0.3879781420765027, 0.3841530054644809, 0.3945355191256831, 0.38579234972677595, 0.38961748633879784]\n",
      "Best score:  0.3945355191256831\n",
      "C value that yields best score = 10\n"
     ]
    }
   ],
   "source": [
    "#the grid of parameters to search over\n",
    "Cs = [0.001, 0.1, 1, 10, 100]\n",
    "\n",
    "# initialize an empty array \n",
    "C_scores=[]\n",
    "\n",
    "#Run model over each C value in Cs\n",
    "for param in Cs:\n",
    "    clf = LogisticRegression(C=param,solver='lbfgs',multi_class='ovr', max_iter=10000)\n",
    "    fit = clf.fit(x_test,y_test)\n",
    "    score = accuracy_score(clf.predict(x_test), y_test)\n",
    "    C_scores.append(score)\n",
    "\n",
    "max_score = max(C_scores)\n",
    "max_idx = C_scores.index(max(C_scores))\n",
    "highest_C = Cs[max_idx]\n",
    "\n",
    "print('C Score Values: ' , C_scores)\n",
    "print(\"Best score: \", max_score)\n",
    "print(\"C value that yields best score =\", highest_C)"
   ]
  },
  {
   "cell_type": "code",
   "execution_count": 89,
   "metadata": {},
   "outputs": [
    {
     "name": "stdout",
     "output_type": "stream",
     "text": [
      "C Score Values:  [0.3830601092896175, 0.3836065573770492, 0.3819672131147541, 0.3836065573770492, 0.3836065573770492]\n",
      "Best score:  0.3836065573770492\n",
      "C value that yields best score = 0.1\n"
     ]
    }
   ],
   "source": [
    "#the grid of parameters to search over\n",
    "Cs = [0.001, 0.1, 1, 10, 100]\n",
    "\n",
    "# initialize an empty array \n",
    "C_scores=[]\n",
    "\n",
    "#Run model over each C value in Cs\n",
    "for param in Cs:\n",
    "    clf = LogisticRegression(C=param,solver='liblinear',multi_class='ovr')\n",
    "    fit = clf.fit(x_test,y_test)\n",
    "    score = accuracy_score(clf.predict(x_test), y_test)\n",
    "    C_scores.append(score)\n",
    "\n",
    "max_score = max(C_scores)\n",
    "max_idx = C_scores.index(max(C_scores))\n",
    "highest_C = Cs[max_idx]\n",
    "\n",
    "print('C Score Values: ' , C_scores)\n",
    "print(\"Best score: \", max_score)\n",
    "print(\"C value that yields best score =\", highest_C)"
   ]
  },
  {
   "cell_type": "markdown",
   "metadata": {},
   "source": [
    "So the best model for linear regression is found using an lbfgs solver with a C-value of 10. This is potentially not the best option, given the large number of maximum iterations. So both options may be considered if ensembling is used later. \n",
    "\n",
    "| Model | Score | C-Value | Solver| \n",
    "| --- | --- | --- | --- |\n",
    "|Logistic Regression| 0.38962 |10| lbfgs| \n",
    "|Logistic Regression| 0.38361| 0.1 | liblinear\n",
    "\n"
   ]
  },
  {
   "cell_type": "markdown",
   "metadata": {},
   "source": [
    "# Naive Bayes\n",
    "\n",
    "Let's now try applying Naive Bayes.\n",
    "\n",
    "Multinomial Naive Bayes will be used because the bulk of the data is categorical, and it tends to not be normally distributed. Gaussian was considered but because of the mix of variables, it was decided that the best choice would be multinomial. "
   ]
  },
  {
   "cell_type": "code",
   "execution_count": 90,
   "metadata": {},
   "outputs": [
    {
     "name": "stdout",
     "output_type": "stream",
     "text": [
      "Training Data Accuracy:  0.23947512301804263\n",
      "Testing Data Accuracy:   0.2191256830601093\n"
     ]
    }
   ],
   "source": [
    "#Define the Model \n",
    "NBclf = MultinomialNB()\n",
    "\n",
    "#Fit the Model \n",
    "NBclf_fit = NBclf.fit(x_train,y_train)\n",
    "\n",
    "#Print results of score \n",
    "print ('Training Data Accuracy: ', NBclf_fit.score(x_train,y_train))\n",
    "print ('Testing Data Accuracy:  ', NBclf_fit.score(x_test,y_test))"
   ]
  },
  {
   "cell_type": "markdown",
   "metadata": {},
   "source": [
    "This result is less accurate than the logistic regression model, so it's probably not worth pursing hyperparameter tuning. However, additional models will be explored and Naive Bayes can be returned to in the event that it proves more accurate than other choices. It is unlikely to be more accurate simply because of the lack of linearity in the dataset. "
   ]
  },
  {
   "cell_type": "markdown",
   "metadata": {},
   "source": [
    "| Model | Score | C-Value | Solver| \n",
    "| --- | --- | --- | --- |\n",
    "|Logistic Regression| 0.38962 |10| lbfgs| \n",
    "|Logistic Regression| 0.38361| 0.1 | liblinear|\n",
    "|Naive Bayes | 0.2191 | N/A | N/A |"
   ]
  },
  {
   "cell_type": "markdown",
   "metadata": {},
   "source": [
    "# Linear SVC"
   ]
  },
  {
   "cell_type": "code",
   "execution_count": null,
   "metadata": {},
   "outputs": [],
   "source": [
    "from sklearn.svm import LinearSVC\n",
    "\n",
    "#Create the model\n",
    "Lsvc = LinearSVC(random_state = 0, max_iter = 10000)\n",
    "\n",
    "\n",
    "#Test model on data \n",
    "Lsvc.fit(x_train, y_train)\n",
    "\n",
    "#Print results\n",
    "print ('Linear SVC all features', Lsvc.score(x_test,y_test))"
   ]
  },
  {
   "cell_type": "code",
   "execution_count": null,
   "metadata": {},
   "outputs": [],
   "source": []
  },
  {
   "cell_type": "code",
   "execution_count": null,
   "metadata": {},
   "outputs": [],
   "source": []
  },
  {
   "cell_type": "markdown",
   "metadata": {},
   "source": [
    "# SVM"
   ]
  },
  {
   "cell_type": "code",
   "execution_count": 37,
   "metadata": {},
   "outputs": [
    {
     "name": "stdout",
     "output_type": "stream",
     "text": [
      "[[  0  11   9   3  15]\n",
      " [  0  47  92  61 123]\n",
      " [  0  36 159 109 183]\n",
      " [  0  19 152 110 158]\n",
      " [  0  21 114  52 356]]\n",
      "              precision    recall  f1-score   support\n",
      "\n",
      "         0.0       0.00      0.00      0.00        38\n",
      "         1.0       0.35      0.15      0.21       323\n",
      "         2.0       0.30      0.33      0.31       487\n",
      "         3.0       0.33      0.25      0.28       439\n",
      "         4.0       0.43      0.66      0.52       543\n",
      "\n",
      "    accuracy                           0.37      1830\n",
      "   macro avg       0.28      0.28      0.26      1830\n",
      "weighted avg       0.35      0.37      0.34      1830\n",
      "\n"
     ]
    },
    {
     "name": "stderr",
     "output_type": "stream",
     "text": [
      "/Users/caitlinewing/opt/anaconda3/lib/python3.7/site-packages/sklearn/metrics/classification.py:1437: UndefinedMetricWarning: Precision and F-score are ill-defined and being set to 0.0 in labels with no predicted samples.\n",
      "  'precision', 'predicted', average, warn_for)\n"
     ]
    }
   ],
   "source": [
    "from sklearn.svm import SVC\n",
    "from sklearn.metrics import classification_report, confusion_matrix\n",
    "\n",
    "svclassifier = SVC(gamma='auto', kernel='linear')\n",
    "\n",
    "#All Features \n",
    "svclassifier.fit(x_train, y_train)\n",
    "y_pred = svclassifier.predict(x_test)\n",
    "\n",
    "\n",
    "print(confusion_matrix(y_test,y_pred))\n",
    "print(classification_report(y_test,y_pred))\n"
   ]
  },
  {
   "cell_type": "code",
   "execution_count": 70,
   "metadata": {},
   "outputs": [
    {
     "name": "stdout",
     "output_type": "stream",
     "text": [
      "0.36721311475409835\n"
     ]
    }
   ],
   "source": [
    "print(svclassifier.score(x_test,y_test))"
   ]
  },
  {
   "cell_type": "code",
   "execution_count": null,
   "metadata": {},
   "outputs": [],
   "source": []
  },
  {
   "cell_type": "markdown",
   "metadata": {},
   "source": [
    "# K Nearest Neighbors"
   ]
  },
  {
   "cell_type": "code",
   "execution_count": 26,
   "metadata": {},
   "outputs": [
    {
     "name": "stdout",
     "output_type": "stream",
     "text": [
      "KNN Score all features 0.2983606557377049\n",
      "KNN Score Specific Features 0.37636612021857924\n"
     ]
    }
   ],
   "source": [
    "from sklearn.neighbors import KNeighborsClassifier\n",
    "\n",
    "#Split Data\n",
    "xtrain, xtest, ytrain, ytest = train_test_split(dtrain[['RescuerInt']], \n",
    "                                              np.ravel(dtrain[['AdoptionSpeed']],order='C'),\n",
    "                                              stratify=dtrain['AdoptionSpeed'], \n",
    "                                              test_size=0.2,random_state=42)\n",
    "\n",
    "\n",
    "kNN=KNeighborsClassifier()\n",
    "\n",
    "kNN.fit(x_train,y_train)\n",
    "print ('KNN Score all features', kNN.score(x_test,y_test))\n",
    "\n",
    "kNN.fit(xtrain,ytrain)\n",
    "print ('KNN Score Specific Features', kNN.score(xtest,ytest))\n"
   ]
  },
  {
   "cell_type": "code",
   "execution_count": null,
   "metadata": {},
   "outputs": [],
   "source": []
  },
  {
   "cell_type": "code",
   "execution_count": null,
   "metadata": {},
   "outputs": [],
   "source": []
  },
  {
   "cell_type": "markdown",
   "metadata": {},
   "source": [
    "# Random Forest "
   ]
  },
  {
   "cell_type": "code",
   "execution_count": 27,
   "metadata": {},
   "outputs": [
    {
     "name": "stdout",
     "output_type": "stream",
     "text": [
      "Random Forest Score specific features 0.40095628415300544\n",
      "Random Forest Score all features 0.39672131147540984\n"
     ]
    }
   ],
   "source": [
    "from sklearn.ensemble import RandomForestClassifier\n",
    "\n",
    "RF = RandomForestClassifier(random_state = 0, n_estimators = 10)\n",
    "\n",
    "#Test model on specific features\n",
    "RF.fit(xtrain, ytrain)\n",
    "print ('Random Forest Score specific features', RF.score(xtest,ytest))\n",
    "\n",
    "#Test model on all features\n",
    "RF.fit(x_train, y_train)\n",
    "print ('Random Forest Score all features', RF.score(x_test,y_test))\n"
   ]
  },
  {
   "cell_type": "markdown",
   "metadata": {},
   "source": [
    "So far this is the best model, so it would likely be beneficial to pursue some hyperparameter tuning on the Random Forest Model. Let's start by tuning n_estimators. "
   ]
  },
  {
   "cell_type": "code",
   "execution_count": 41,
   "metadata": {},
   "outputs": [
    {
     "name": "stdout",
     "output_type": "stream",
     "text": [
      "N-Estimators Values:  [0.33825136612021856, 0.39672131147540984, 0.4459016393442623, 0.45081967213114754, 0.4524590163934426, 0.4546448087431694, 0.45846994535519126, 0.4601092896174863, 0.45737704918032784, 0.45901639344262296, 0.4601092896174863, 0.45792349726775955]\n",
      "Best score:  0.4601092896174863\n",
      "N-estimator value that yields best score = 126\n"
     ]
    }
   ],
   "source": [
    "#the grid of parameters to search over\n",
    "Ns = [1, 10, 50, 100, 110, 120, 125, 126, 127, 128, 129, 130]\n",
    "\n",
    "# initialize an empty array \n",
    "N_scores=[]\n",
    "\n",
    "#Run model over each C value in Cs\n",
    "for param in Ns:\n",
    "    RF = RandomForestClassifier(random_state = 0, n_estimators = param)\n",
    "    RF.fit(x_train, y_train)\n",
    "    score = RF.score(x_test,y_test)\n",
    "    N_scores.append(score)\n",
    "\n",
    "max_score = max(N_scores)\n",
    "max_idx = N_scores.index(max(N_scores))\n",
    "highest_N = Ns[max_idx]\n",
    "\n",
    "print('N-Estimators Values: ' , N_scores)\n",
    "print(\"Best score: \", max_score)\n",
    "print(\"N-estimator value that yields best score =\", highest_N)"
   ]
  },
  {
   "cell_type": "code",
   "execution_count": null,
   "metadata": {},
   "outputs": [],
   "source": []
  },
  {
   "cell_type": "code",
   "execution_count": null,
   "metadata": {},
   "outputs": [],
   "source": []
  },
  {
   "cell_type": "markdown",
   "metadata": {},
   "source": [
    "# Light GBM"
   ]
  },
  {
   "cell_type": "code",
   "execution_count": 53,
   "metadata": {},
   "outputs": [
    {
     "data": {
      "image/png": "[encoded data removed]",
      "text/plain": [
       "<Figure size 720x1224 with 1 Axes>"
      ]
     },
     "metadata": {
      "needs_background": "light"
     },
     "output_type": "display_data"
    }
   ],
   "source": [
    "from sklearn.feature_selection import SelectFromModel\n",
    "model = lgb.LGBMRegressor()\n",
    "model.fit(x_train, y_train)\n",
    "\n",
    "feature_imp = pd.DataFrame(sorted(zip(model.feature_importances_,x_train.columns)), columns=['Value','Feature'])\n",
    "\n",
    "plt.figure(figsize=(10, 17))\n",
    "sns.barplot(x=\"Value\", y=\"Feature\", data=feature_imp.sort_values(by=\"Value\", ascending=False))\n",
    "plt.title('LightGBM Features')\n",
    "plt.tight_layout()\n",
    "plt.show()\n",
    "\n",
    "\n",
    "features_selection = SelectFromModel(model, threshold='1.25*median') # The Threshold is the median of features importance*1.25 \n",
    "features_selection.fit(x_train, y_train)\n",
    "\n",
    "\n",
    "features_selection_support = features_selection.get_support()\n",
    "features_selection = x_train.loc[:,features_selection_support].columns.tolist()"
   ]
  },
  {
   "cell_type": "code",
   "execution_count": 69,
   "metadata": {},
   "outputs": [
    {
     "name": "stdout",
     "output_type": "stream",
     "text": [
      "LightGBM Score all features 0.24759627693691544\n"
     ]
    }
   ],
   "source": [
    "lgb_params = {\n",
    "'boosting_type': 'gbdt',\n",
    "'objective': 'regression',\n",
    "'learning_rate': 0.005,\n",
    "'subsample': .8,\n",
    "'colsample_bytree': 0.8,\n",
    "'min_split_gain': 0.006,\n",
    "'min_child_samples': 150,\n",
    "'min_child_weight': 0.1,\n",
    "'max_depth': 17,\n",
    "'n_estimators': 5000,\n",
    "'num_leaves': 80,\n",
    "}\n",
    "lgb_model = lgb.LGBMRegressor(**lgb_params)\n",
    "\n",
    "lgb_model.fit(x_train,y_train)\n",
    "\n",
    "#Prediction\n",
    "y_pred=lgb_model.predict(x_train.values)\n",
    "print ('LightGBM Score all features', lgb_model.score(x_test,y_test))\n"
   ]
  },
  {
   "cell_type": "code",
   "execution_count": null,
   "metadata": {},
   "outputs": [],
   "source": []
  },
  {
   "cell_type": "code",
   "execution_count": null,
   "metadata": {},
   "outputs": [],
   "source": []
  },
  {
   "cell_type": "markdown",
   "metadata": {},
   "source": [
    "# Model Scores \n",
    "\n",
    "| Model | Score | \n",
    "| --- | --- | \n",
    "| Random Forest| 0.4601| \n",
    "| Logistic Regression| 0.3836|\n",
    "| SVM| 0.3672| \n",
    "| kNN| 0.2984| \n",
    "|Linear SVC| 0.2778|\n",
    "|Light GBM | 0.2476 |\n",
    "| Naive Bayes| 0.2191| "
   ]
  },
  {
   "cell_type": "code",
   "execution_count": null,
   "metadata": {},
   "outputs": [],
   "source": []
  },
  {
   "cell_type": "code",
   "execution_count": null,
   "metadata": {},
   "outputs": [],
   "source": []
  },
  {
   "cell_type": "code",
   "execution_count": null,
   "metadata": {},
   "outputs": [],
   "source": []
  },
  {
   "cell_type": "code",
   "execution_count": null,
   "metadata": {},
   "outputs": [],
   "source": []
  },
  {
   "cell_type": "code",
   "execution_count": null,
   "metadata": {},
   "outputs": [],
   "source": []
  }
 ],
 "metadata": {
  "kernelspec": {
   "display_name": "Python 3",
   "language": "python",
   "name": "python3"
  },
  "language_info": {
   "codemirror_mode": {
    "name": "ipython",
    "version": 3
   },
   "file_extension": ".py",
   "mimetype": "text/x-python",
   "name": "python",
   "nbconvert_exporter": "python",
   "pygments_lexer": "ipython3",
   "version": "3.7.9"
  }
 },
 "nbformat": 4,
 "nbformat_minor": 2
}
