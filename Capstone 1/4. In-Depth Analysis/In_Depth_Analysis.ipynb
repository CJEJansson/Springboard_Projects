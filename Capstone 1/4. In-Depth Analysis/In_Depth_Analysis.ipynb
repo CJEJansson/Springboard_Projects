{
 "cells": [
  {
   "cell_type": "markdown",
   "metadata": {},
   "source": [
    "# In-Depth Analysis\n",
    "\n",
    "At this point, it's time to apply some machine learning techniques to the data and try building some predictive models. We'll start by importing the data and libraries needed to start."
   ]
  },
  {
   "cell_type": "code",
   "execution_count": 15,
   "metadata": {},
   "outputs": [],
   "source": [
    "#Import Libraries\n",
    "import numpy as np\n",
    "import pandas as pd\n",
    "import matplotlib.pyplot as plt\n",
    "import seaborn as sns\n",
    "from scipy import stats\n",
    "\n",
    "\n",
    "#Test-Train Split and Confusion Matrix\n",
    "from sklearn.model_selection import train_test_split, StratifiedKFold \n",
    "from sklearn.metrics import accuracy_score, classification_report, confusion_matrix\n",
    "\n",
    "#Logistic Regression\n",
    "from sklearn.linear_model import LogisticRegression\n",
    "\n",
    "#MultinomialNB classifier\n",
    "from sklearn.naive_bayes import MultinomialNB\n",
    "\n",
    "#LightGBM\n",
    "import lightgbm as lgb\n",
    "import scipy as sp\n",
    "from sklearn.feature_selection import SelectFromModel\n",
    "\n",
    "#KNN\n",
    "from sklearn.neighbors import KNeighborsClassifier\n",
    "\n",
    "#SVC\n",
    "from sklearn.svm import LinearSVC, SVC\n",
    "from sklearn.metrics import classification_report, confusion_matrix\n",
    "\n",
    "#Random Forest\n",
    "from sklearn.ensemble import RandomForestClassifier\n",
    "\n"
   ]
  },
  {
   "cell_type": "code",
   "execution_count": 2,
   "metadata": {},
   "outputs": [],
   "source": [
    "#Import data\n",
    "\n",
    "#File Names\n",
    "adoptfile  = 'tidy_data/adoption_speed.csv'\n",
    "colorfile  = 'tidy_data/color_labels.csv'\n",
    "wormfile   = 'tidy_data/dewormed.csv'\n",
    "breedfile  = 'tidy_data/dog_breeds.csv'\n",
    "datafile   = 'tidy_data/dog_data.csv'\n",
    "furfile    = 'tidy_data/fur_length.csv'\n",
    "healthfile = 'tidy_data/health.csv'\n",
    "sizefile   = 'tidy_data/size.csv'\n",
    "statefile  = 'tidy_data/state_labels.csv'\n",
    "fixedfile  = 'tidy_data/sterilized.csv'\n",
    "vacfile    = 'tidy_data/vaccine.csv'\n",
    "\n",
    "#Import Files\n",
    "adptspeed  = pd.read_csv(adoptfile)\n",
    "color      = pd.read_csv(colorfile)\n",
    "dewormed   = pd.read_csv(wormfile)\n",
    "breeds     = pd.read_csv(breedfile)\n",
    "dog_data   = pd.read_csv(datafile)\n",
    "fur_length = pd.read_csv(furfile)\n",
    "health     = pd.read_csv(healthfile)\n",
    "adult_size = pd.read_csv(sizefile)\n",
    "state=pd.read_csv(statefile)\n",
    "fixed = pd.read_csv(fixedfile)\n",
    "vaccinated = pd.read_csv(vacfile)"
   ]
  },
  {
   "cell_type": "code",
   "execution_count": 3,
   "metadata": {},
   "outputs": [],
   "source": [
    "#Separate dog_data into the original test data and training data files to work with\n",
    "dogs_orig_train = dog_data[dog_data.AdoptionSpeed.notnull()]\n",
    "dogs_orig_test = dog_data[dog_data.AdoptionSpeed.isnull()]\n",
    "\n",
    "#Save dogs_train and dogs_test as files for later use \n",
    "dogs_orig_train.to_csv(r'tidy_data/dogs_orig_train.csv',index=False)\n",
    "dogs_orig_test.to_csv(r'tidy_data/dogs_test.csv',index=False)"
   ]
  },
  {
   "cell_type": "code",
   "execution_count": 4,
   "metadata": {},
   "outputs": [
    {
     "name": "stdout",
     "output_type": "stream",
     "text": [
      "<class 'pandas.core.frame.DataFrame'>\n",
      "Int64Index: 8130 entries, 2100 to 10229\n",
      "Data columns (total 26 columns):\n",
      " #   Column         Non-Null Count  Dtype  \n",
      "---  ------         --------------  -----  \n",
      " 0   index          8130 non-null   int64  \n",
      " 1   Name           5768 non-null   object \n",
      " 2   Age            8130 non-null   int64  \n",
      " 3   Breed1         8130 non-null   int64  \n",
      " 4   Breed2         8130 non-null   int64  \n",
      " 5   BreedCount     8130 non-null   int64  \n",
      " 6   Gender         8130 non-null   int64  \n",
      " 7   Color1         8130 non-null   int64  \n",
      " 8   Color2         8130 non-null   int64  \n",
      " 9   Color3         8130 non-null   int64  \n",
      " 10  ColorCount     8130 non-null   int64  \n",
      " 11  MaturitySize   8130 non-null   int64  \n",
      " 12  FurLength      8130 non-null   int64  \n",
      " 13  Vaccinated     8130 non-null   int64  \n",
      " 14  Dewormed       8130 non-null   int64  \n",
      " 15  Sterilized     8130 non-null   int64  \n",
      " 16  Health         8130 non-null   int64  \n",
      " 17  Quantity       8130 non-null   int64  \n",
      " 18  Fee            8130 non-null   int64  \n",
      " 19  State          8130 non-null   int64  \n",
      " 20  RescuerID      8130 non-null   object \n",
      " 21  VideoAmt       8130 non-null   int64  \n",
      " 22  Description    8100 non-null   object \n",
      " 23  PetID          8130 non-null   object \n",
      " 24  PhotoAmt       8130 non-null   int64  \n",
      " 25  AdoptionSpeed  8130 non-null   float64\n",
      "dtypes: float64(1), int64(21), object(4)\n",
      "memory usage: 1.7+ MB\n"
     ]
    }
   ],
   "source": [
    "dogs = dogs_orig_train\n",
    "dogs.info()"
   ]
  },
  {
   "cell_type": "markdown",
   "metadata": {},
   "source": [
    "Due to the nature of the data, some of it will have to be converted to ordinal, or it won't work with certain machine learning models, lets perform that step now. Both the names and the Rescuer ID will need to be converted to integer values. A binary schema will be used to indicate presence/absence of names with zero being an unnamed animal. Rescuer ID will have to be converted into unique integer values that are randomly assigned. "
   ]
  },
  {
   "cell_type": "code",
   "execution_count": 5,
   "metadata": {},
   "outputs": [
    {
     "data": {
      "text/html": [
       "<div>\n",
       "<style scoped>\n",
       "    .dataframe tbody tr th:only-of-type {\n",
       "        vertical-align: middle;\n",
       "    }\n",
       "\n",
       "    .dataframe tbody tr th {\n",
       "        vertical-align: top;\n",
       "    }\n",
       "\n",
       "    .dataframe thead th {\n",
       "        text-align: right;\n",
       "    }\n",
       "</style>\n",
       "<table border=\"1\" class=\"dataframe\">\n",
       "  <thead>\n",
       "    <tr style=\"text-align: right;\">\n",
       "      <th></th>\n",
       "      <th>index</th>\n",
       "      <th>Name</th>\n",
       "      <th>Age</th>\n",
       "      <th>Breed1</th>\n",
       "      <th>Breed2</th>\n",
       "      <th>BreedCount</th>\n",
       "      <th>Gender</th>\n",
       "      <th>Color1</th>\n",
       "      <th>Color2</th>\n",
       "      <th>Color3</th>\n",
       "      <th>...</th>\n",
       "      <th>Quantity</th>\n",
       "      <th>Fee</th>\n",
       "      <th>State</th>\n",
       "      <th>RescuerID</th>\n",
       "      <th>VideoAmt</th>\n",
       "      <th>Description</th>\n",
       "      <th>PetID</th>\n",
       "      <th>PhotoAmt</th>\n",
       "      <th>AdoptionSpeed</th>\n",
       "      <th>Name_bool</th>\n",
       "    </tr>\n",
       "  </thead>\n",
       "  <tbody>\n",
       "    <tr>\n",
       "      <th>2100</th>\n",
       "      <td>2100</td>\n",
       "      <td>Brisco</td>\n",
       "      <td>1</td>\n",
       "      <td>307</td>\n",
       "      <td>0</td>\n",
       "      <td>1</td>\n",
       "      <td>1</td>\n",
       "      <td>2</td>\n",
       "      <td>7</td>\n",
       "      <td>0</td>\n",
       "      <td>...</td>\n",
       "      <td>1</td>\n",
       "      <td>0</td>\n",
       "      <td>41326</td>\n",
       "      <td>fa90fa5b1ee11c86938398b60abc32cb</td>\n",
       "      <td>0</td>\n",
       "      <td>Their pregnant mother was dumped by her irresp...</td>\n",
       "      <td>3422e4906</td>\n",
       "      <td>7</td>\n",
       "      <td>3.0</td>\n",
       "      <td>1</td>\n",
       "    </tr>\n",
       "    <tr>\n",
       "      <th>2101</th>\n",
       "      <td>2101</td>\n",
       "      <td>Miko</td>\n",
       "      <td>4</td>\n",
       "      <td>307</td>\n",
       "      <td>0</td>\n",
       "      <td>1</td>\n",
       "      <td>2</td>\n",
       "      <td>1</td>\n",
       "      <td>2</td>\n",
       "      <td>0</td>\n",
       "      <td>...</td>\n",
       "      <td>1</td>\n",
       "      <td>150</td>\n",
       "      <td>41401</td>\n",
       "      <td>9238e4f44c71a75282e62f7136c6b240</td>\n",
       "      <td>0</td>\n",
       "      <td>Good guard dog, very alert, active, obedience ...</td>\n",
       "      <td>5842f1ff5</td>\n",
       "      <td>8</td>\n",
       "      <td>2.0</td>\n",
       "      <td>1</td>\n",
       "    </tr>\n",
       "    <tr>\n",
       "      <th>2102</th>\n",
       "      <td>2102</td>\n",
       "      <td>Hunter</td>\n",
       "      <td>1</td>\n",
       "      <td>307</td>\n",
       "      <td>0</td>\n",
       "      <td>1</td>\n",
       "      <td>1</td>\n",
       "      <td>1</td>\n",
       "      <td>0</td>\n",
       "      <td>0</td>\n",
       "      <td>...</td>\n",
       "      <td>1</td>\n",
       "      <td>0</td>\n",
       "      <td>41326</td>\n",
       "      <td>95481e953f8aed9ec3d16fc4509537e8</td>\n",
       "      <td>0</td>\n",
       "      <td>This handsome yet cute boy is up for adoption....</td>\n",
       "      <td>850a43f90</td>\n",
       "      <td>3</td>\n",
       "      <td>2.0</td>\n",
       "      <td>1</td>\n",
       "    </tr>\n",
       "    <tr>\n",
       "      <th>2103</th>\n",
       "      <td>2103</td>\n",
       "      <td>Siu Pak</td>\n",
       "      <td>0</td>\n",
       "      <td>307</td>\n",
       "      <td>0</td>\n",
       "      <td>1</td>\n",
       "      <td>2</td>\n",
       "      <td>1</td>\n",
       "      <td>2</td>\n",
       "      <td>7</td>\n",
       "      <td>...</td>\n",
       "      <td>6</td>\n",
       "      <td>0</td>\n",
       "      <td>41326</td>\n",
       "      <td>1fba5f6e5480946254590d48f9c5198d</td>\n",
       "      <td>0</td>\n",
       "      <td>Siu Pak just give birth on 13/6/10 to 6puppies...</td>\n",
       "      <td>97aa9eeac</td>\n",
       "      <td>9</td>\n",
       "      <td>3.0</td>\n",
       "      <td>1</td>\n",
       "    </tr>\n",
       "    <tr>\n",
       "      <th>2104</th>\n",
       "      <td>2104</td>\n",
       "      <td>Bear</td>\n",
       "      <td>2</td>\n",
       "      <td>307</td>\n",
       "      <td>0</td>\n",
       "      <td>1</td>\n",
       "      <td>1</td>\n",
       "      <td>1</td>\n",
       "      <td>2</td>\n",
       "      <td>7</td>\n",
       "      <td>...</td>\n",
       "      <td>1</td>\n",
       "      <td>0</td>\n",
       "      <td>41401</td>\n",
       "      <td>9238e4f44c71a75282e62f7136c6b240</td>\n",
       "      <td>0</td>\n",
       "      <td>For serious adopter, please do sms or call for...</td>\n",
       "      <td>8b693ca84</td>\n",
       "      <td>7</td>\n",
       "      <td>1.0</td>\n",
       "      <td>1</td>\n",
       "    </tr>\n",
       "  </tbody>\n",
       "</table>\n",
       "<p>5 rows × 27 columns</p>\n",
       "</div>"
      ],
      "text/plain": [
       "      index     Name  Age  Breed1  Breed2  BreedCount  Gender  Color1  Color2  \\\n",
       "2100   2100   Brisco    1     307       0           1       1       2       7   \n",
       "2101   2101     Miko    4     307       0           1       2       1       2   \n",
       "2102   2102   Hunter    1     307       0           1       1       1       0   \n",
       "2103   2103  Siu Pak    0     307       0           1       2       1       2   \n",
       "2104   2104     Bear    2     307       0           1       1       1       2   \n",
       "\n",
       "      Color3  ...  Quantity  Fee  State                         RescuerID  \\\n",
       "2100       0  ...         1    0  41326  fa90fa5b1ee11c86938398b60abc32cb   \n",
       "2101       0  ...         1  150  41401  9238e4f44c71a75282e62f7136c6b240   \n",
       "2102       0  ...         1    0  41326  95481e953f8aed9ec3d16fc4509537e8   \n",
       "2103       7  ...         6    0  41326  1fba5f6e5480946254590d48f9c5198d   \n",
       "2104       7  ...         1    0  41401  9238e4f44c71a75282e62f7136c6b240   \n",
       "\n",
       "      VideoAmt                                        Description      PetID  \\\n",
       "2100         0  Their pregnant mother was dumped by her irresp...  3422e4906   \n",
       "2101         0  Good guard dog, very alert, active, obedience ...  5842f1ff5   \n",
       "2102         0  This handsome yet cute boy is up for adoption....  850a43f90   \n",
       "2103         0  Siu Pak just give birth on 13/6/10 to 6puppies...  97aa9eeac   \n",
       "2104         0  For serious adopter, please do sms or call for...  8b693ca84   \n",
       "\n",
       "      PhotoAmt  AdoptionSpeed  Name_bool  \n",
       "2100         7            3.0          1  \n",
       "2101         8            2.0          1  \n",
       "2102         3            2.0          1  \n",
       "2103         9            3.0          1  \n",
       "2104         7            1.0          1  \n",
       "\n",
       "[5 rows x 27 columns]"
      ]
     },
     "execution_count": 5,
     "metadata": {},
     "output_type": "execute_result"
    }
   ],
   "source": [
    "#Convert the names column to ordinal values 1 if named, 0 if not named and add a new column\n",
    "pd.options.mode.chained_assignment = None  # default='warn'\n",
    "dogs['Name_bool']=dogs.Name.notnull().astype(int)\n",
    "dogs.head()"
   ]
  },
  {
   "cell_type": "code",
   "execution_count": 6,
   "metadata": {},
   "outputs": [
    {
     "data": {
      "text/html": [
       "<div>\n",
       "<style scoped>\n",
       "    .dataframe tbody tr th:only-of-type {\n",
       "        vertical-align: middle;\n",
       "    }\n",
       "\n",
       "    .dataframe tbody tr th {\n",
       "        vertical-align: top;\n",
       "    }\n",
       "\n",
       "    .dataframe thead th {\n",
       "        text-align: right;\n",
       "    }\n",
       "</style>\n",
       "<table border=\"1\" class=\"dataframe\">\n",
       "  <thead>\n",
       "    <tr style=\"text-align: right;\">\n",
       "      <th></th>\n",
       "      <th>index</th>\n",
       "      <th>Name</th>\n",
       "      <th>Age</th>\n",
       "      <th>Breed1</th>\n",
       "      <th>Breed2</th>\n",
       "      <th>BreedCount</th>\n",
       "      <th>Gender</th>\n",
       "      <th>Color1</th>\n",
       "      <th>Color2</th>\n",
       "      <th>Color3</th>\n",
       "      <th>...</th>\n",
       "      <th>Fee</th>\n",
       "      <th>State</th>\n",
       "      <th>RescuerID</th>\n",
       "      <th>VideoAmt</th>\n",
       "      <th>Description</th>\n",
       "      <th>PetID</th>\n",
       "      <th>PhotoAmt</th>\n",
       "      <th>AdoptionSpeed</th>\n",
       "      <th>Name_bool</th>\n",
       "      <th>RescuerInt</th>\n",
       "    </tr>\n",
       "  </thead>\n",
       "  <tbody>\n",
       "    <tr>\n",
       "      <th>2100</th>\n",
       "      <td>2100</td>\n",
       "      <td>Brisco</td>\n",
       "      <td>1</td>\n",
       "      <td>307</td>\n",
       "      <td>0</td>\n",
       "      <td>1</td>\n",
       "      <td>1</td>\n",
       "      <td>2</td>\n",
       "      <td>7</td>\n",
       "      <td>0</td>\n",
       "      <td>...</td>\n",
       "      <td>0</td>\n",
       "      <td>41326</td>\n",
       "      <td>fa90fa5b1ee11c86938398b60abc32cb</td>\n",
       "      <td>0</td>\n",
       "      <td>Their pregnant mother was dumped by her irresp...</td>\n",
       "      <td>3422e4906</td>\n",
       "      <td>7</td>\n",
       "      <td>3.0</td>\n",
       "      <td>1</td>\n",
       "      <td>1</td>\n",
       "    </tr>\n",
       "    <tr>\n",
       "      <th>2101</th>\n",
       "      <td>2101</td>\n",
       "      <td>Miko</td>\n",
       "      <td>4</td>\n",
       "      <td>307</td>\n",
       "      <td>0</td>\n",
       "      <td>1</td>\n",
       "      <td>2</td>\n",
       "      <td>1</td>\n",
       "      <td>2</td>\n",
       "      <td>0</td>\n",
       "      <td>...</td>\n",
       "      <td>150</td>\n",
       "      <td>41401</td>\n",
       "      <td>9238e4f44c71a75282e62f7136c6b240</td>\n",
       "      <td>0</td>\n",
       "      <td>Good guard dog, very alert, active, obedience ...</td>\n",
       "      <td>5842f1ff5</td>\n",
       "      <td>8</td>\n",
       "      <td>2.0</td>\n",
       "      <td>1</td>\n",
       "      <td>2</td>\n",
       "    </tr>\n",
       "    <tr>\n",
       "      <th>2102</th>\n",
       "      <td>2102</td>\n",
       "      <td>Hunter</td>\n",
       "      <td>1</td>\n",
       "      <td>307</td>\n",
       "      <td>0</td>\n",
       "      <td>1</td>\n",
       "      <td>1</td>\n",
       "      <td>1</td>\n",
       "      <td>0</td>\n",
       "      <td>0</td>\n",
       "      <td>...</td>\n",
       "      <td>0</td>\n",
       "      <td>41326</td>\n",
       "      <td>95481e953f8aed9ec3d16fc4509537e8</td>\n",
       "      <td>0</td>\n",
       "      <td>This handsome yet cute boy is up for adoption....</td>\n",
       "      <td>850a43f90</td>\n",
       "      <td>3</td>\n",
       "      <td>2.0</td>\n",
       "      <td>1</td>\n",
       "      <td>3</td>\n",
       "    </tr>\n",
       "    <tr>\n",
       "      <th>2103</th>\n",
       "      <td>2103</td>\n",
       "      <td>Siu Pak</td>\n",
       "      <td>0</td>\n",
       "      <td>307</td>\n",
       "      <td>0</td>\n",
       "      <td>1</td>\n",
       "      <td>2</td>\n",
       "      <td>1</td>\n",
       "      <td>2</td>\n",
       "      <td>7</td>\n",
       "      <td>...</td>\n",
       "      <td>0</td>\n",
       "      <td>41326</td>\n",
       "      <td>1fba5f6e5480946254590d48f9c5198d</td>\n",
       "      <td>0</td>\n",
       "      <td>Siu Pak just give birth on 13/6/10 to 6puppies...</td>\n",
       "      <td>97aa9eeac</td>\n",
       "      <td>9</td>\n",
       "      <td>3.0</td>\n",
       "      <td>1</td>\n",
       "      <td>4</td>\n",
       "    </tr>\n",
       "    <tr>\n",
       "      <th>2104</th>\n",
       "      <td>2104</td>\n",
       "      <td>Bear</td>\n",
       "      <td>2</td>\n",
       "      <td>307</td>\n",
       "      <td>0</td>\n",
       "      <td>1</td>\n",
       "      <td>1</td>\n",
       "      <td>1</td>\n",
       "      <td>2</td>\n",
       "      <td>7</td>\n",
       "      <td>...</td>\n",
       "      <td>0</td>\n",
       "      <td>41401</td>\n",
       "      <td>9238e4f44c71a75282e62f7136c6b240</td>\n",
       "      <td>0</td>\n",
       "      <td>For serious adopter, please do sms or call for...</td>\n",
       "      <td>8b693ca84</td>\n",
       "      <td>7</td>\n",
       "      <td>1.0</td>\n",
       "      <td>1</td>\n",
       "      <td>2</td>\n",
       "    </tr>\n",
       "  </tbody>\n",
       "</table>\n",
       "<p>5 rows × 28 columns</p>\n",
       "</div>"
      ],
      "text/plain": [
       "      index     Name  Age  Breed1  Breed2  BreedCount  Gender  Color1  Color2  \\\n",
       "2100   2100   Brisco    1     307       0           1       1       2       7   \n",
       "2101   2101     Miko    4     307       0           1       2       1       2   \n",
       "2102   2102   Hunter    1     307       0           1       1       1       0   \n",
       "2103   2103  Siu Pak    0     307       0           1       2       1       2   \n",
       "2104   2104     Bear    2     307       0           1       1       1       2   \n",
       "\n",
       "      Color3  ...  Fee  State                         RescuerID  VideoAmt  \\\n",
       "2100       0  ...    0  41326  fa90fa5b1ee11c86938398b60abc32cb         0   \n",
       "2101       0  ...  150  41401  9238e4f44c71a75282e62f7136c6b240         0   \n",
       "2102       0  ...    0  41326  95481e953f8aed9ec3d16fc4509537e8         0   \n",
       "2103       7  ...    0  41326  1fba5f6e5480946254590d48f9c5198d         0   \n",
       "2104       7  ...    0  41401  9238e4f44c71a75282e62f7136c6b240         0   \n",
       "\n",
       "                                            Description      PetID  PhotoAmt  \\\n",
       "2100  Their pregnant mother was dumped by her irresp...  3422e4906         7   \n",
       "2101  Good guard dog, very alert, active, obedience ...  5842f1ff5         8   \n",
       "2102  This handsome yet cute boy is up for adoption....  850a43f90         3   \n",
       "2103  Siu Pak just give birth on 13/6/10 to 6puppies...  97aa9eeac         9   \n",
       "2104  For serious adopter, please do sms or call for...  8b693ca84         7   \n",
       "\n",
       "      AdoptionSpeed  Name_bool  RescuerInt  \n",
       "2100            3.0          1           1  \n",
       "2101            2.0          1           2  \n",
       "2102            2.0          1           3  \n",
       "2103            3.0          1           4  \n",
       "2104            1.0          1           2  \n",
       "\n",
       "[5 rows x 28 columns]"
      ]
     },
     "execution_count": 6,
     "metadata": {},
     "output_type": "execute_result"
    }
   ],
   "source": [
    "#Create a boolean version of Rescuers by mapping unique Rescuer ID to the dataframe to be used later for modeling\n",
    "r= pd.DataFrame() \n",
    "r['Rescuer']=dogs['RescuerID'].unique()\n",
    "r['Rescuer_Int']=range(1, 2945)\n",
    "s=dict(zip(r.Rescuer,r.Rescuer_Int))\n",
    "\n",
    "dogs['RescuerInt']=dogs['RescuerID'].map(s)\n",
    "dogs.head()"
   ]
  },
  {
   "cell_type": "code",
   "execution_count": 7,
   "metadata": {},
   "outputs": [
    {
     "name": "stdout",
     "output_type": "stream",
     "text": [
      "<class 'pandas.core.frame.DataFrame'>\n",
      "Int64Index: 8130 entries, 2100 to 10229\n",
      "Data columns (total 23 columns):\n",
      " #   Column         Non-Null Count  Dtype  \n",
      "---  ------         --------------  -----  \n",
      " 0   Age            8130 non-null   int64  \n",
      " 1   Breed1         8130 non-null   int64  \n",
      " 2   Breed2         8130 non-null   int64  \n",
      " 3   BreedCount     8130 non-null   int64  \n",
      " 4   Gender         8130 non-null   int64  \n",
      " 5   Color1         8130 non-null   int64  \n",
      " 6   Color2         8130 non-null   int64  \n",
      " 7   Color3         8130 non-null   int64  \n",
      " 8   ColorCount     8130 non-null   int64  \n",
      " 9   MaturitySize   8130 non-null   int64  \n",
      " 10  FurLength      8130 non-null   int64  \n",
      " 11  Vaccinated     8130 non-null   int64  \n",
      " 12  Dewormed       8130 non-null   int64  \n",
      " 13  Sterilized     8130 non-null   int64  \n",
      " 14  Health         8130 non-null   int64  \n",
      " 15  Quantity       8130 non-null   int64  \n",
      " 16  Fee            8130 non-null   int64  \n",
      " 17  State          8130 non-null   int64  \n",
      " 18  VideoAmt       8130 non-null   int64  \n",
      " 19  PhotoAmt       8130 non-null   int64  \n",
      " 20  AdoptionSpeed  8130 non-null   float64\n",
      " 21  Name_bool      8130 non-null   int64  \n",
      " 22  RescuerInt     8130 non-null   int64  \n",
      "dtypes: float64(1), int64(22)\n",
      "memory usage: 1.5 MB\n"
     ]
    }
   ],
   "source": [
    "#Verify final Data Types\n",
    "data = dogs.drop(['Name', 'Description','PetID','RescuerID', 'index'],axis=1)\n",
    "data.info()"
   ]
  },
  {
   "cell_type": "markdown",
   "metadata": {},
   "source": [
    "## Split the Data into Test and Train\n",
    "\n",
    "Rather than risk an imbalance when creating a test and data set, I'll perform a test train split using stratification. This will allow for consideration of the proprtion sizes of each of the most heavily weighted features. For this project, those include Breed, Gender, Age, Name presence or Absence, and Rescuer ID. However, as each of these features have instances where only 1 number is represented, the decision was made to stratify on adoption speed."
   ]
  },
  {
   "cell_type": "code",
   "execution_count": 10,
   "metadata": {},
   "outputs": [],
   "source": [
    "#Split the data into a model test and train data set, based on rescuer ID\n",
    "#First Split to save 10% of Data\n",
    "dtrain, dtest = train_test_split(data, test_size = 0.1,stratify=data['AdoptionSpeed'])"
   ]
  },
  {
   "cell_type": "markdown",
   "metadata": {},
   "source": [
    "Now let's verify the stratification has equal representations of adoption speed in each set. "
   ]
  },
  {
   "cell_type": "code",
   "execution_count": 11,
   "metadata": {},
   "outputs": [
    {
     "data": {
      "image/png": "[encoded data removed]",
      "text/plain": [
       "<Figure size 1152x432 with 2 Axes>"
      ]
     },
     "metadata": {
      "needs_background": "light"
     },
     "output_type": "display_data"
    }
   ],
   "source": [
    "#Define x-axis labels\n",
    "adpt_spd = adptspeed.AdoptionSpeed\n",
    "\n",
    "#Create Figure with 2 subplots\n",
    "fig, ax = plt.subplots(figsize = (16, 6))\n",
    "\n",
    "#Plot stratification of training set\n",
    "plt.subplot(1, 2, 1)\n",
    "c = sns.countplot(x='AdoptionSpeed', data=dtrain, palette= 'BuPu_r')\n",
    "plt.xticks([0,1,2,3,4], adpt_spd) \n",
    "plt.ylim([0,2400])\n",
    "plt.xlabel('Adoption Speed (Days)')\n",
    "plt.title ('Adoption Speed Stratification for the Training Set (90% Data)')\n",
    "\n",
    "#Percentages above training set \n",
    "ax=c.axes\n",
    "for p in ax.patches:\n",
    "     ax.annotate(f\"{p.get_height() * 100 / dtrain.shape[0]:.2f}%\", (p.get_x() + p.get_width() / 2., p.get_height()),\n",
    "         ha='center', va='center', fontsize=11, color='k', rotation=0, xytext=(0, 4),\n",
    "         textcoords='offset points')\n",
    "\n",
    "#Plot stratification of test set \n",
    "plt.subplot(1, 2, 2)\n",
    "\n",
    "c = sns.countplot(x='AdoptionSpeed', data=dtest, palette= 'BuPu_r')\n",
    "plt.xticks([0,1,2,3,4], adpt_spd) \n",
    "plt.ylim([0,2400])\n",
    "plt.xlabel('Adoption Speed (Days)')\n",
    "plt.title ('Adoption Speed Stratification for the Test Set (10% Data)')\n",
    "\n",
    "#Percentages above test set \n",
    "ax=c.axes\n",
    "for p in ax.patches:\n",
    "     ax.annotate(f\"{p.get_height() * 100 / dtest.shape[0]:.2f}%\", (p.get_x() + p.get_width() / 2., p.get_height()),\n",
    "         ha='center', va='center', fontsize=11, color='k', rotation=0, xytext=(0, 4),\n",
    "         textcoords='offset points')\n",
    "\n",
    "plt.show()"
   ]
  },
  {
   "cell_type": "markdown",
   "metadata": {},
   "source": [
    "For some model development, specific features will be chosen to test initially for speed purposes. These features will be chosen based on the results of the Statistical Data Analysis previously completed ([GitHub Link Here](https://github.com/CJEJansson/Springboard_Projects/tree/master/Capstone%201/3.%20Statistical_Data_Analysis)). These models will then be tested using the entirety of the dataset to determine if it performs better or worse having access to all features. \n"
   ]
  },
  {
   "cell_type": "code",
   "execution_count": 12,
   "metadata": {},
   "outputs": [],
   "source": [
    "#Second Split to allow for model development testing\n",
    "x, y = dtrain.loc[:, dtrain.columns != 'AdoptionSpeed'], dtrain['AdoptionSpeed']\n",
    "\n",
    "x_train, x_test, y_train, y_test = train_test_split(x, y, test_size=0.25, random_state=1, stratify=y)"
   ]
  },
  {
   "cell_type": "markdown",
   "metadata": {},
   "source": [
    "Due to the distribution of the data it may also be beneficial to drop the adoption speed of same day (category 0), and see if this is better for fitting the data, since such a small percentage (5.4%) are adopted same day. "
   ]
  },
  {
   "cell_type": "code",
   "execution_count": 89,
   "metadata": {},
   "outputs": [],
   "source": [
    "#Alternative test train split without the adoption speed = 0 to see if modeling is better\n",
    "data_alt = data[data['AdoptionSpeed']!= 0.0]\n",
    "\n",
    "#First Split to save 10% of Data\n",
    "dtrain_alt, dtest_alt = train_test_split(data_alt, test_size = 0.1,stratify=data_alt['AdoptionSpeed'])\n",
    "\n",
    "#Second Split to allow for model development testing\n",
    "x_a, y_a = dtrain_alt.loc[:, dtrain_alt.columns != 'AdoptionSpeed'], dtrain_alt['AdoptionSpeed']\n",
    "\n",
    "xa_train, xa_test, ya_train, ya_test = train_test_split(x_a, y_a, test_size=0.25, random_state=1, stratify=y_a)\n"
   ]
  },
  {
   "cell_type": "code",
   "execution_count": 48,
   "metadata": {},
   "outputs": [],
   "source": [
    "#Create end test set variables \n",
    "x_all, y_all = dtrain.loc[:, dtrain.columns != 'AdoptionSpeed'], dtrain['AdoptionSpeed']\n",
    "x_test_all, y_test_all = dtest.loc[:, dtest.columns != 'AdoptionSpeed'], dtest['AdoptionSpeed']"
   ]
  },
  {
   "cell_type": "code",
   "execution_count": 93,
   "metadata": {},
   "outputs": [],
   "source": [
    "#Create end test set variables with no same day adoptions\n",
    "x_a_all, y_a_all = dtrain_alt.loc[:, dtrain_alt.columns != 'AdoptionSpeed'], dtrain_alt['AdoptionSpeed']\n",
    "x_atest_all, y_atest_all = dtest_alt.loc[:, dtest_alt.columns != 'AdoptionSpeed'], dtest_alt['AdoptionSpeed']"
   ]
  },
  {
   "cell_type": "markdown",
   "metadata": {},
   "source": [
    "## Logistic Regression\n",
    "\n",
    "It's time to choose some Machine Learning models to apply to this data set. \n",
    "\n",
    "Application of a regression model may not yield great results, because several of the variables have non-linear relationships. However, it doesn't hurt to verify this. It's also entirely possible that a combination model using regression may prove useful. \n",
    "\n",
    "The model will be built by further splitting the test set, to ensure that the initial train data set doesn't lead to overfitting.  \n",
    "\n",
    "Initial tests will be run on only the variables with highest correlation, and then a final run will be repeated with the full dataset for final accuracy score."
   ]
  },
  {
   "cell_type": "code",
   "execution_count": 14,
   "metadata": {},
   "outputs": [
    {
     "name": "stdout",
     "output_type": "stream",
     "text": [
      "0.3702185792349727\n"
     ]
    }
   ],
   "source": [
    "logRegr = LogisticRegression(solver = 'lbfgs', multi_class = 'auto', max_iter = 10000)\n",
    "\n",
    "#Test the model on the highest correlated features \n",
    "xlr, xtestlr, ylr, ytestlr = train_test_split(dtrain[['RescuerInt','Breed1','Age','PhotoAmt']], \n",
    "                                              np.ravel(dtrain[['AdoptionSpeed']],order='C'),\n",
    "                                              stratify=dtrain['AdoptionSpeed'], \n",
    "                                              test_size=0.2,random_state=42)\n",
    "\n",
    "#Train Model on the Data\n",
    "logRegr.fit(xlr, ylr)\n",
    "#Print Accuracy\n",
    "print(accuracy_score(logRegr.predict(xtestlr), ytestlr))"
   ]
  },
  {
   "cell_type": "markdown",
   "metadata": {},
   "source": [
    "While this would be a typically unacceptable score, according to the leaderboard on Kaggle, the highest accuracy model created had an accuracy score of approximately 0.45338. So this is not terrible, but could be better. Let's explore different solver options for the model and see if one is a better choice than the others before we apply this model to the entire set of features. \n"
   ]
  },
  {
   "cell_type": "code",
   "execution_count": 17,
   "metadata": {},
   "outputs": [
    {
     "name": "stdout",
     "output_type": "stream",
     "text": [
      "0.37363387978142076\n"
     ]
    }
   ],
   "source": [
    "#create model instance\n",
    "logRegr1 = LogisticRegression(solver='newton-cg',multi_class='ovr',max_iter=900000000)\n",
    "#Test the model on Rescuer ID, age, and breed \n",
    "xlr, xtestlr, ylr, ytestlr = train_test_split(dtrain[['RescuerInt','Breed1','Age','PhotoAmt']], \n",
    "                                              np.ravel(dtrain[['AdoptionSpeed']],order='C'),\n",
    "                                              stratify=dtrain['AdoptionSpeed'], \n",
    "                                              test_size=0.2,random_state=42)\n",
    "\n",
    "#Train Model on the Data\n",
    "logRegr1.fit(xlr, ylr)\n",
    "#Print Accuracy\n",
    "print(accuracy_score(logRegr1.predict(xtestlr), ytestlr))"
   ]
  },
  {
   "cell_type": "markdown",
   "metadata": {},
   "source": [
    "Because of the very large number of maximum interations necessary to ensure convergence, so this would not be an ideal choice for our model, and the score is the same as the default solver. "
   ]
  },
  {
   "cell_type": "code",
   "execution_count": 16,
   "metadata": {},
   "outputs": [
    {
     "name": "stdout",
     "output_type": "stream",
     "text": [
      "0.3777322404371585\n"
     ]
    }
   ],
   "source": [
    "#create model instance\n",
    "logRegr2 = LogisticRegression(solver='liblinear',multi_class='ovr')\n",
    "#Test the model on Rescuer ID, age, and breed \n",
    "xlr, xtestlr, ylr, ytestlr = train_test_split(dtrain[['RescuerInt','Breed1','Age','PhotoAmt']], \n",
    "                                              np.ravel(dtrain[['AdoptionSpeed']],order='C'),\n",
    "                                              stratify=dtrain['AdoptionSpeed'], \n",
    "                                              test_size=0.2,random_state=42)\n",
    "\n",
    "#Train Model on the Data\n",
    "logRegr2.fit(xlr, ylr)\n",
    "#Print Accuracy\n",
    "print(accuracy_score(logRegr2.predict(xtestlr), ytestlr))"
   ]
  },
  {
   "cell_type": "code",
   "execution_count": 23,
   "metadata": {},
   "outputs": [
    {
     "name": "stdout",
     "output_type": "stream",
     "text": [
      "0.36133879781420764\n"
     ]
    }
   ],
   "source": [
    "#create model instance\n",
    "logRegr3 = LogisticRegression(solver='saga',multi_class='ovr',max_iter=1000000)\n",
    "#Test the model on Rescuer ID, age, and breed \n",
    "xlr, xtestlr, ylr, ytestlr = train_test_split(dtrain[['RescuerInt','Breed1','Age','PhotoAmt']], \n",
    "                                              np.ravel(dtrain[['AdoptionSpeed']],order='C'),\n",
    "                                              stratify=dtrain['AdoptionSpeed'], \n",
    "                                              test_size=0.2,random_state=42)\n",
    "\n",
    "#Train Model on the Data\n",
    "logRegr3.fit(xlr, ylr)\n",
    "#Print Accuracy\n",
    "print(accuracy_score(logRegr3.predict(xtestlr), ytestlr))"
   ]
  },
  {
   "cell_type": "markdown",
   "metadata": {},
   "source": [
    "So it looks like the best choices for logistic regression is the either the default or the liblinear solver. Even using these choices an improved model will be needed, so let's explore some other options. \n",
    "\n",
    "Before moving on to a new model, let's try optimizing the one we're working with by optimizing the C parameter.\n",
    "\n",
    "K-fold cross validation was deliberatly not utilized here because of the imbalanced classifications and the small number of data points in some groups as compared to others, which would likely lead to accuracy errors. "
   ]
  },
  {
   "cell_type": "code",
   "execution_count": 21,
   "metadata": {},
   "outputs": [
    {
     "name": "stdout",
     "output_type": "stream",
     "text": [
      "C Score Values:  [0.36885245901639346, 0.383879781420765, 0.3866120218579235, 0.3859289617486339, 0.3859289617486339]\n",
      "Best score:  0.3866120218579235\n",
      "C value that yields best score = 1\n"
     ]
    }
   ],
   "source": [
    "#Test the model on Rescuer ID, age, and breed \n",
    "xlr, xtestlr, ylr, ytestlr = train_test_split(dtrain[['RescuerInt','Breed1','Age','PhotoAmt']], \n",
    "                                              np.ravel(dtrain[['AdoptionSpeed']],order='C'),\n",
    "                                              stratify=dtrain['AdoptionSpeed'], \n",
    "                                              test_size=0.2,random_state=42)\n",
    "\n",
    "#the grid of parameters to search over\n",
    "Cs = [0.001, 0.1, 1, 10, 100]\n",
    "\n",
    "# your turn\n",
    "C_scores=[]\n",
    "\n",
    "for param in Cs:\n",
    "    clf = LogisticRegression(C=param,solver='liblinear',multi_class='ovr')\n",
    "    fit = clf.fit(xtestlr,ytestlr)\n",
    "    score = accuracy_score(clf.predict(xtestlr), ytestlr)\n",
    "    C_scores.append(score)\n",
    "\n",
    "max_score = max(C_scores)\n",
    "max_idx = C_scores.index(max(C_scores))\n",
    "highest_C = Cs[max_idx]\n",
    "\n",
    "print('C Score Values: ' , C_scores)\n",
    "print(\"Best score: \", max_score)\n",
    "print(\"C value that yields best score =\", highest_C)"
   ]
  },
  {
   "cell_type": "code",
   "execution_count": 20,
   "metadata": {},
   "outputs": [
    {
     "name": "stdout",
     "output_type": "stream",
     "text": [
      "C Score Values:  [0.38046448087431695, 0.39207650273224043, 0.39207650273224043, 0.39207650273224043, 0.39207650273224043]\n",
      "Best score:  0.39207650273224043\n",
      "C value that yields best score = 0.1\n"
     ]
    }
   ],
   "source": [
    "#the grid of parameters to search over\n",
    "Cs = [0.001, 0.1, 1, 10, 100]\n",
    "\n",
    "# initialize an empty array \n",
    "C_scores=[]\n",
    "\n",
    "#Run model over each C value in Cs\n",
    "for param in Cs:\n",
    "    clf = LogisticRegression(C=param,solver='lbfgs',multi_class='ovr')\n",
    "    fit = clf.fit(xtestlr,ytestlr)\n",
    "    score = accuracy_score(clf.predict(xtestlr), ytestlr)\n",
    "    C_scores.append(score)\n",
    "\n",
    "max_score = max(C_scores)\n",
    "max_idx = C_scores.index(max(C_scores))\n",
    "highest_C = Cs[max_idx]\n",
    "\n",
    "print('C Score Values: ' , C_scores)\n",
    "print(\"Best score: \", max_score)\n",
    "print(\"C value that yields best score =\", highest_C)"
   ]
  },
  {
   "cell_type": "markdown",
   "metadata": {},
   "source": [
    "Testing on both the solvers, it looks like the lbfgs gives a slightly better score when optimizing C value. Both scores are improved by tuning the hyperparameter C. Previous work on this yielded the same result between both solvers, so additional exploration will be continued with both. \n",
    "\n",
    "Let's take a quick look at the confusion matrices for both models before moving on. "
   ]
  },
  {
   "cell_type": "code",
   "execution_count": 45,
   "metadata": {},
   "outputs": [
    {
     "data": {
      "text/plain": [
       "(array([0.5, 1.5, 2.5, 3.5, 4.5]), <a list of 5 Text yticklabel objects>)"
      ]
     },
     "execution_count": 45,
     "metadata": {},
     "output_type": "execute_result"
    },
    {
     "data": {
      "image/png": "[encoded data removed]",
      "text/plain": [
       "<Figure size 1152x432 with 4 Axes>"
      ]
     },
     "metadata": {
      "needs_background": "light"
     },
     "output_type": "display_data"
    }
   ],
   "source": [
    "#Test the model on Rescuer ID, age, and breed \n",
    "xlr, xtestlr, ylr, ytestlr = train_test_split(dtrain[['RescuerInt','Breed1','Age','PhotoAmt']], \n",
    "                                              np.ravel(dtrain[['AdoptionSpeed']],order='C'),\n",
    "                                              stratify=dtrain['AdoptionSpeed'], \n",
    "                                              test_size=0.2,random_state=42)\n",
    "\n",
    "logRegrA = LogisticRegression(C= 0.1,solver='lbfgs',multi_class='ovr', max_iter=10000)\n",
    "logRegAf = logRegrA.fit(xlr, ylr)\n",
    "y_predA = logRegrA.predict(xtestlr)\n",
    "cm_A = confusion_matrix(ytestlr,y_predA)\n",
    "\n",
    "logRegrB = LogisticRegression(C=1,solver='liblinear',multi_class='ovr')\n",
    "logRegBf = logRegrB.fit(xlr, ylr)\n",
    "y_predB = logRegrB.predict(xtestlr)\n",
    "cm_B = confusion_matrix(ytestlr,y_predB)\n",
    "\n",
    "#import Labels for heatmaps\n",
    "adpt_spd = adptspeed.AdoptionSpeed\n",
    "\n",
    "#Create Figure with 2 subplots\n",
    "fig, ax = plt.subplots(figsize = (16, 6))\n",
    "\n",
    "#Plot Confusion matrix of LBFGS model\n",
    "plt.subplot(1, 2, 1)\n",
    "ax = sns.heatmap(cm_A, annot=True, fmt='g', xticklabels = adpt_spd, yticklabels = adpt_spd, linewidths = 3)\n",
    "ax.set(title = 'Logistic Regression- LBFGS-Limited Features ',\n",
    "      xlabel = 'Adoption Speed (Days)',\n",
    "      ylabel = 'Adoption Speed (Days)')\n",
    "plt.yticks(rotation = 0)\n",
    "\n",
    "\n",
    "#Plot Confusion matrix of Liblinear model\n",
    "plt.subplot(1, 2, 2)\n",
    "ax = sns.heatmap(cm_B, annot=True, fmt='g', xticklabels = adpt_spd, yticklabels = adpt_spd, linewidths = 3)\n",
    "ax.set(title = 'Logistic Regression- Liblinear - Limited Features ',\n",
    "      xlabel = 'Adoption Speed (Days)',\n",
    "      ylabel = 'Adoption Speed (Days)')\n",
    "plt.yticks(rotation = 0)"
   ]
  },
  {
   "cell_type": "markdown",
   "metadata": {},
   "source": [
    "\n",
    "Let's now perform testing using both the liblinear and the default (lbfgs) solvers and access to all the features in the data set to see if the score can be further improved. Then hypertune the parameters to see if we get the same results for C. "
   ]
  },
  {
   "cell_type": "code",
   "execution_count": 24,
   "metadata": {},
   "outputs": [
    {
     "name": "stdout",
     "output_type": "stream",
     "text": [
      "Logistic Regression, all features 0.36721311475409835\n"
     ]
    }
   ],
   "source": [
    "#Run with a General model\n",
    "\n",
    "logRegr2.fit(x_train, y_train)\n",
    "#Print Accuracy\n",
    "print('Logistic Regression, all features', accuracy_score(logRegr2.predict(x_test), y_test))"
   ]
  },
  {
   "cell_type": "code",
   "execution_count": 25,
   "metadata": {},
   "outputs": [
    {
     "name": "stdout",
     "output_type": "stream",
     "text": [
      "C Score Values:  [0.3797814207650273, 0.3825136612021858, 0.3830601092896175, 0.38579234972677595, 0.37923497267759565]\n",
      "Best score:  0.38579234972677595\n",
      "C value that yields best score = 10\n"
     ]
    }
   ],
   "source": [
    "#Hypertune the parameters off the general model to see if score can be improved \n",
    "\n",
    "#the grid of parameters to search over\n",
    "Cs = [0.001, 0.1, 1, 10, 100]\n",
    "\n",
    "# initialize an empty array \n",
    "C_scores=[]\n",
    "\n",
    "#Run model over each C value in Cs\n",
    "for param in Cs:\n",
    "    clf = LogisticRegression(C=param,solver='lbfgs',multi_class='ovr', max_iter=10000)\n",
    "    fit = clf.fit(x_test,y_test)\n",
    "    score = accuracy_score(clf.predict(x_test), y_test)\n",
    "    C_scores.append(score)\n",
    "\n",
    "max_score = max(C_scores)\n",
    "max_idx = C_scores.index(max(C_scores))\n",
    "highest_C = Cs[max_idx]\n",
    "\n",
    "print('C Score Values: ' , C_scores)\n",
    "print(\"Best score: \", max_score)\n",
    "print(\"C value that yields best score =\", highest_C)"
   ]
  },
  {
   "cell_type": "code",
   "execution_count": 26,
   "metadata": {},
   "outputs": [
    {
     "name": "stdout",
     "output_type": "stream",
     "text": [
      "C Score Values:  [0.3846994535519126, 0.38524590163934425, 0.3846994535519126, 0.3846994535519126, 0.38579234972677595]\n",
      "Best score:  0.38579234972677595\n",
      "C value that yields best score = 100\n"
     ]
    }
   ],
   "source": [
    "#the grid of parameters to search over\n",
    "Cs = [0.001, 0.1, 1, 10, 100]\n",
    "\n",
    "# initialize an empty array \n",
    "C_scores=[]\n",
    "\n",
    "#Run model over each C value in Cs\n",
    "for param in Cs:\n",
    "    clf = LogisticRegression(C=param,solver='liblinear',multi_class='ovr')\n",
    "    fit = clf.fit(x_test,y_test)\n",
    "    score = accuracy_score(clf.predict(x_test), y_test)\n",
    "    C_scores.append(score)\n",
    "\n",
    "max_score = max(C_scores)\n",
    "max_idx = C_scores.index(max(C_scores))\n",
    "highest_C = Cs[max_idx]\n",
    "\n",
    "print('C Score Values: ' , C_scores)\n",
    "print(\"Best score: \", max_score)\n",
    "print(\"C value that yields best score =\", highest_C)"
   ]
  },
  {
   "cell_type": "markdown",
   "metadata": {},
   "source": [
    "So when running this on all the data the models actually converge and yield the same score, but with different C scores. The C-scores here are also different than those used when checking only certain paramters. It might be useful to see how the model predictions are disributed so let's pursue that before moving on to another model. "
   ]
  },
  {
   "cell_type": "code",
   "execution_count": 44,
   "metadata": {},
   "outputs": [
    {
     "data": {
      "text/plain": [
       "(array([0.5, 1.5, 2.5, 3.5, 4.5]), <a list of 5 Text yticklabel objects>)"
      ]
     },
     "execution_count": 44,
     "metadata": {},
     "output_type": "execute_result"
    },
    {
     "data": {
      "image/png": "[encoded data removed]",
      "text/plain": [
       "<Figure size 1152x432 with 4 Axes>"
      ]
     },
     "metadata": {
      "needs_background": "light"
     },
     "output_type": "display_data"
    }
   ],
   "source": [
    "logRegrA = LogisticRegression(C= 1,solver='lbfgs',multi_class='ovr', max_iter=10000)\n",
    "logRegAf = logRegrA.fit(x_all, y_all)\n",
    "y_predA = logRegrA.predict(x_test_all)\n",
    "cm_A = confusion_matrix(y_test_all,y_predA)\n",
    "\n",
    "logRegrB = LogisticRegression(C=0.001,solver='liblinear',multi_class='ovr')\n",
    "logRegBf = logRegrB.fit(x_all, y_all)\n",
    "y_predB = logRegrB.predict(x_test_all)\n",
    "cm_B = confusion_matrix(y_test_all,y_pred)\n",
    "\n",
    "#import Labels for heatmaps\n",
    "adpt_spd = adptspeed.AdoptionSpeed\n",
    "\n",
    "#Create Figure with 2 subplots\n",
    "fig, ax = plt.subplots(figsize = (16, 6))\n",
    "\n",
    "#Plot Confusion matrix of LBFGS model\n",
    "plt.subplot(1, 2, 1)\n",
    "ax = sns.heatmap(cm_A, annot=True, fmt='g', xticklabels = adpt_spd, yticklabels = adpt_spd, linewidths = 3)\n",
    "ax.set(title = 'Logistic Regression- LBFGS',\n",
    "      xlabel = 'Adoption Speed (Days)',\n",
    "      ylabel = 'Adoption Speed (Days)')\n",
    "plt.yticks(rotation = 0)\n",
    "\n",
    "\n",
    "#Plot Confusion matrix of Liblinear model\n",
    "plt.subplot(1, 2, 2)\n",
    "ax = sns.heatmap(cm_B, annot=True, fmt='g', xticklabels = adpt_spd, yticklabels = adpt_spd, linewidths = 3)\n",
    "ax.set(title = 'Logistic Regression- Liblinear',\n",
    "      xlabel = 'Adoption Speed (Days)',\n",
    "      ylabel = 'Adoption Speed (Days)')\n",
    "plt.yticks(rotation = 0)"
   ]
  },
  {
   "cell_type": "markdown",
   "metadata": {},
   "source": [
    "So it looks like neither model is mapping same day adoptions very well, which is consistent with how rescues understand dog adoptions. Prediting which animals will go same-day as listing is very difficult and is often times just random luck. It's interesting that the model reveals that. "
   ]
  },
  {
   "cell_type": "markdown",
   "metadata": {},
   "source": [
    "Let's try one more analysis to see if removing the adoption speed classification for same day adoptions improves any of the model performance."
   ]
  },
  {
   "cell_type": "code",
   "execution_count": 90,
   "metadata": {},
   "outputs": [
    {
     "name": "stdout",
     "output_type": "stream",
     "text": [
      "Logistic Regression, all features, no same day adoption 0.40424343941931884\n"
     ]
    }
   ],
   "source": [
    "logRegr2.fit(xa_train, ya_train)\n",
    "#Print Accuracy\n",
    "print('Logistic Regression, all features, no same day adoption', accuracy_score(logRegr2.predict(xa_test), ya_test))"
   ]
  },
  {
   "cell_type": "markdown",
   "metadata": {},
   "source": [
    "Since there is definite improvement, let's perform the same process as above, with both restricted and all features to see what the best fit is. "
   ]
  },
  {
   "cell_type": "code",
   "execution_count": 102,
   "metadata": {},
   "outputs": [
    {
     "name": "stdout",
     "output_type": "stream",
     "text": [
      "C Score Values:  [0.3831123517096999, 0.40404745289602234, 0.40753663642707605, 0.4033496161898116, 0.4033496161898116]\n",
      "Best score:  0.40753663642707605\n",
      "C value that yields best score = 1\n"
     ]
    }
   ],
   "source": [
    "#Test the model on Rescuer ID, age, and breed \n",
    "xlr, xtestlr, ylr, ytestlr = train_test_split(dtrain_alt[['RescuerInt','Breed1','Age','PhotoAmt']], \n",
    "                                              np.ravel(dtrain_alt[['AdoptionSpeed']],order='C'),\n",
    "                                              stratify=dtrain_alt['AdoptionSpeed'], \n",
    "                                              test_size=0.2,random_state=42)\n",
    "\n",
    "#the grid of parameters to search over\n",
    "Cs = [0.001, 0.1, 1, 10, 100]\n",
    "\n",
    "# your turn\n",
    "C_scores=[]\n",
    "\n",
    "for param in Cs:\n",
    "    clf = LogisticRegression(C=param,solver='liblinear',multi_class='ovr')\n",
    "    fit = clf.fit(xtestlr,ytestlr)\n",
    "    score = accuracy_score(clf.predict(xtestlr), ytestlr)\n",
    "    C_scores.append(score)\n",
    "\n",
    "max_score = max(C_scores)\n",
    "max_idx = C_scores.index(max(C_scores))\n",
    "highest_C = Cs[max_idx]\n",
    "\n",
    "print('C Score Values: ' , C_scores)\n",
    "print(\"Best score: \", max_score)\n",
    "print(\"C value that yields best score =\", highest_C)\n"
   ]
  },
  {
   "cell_type": "code",
   "execution_count": 103,
   "metadata": {},
   "outputs": [
    {
     "name": "stdout",
     "output_type": "stream",
     "text": [
      "C Score Values:  [0.4019539427773901, 0.4026517794836008, 0.4026517794836008, 0.4026517794836008, 0.4026517794836008]\n",
      "Best score:  0.4026517794836008\n",
      "C value that yields best score = 0.1\n"
     ]
    }
   ],
   "source": [
    "#the grid of parameters to search over\n",
    "Cs = [0.001, 0.1, 1, 10, 100]\n",
    "\n",
    "# initialize an empty array \n",
    "C_scores=[]\n",
    "\n",
    "#Run model over each C value in Cs\n",
    "for param in Cs:\n",
    "    clf = LogisticRegression(C=param,solver='lbfgs',multi_class='ovr')\n",
    "    fit = clf.fit(xtestlr,ytestlr)\n",
    "    score = accuracy_score(clf.predict(xtestlr), ytestlr)\n",
    "    C_scores.append(score)\n",
    "\n",
    "max_score = max(C_scores)\n",
    "max_idx = C_scores.index(max(C_scores))\n",
    "highest_C = Cs[max_idx]\n",
    "\n",
    "print('C Score Values: ' , C_scores)\n",
    "print(\"Best score: \", max_score)\n",
    "print(\"C value that yields best score =\", highest_C)"
   ]
  },
  {
   "cell_type": "code",
   "execution_count": 104,
   "metadata": {},
   "outputs": [
    {
     "data": {
      "text/plain": [
       "(array([0.5, 1.5, 2.5, 3.5, 4.5]), <a list of 5 Text yticklabel objects>)"
      ]
     },
     "execution_count": 104,
     "metadata": {},
     "output_type": "execute_result"
    },
    {
     "data": {
      "image/png": "[encoded data removed]",
      "text/plain": [
       "<Figure size 1152x432 with 4 Axes>"
      ]
     },
     "metadata": {
      "needs_background": "light"
     },
     "output_type": "display_data"
    }
   ],
   "source": [
    "#Test the model on Rescuer ID, age, and breed \n",
    "xlr, xtestlr, ylr, ytestlr = train_test_split(dtrain_alt[['RescuerInt','Breed1','Age','PhotoAmt']], \n",
    "                                              np.ravel(dtrain_alt[['AdoptionSpeed']],order='C'),\n",
    "                                              stratify=dtrain_alt['AdoptionSpeed'], \n",
    "                                              test_size=0.2,random_state=42)\n",
    "\n",
    "logRegrA = LogisticRegression(C= 0.1,solver='lbfgs',multi_class='ovr', max_iter=10000)\n",
    "logRegAf = logRegrA.fit(xlr, ylr)\n",
    "y_predA = logRegrA.predict(xtestlr)\n",
    "cm_A = confusion_matrix(ytestlr,y_predA)\n",
    "\n",
    "logRegrB = LogisticRegression(C=1,solver='liblinear',multi_class='ovr')\n",
    "logRegBf = logRegrB.fit(xlr, ylr)\n",
    "y_predB = logRegrB.predict(xtestlr)\n",
    "cm_B = confusion_matrix(ytestlr,y_predB)\n",
    "\n",
    "#import Labels for heatmaps\n",
    "adpt_spd = adptspeed.AdoptionSpeed\n",
    "\n",
    "#Create Figure with 2 subplots\n",
    "fig, ax = plt.subplots(figsize = (16, 6))\n",
    "\n",
    "#Plot Confusion matrix of LBFGS model\n",
    "plt.subplot(1, 2, 1)\n",
    "ax = sns.heatmap(cm_A, annot=True, fmt='g', xticklabels = adpt_spd, yticklabels = adpt_spd, linewidths = 3)\n",
    "ax.set(title = 'Logistic Regression- LBFGS-Limited Features- No Same Day Adoption ',\n",
    "      xlabel = 'Adoption Speed (Days)',\n",
    "      ylabel = 'Adoption Speed (Days)')\n",
    "plt.yticks(rotation = 0)\n",
    "\n",
    "\n",
    "#Plot Confusion matrix of Liblinear model\n",
    "plt.subplot(1, 2, 2)\n",
    "ax = sns.heatmap(cm_B, annot=True, fmt='g', xticklabels = adpt_spd, yticklabels = adpt_spd, linewidths = 3)\n",
    "ax.set(title = 'Logistic Regression- Liblinear - Limited Features- No Same Day Adoption ',\n",
    "      xlabel = 'Adoption Speed (Days)',\n",
    "      ylabel = 'Adoption Speed (Days)')\n",
    "plt.yticks(rotation = 0)"
   ]
  },
  {
   "cell_type": "code",
   "execution_count": 91,
   "metadata": {},
   "outputs": [
    {
     "name": "stdout",
     "output_type": "stream",
     "text": [
      "C Score Values:  [0.40480178671133443, 0.4154103852596315, 0.4075935231714126, 0.4137353433835846, 0.41429369067560023]\n",
      "Best score:  0.4154103852596315\n",
      "C value that yields best score = 0.1\n"
     ]
    }
   ],
   "source": [
    "#the grid of parameters to search over\n",
    "Cs = [0.001, 0.1, 1, 10, 100]\n",
    "\n",
    "# initialize an empty array \n",
    "C_scores=[]\n",
    "\n",
    "#Run model over each C value in Cs\n",
    "for param in Cs:\n",
    "    clf = LogisticRegression(C=param,solver='lbfgs',multi_class='ovr', max_iter=10000)\n",
    "    fit = clf.fit(xa_test,ya_test)\n",
    "    score = accuracy_score(clf.predict(xa_test), ya_test)\n",
    "    C_scores.append(score)\n",
    "\n",
    "max_score = max(C_scores)\n",
    "max_idx = C_scores.index(max(C_scores))\n",
    "highest_C = Cs[max_idx]\n",
    "\n",
    "print('C Score Values: ' , C_scores)\n",
    "print(\"Best score: \", max_score)\n",
    "print(\"C value that yields best score =\", highest_C)"
   ]
  },
  {
   "cell_type": "code",
   "execution_count": 92,
   "metadata": {},
   "outputs": [
    {
     "name": "stdout",
     "output_type": "stream",
     "text": [
      "C Score Values:  [0.4025683975432719, 0.4036850921273032, 0.400893355667225, 0.4025683975432719, 0.4020100502512563]\n",
      "Best score:  0.4036850921273032\n",
      "C value that yields best score = 0.1\n"
     ]
    }
   ],
   "source": [
    "#the grid of parameters to search over\n",
    "Cs = [0.001, 0.1, 1, 10, 100]\n",
    "\n",
    "# initialize an empty array \n",
    "C_scores=[]\n",
    "\n",
    "#Run model over each C value in Cs\n",
    "for param in Cs:\n",
    "    clf = LogisticRegression(C=param,solver='liblinear',multi_class='ovr')\n",
    "    fit = clf.fit(xa_test,ya_test)\n",
    "    score = accuracy_score(clf.predict(xa_test), ya_test)\n",
    "    C_scores.append(score)\n",
    "\n",
    "max_score = max(C_scores)\n",
    "max_idx = C_scores.index(max(C_scores))\n",
    "highest_C = Cs[max_idx]\n",
    "\n",
    "print('C Score Values: ' , C_scores)\n",
    "print(\"Best score: \", max_score)\n",
    "print(\"C value that yields best score =\", highest_C)"
   ]
  },
  {
   "cell_type": "markdown",
   "metadata": {},
   "source": [
    "There is an improvement if same day adoptions are removed. This is actually to be expected, since it's difficult to predict which dogs will be adopted same day for experienced rescuers as well. \n",
    "\n",
    "So the best model for linear regression is found using either an lbfgs or liblinear solver  Knowing that a large number of iterations is needed for the lbfgs solver to work on the whole model, it may be better to use the liblinear choice, simply for time constraint reasons. Both options will be considered when using the full data set to test the final model. \n",
    "\n",
    "The full feature analysis showed best results when using a liblinear model and a C-value of 100 on the full dataset. \n",
    "\n",
    "It appears the best model accuracy can be found by using only some features (Breed, Rescuer ID, Pet Age, and Number of photos) suggesting that the model is overfitting the data. This is fairly common in logistic regression models. When restricticting features, the best model was found to use the lbfgs solver, with a C-value of 0.1. \n",
    "\n",
    "A final anaysis with the full data set (including the data set aside for model testing) will be run to verify accuracy as compared to the results from \"full feature\" analysis to conclude. \n",
    "\n",
    "Removal of the 5% of dogs adopted on the same day as they were listed had no effect on the model. \n",
    "\n",
    "Results\n",
    "\n",
    "| Model | Accuracy Score | C-Value | Solver| Features|\n",
    "| --- | --- | --- | --- | --- |\n",
    "|Logistic Regression| 0.39208 |0.1| lbfgs| Rescuer, Breed, Age, #Photos |\n",
    "|Logistic Regression| 0.38661| 1.0 | liblinear | Rescuer, Breed, Age, #Photos |\n",
    "|Logistic Regression| 0.38579 |10| lbfgs| All Features|\n",
    "|Logistic Regression| 0.38579 |100| liblinear| All Features|\n",
    "|Logistic Regression| 0.41541 |0.1| lbfgs| No Same Day Adoptions|\n",
    "|Logistic Regression| 0.40369 |0.1| liblinear| No Same Day Adoptions|\n",
    "\n",
    "\n",
    "Let's now test these models on the entire data set and see if the results are consistent with those found on the subset. "
   ]
  },
  {
   "cell_type": "code",
   "execution_count": 53,
   "metadata": {},
   "outputs": [
    {
     "name": "stdout",
     "output_type": "stream",
     "text": [
      "The Accuracy Score for Limited Features Logistic Regression using an LBFGS solver is 0.37146\n"
     ]
    }
   ],
   "source": [
    "#Logistic Regression only some Features\n",
    "#Limit Features\n",
    "xa_lim = x_all[['RescuerInt','Breed1','Age','PhotoAmt']]\n",
    "xt_lim = x_test_all[['RescuerInt','Breed1','Age','PhotoAmt']]\n",
    "\n",
    "#Create model\n",
    "logRegrlim = LogisticRegression(C= 0.1,solver='lbfgs',multi_class='ovr', max_iter=10000)\n",
    "\n",
    "#Fit Model\n",
    "logReglimf = logRegrlim.fit(xa_lim, y_all)\n",
    "\n",
    "#Confusion Matrix\n",
    "y_predlim = logRegrlim.predict(xt_lim)\n",
    "cm_A = confusion_matrix(y_test_all,y_predlim)\n",
    "\n",
    "#Accuracy Score\n",
    "accuracy_limLR = accuracy_score(logRegrlim.predict(xt_lim), y_test_all)\n",
    "\n",
    "#Results\n",
    "print('The Accuracy Score for Limited Features Logistic Regression using an LBFGS solver is', \n",
    "      round(accuracy_limLR,5))\n"
   ]
  },
  {
   "cell_type": "code",
   "execution_count": 61,
   "metadata": {},
   "outputs": [
    {
     "name": "stdout",
     "output_type": "stream",
     "text": [
      "The Accuracy Score for Logistic Regression using the LBFGS solver on the entire data set is 0.39237\n",
      "The Accuracy Score for Logistic Regression using the Liblinear solver on the entire data set is 0.39483\n"
     ]
    }
   ],
   "source": [
    "#Define, fit models and create confusion matrices, calculate accuracy\n",
    "#LBFGS Model\n",
    "logRegrA = LogisticRegression(C= 1,solver='lbfgs',multi_class='ovr', max_iter=10000)\n",
    "logRegAf = logRegrA.fit(x_all, y_all)\n",
    "y_predA = logRegrA.predict(x_test_all)\n",
    "cm_A_all = confusion_matrix(y_test_all,y_predA)\n",
    "acc_A_all = accuracy_score(logRegrA.predict(x_test_all), y_test_all)\n",
    "\n",
    "#LibLinear Model\n",
    "logRegrB = LogisticRegression(C=0.001,solver='liblinear',multi_class='ovr')\n",
    "logRegBf = logRegrB.fit(x_all, y_all)\n",
    "y_predB = logRegrB.predict(x_test_all)\n",
    "cm_B_all = confusion_matrix(y_test_all,y_predB)\n",
    "acc_B_all = accuracy_score(logRegrB.predict(x_test_all), y_test_all)\n",
    "                           \n",
    "print('The Accuracy Score for Logistic Regression using the LBFGS solver on the entire data set is',\n",
    "      round(acc_A_all,5))\n",
    "print('The Accuracy Score for Logistic Regression using the Liblinear solver on the entire data set is', \n",
    "      round(acc_B_all,5))"
   ]
  },
  {
   "cell_type": "code",
   "execution_count": 63,
   "metadata": {},
   "outputs": [
    {
     "data": {
      "text/plain": [
       "(array([0.5, 1.5, 2.5, 3.5, 4.5]), <a list of 5 Text yticklabel objects>)"
      ]
     },
     "execution_count": 63,
     "metadata": {},
     "output_type": "execute_result"
    },
    {
     "data": {
      "image/png": "[encoded data removed]",
      "text/plain": [
       "<Figure size 1152x432 with 4 Axes>"
      ]
     },
     "metadata": {
      "needs_background": "light"
     },
     "output_type": "display_data"
    }
   ],
   "source": [
    "#import Labels for heatmaps\n",
    "adpt_spd = adptspeed.AdoptionSpeed\n",
    "\n",
    "#Create Figure with 2 subplots\n",
    "fig, ax = plt.subplots(figsize = (16, 6))\n",
    "\n",
    "#Plot Confusion matrix of LBFGS model\n",
    "plt.subplot(1, 2, 1)\n",
    "ax = sns.heatmap(cm_A_all, annot=True, fmt='g', xticklabels = adpt_spd, yticklabels = adpt_spd, linewidths = 3)\n",
    "ax.set(title = 'Logistic Regression- LBFGS-Full Dataset',\n",
    "      xlabel = 'Adoption Speed (Days)',\n",
    "      ylabel = 'Adoption Speed (Days)')\n",
    "plt.yticks(rotation = 0)\n",
    "\n",
    "\n",
    "#Plot Confusion matrix of Liblinear model\n",
    "plt.subplot(1, 2, 2)\n",
    "ax = sns.heatmap(cm_B_all, annot=True, fmt='g', xticklabels = adpt_spd, yticklabels = adpt_spd, linewidths = 3)\n",
    "ax.set(title = 'Logistic Regression- Liblinear- Full Dataset',\n",
    "      xlabel = 'Adoption Speed (Days)',\n",
    "      ylabel = 'Adoption Speed (Days)')\n",
    "plt.yticks(rotation = 0)"
   ]
  },
  {
   "cell_type": "markdown",
   "metadata": {},
   "source": [
    "Again, let's repeat for comparsion the above but for data without same-day adoptions. "
   ]
  },
  {
   "cell_type": "code",
   "execution_count": 95,
   "metadata": {},
   "outputs": [
    {
     "name": "stdout",
     "output_type": "stream",
     "text": [
      "The Accuracy Score for Limited Features Logistic Regression using an LBFGS solver and no same day adoptions is 0.38645\n"
     ]
    }
   ],
   "source": [
    "#Logistic Regression only some Features\n",
    "#Limit Features\n",
    "xa_lim = x_a_all[['RescuerInt','Breed1','Age','PhotoAmt']]\n",
    "xt_lim = x_atest_all[['RescuerInt','Breed1','Age','PhotoAmt']]\n",
    "\n",
    "#Create model\n",
    "logRegrlim = LogisticRegression(C= 0.1,solver='lbfgs',multi_class='ovr', max_iter=10000)\n",
    "\n",
    "#Fit Model\n",
    "logReglimf = logRegrlim.fit(xa_lim, y_a_all)\n",
    "\n",
    "#Confusion Matrix\n",
    "y_predlim = logRegrlim.predict(xt_lim)\n",
    "cm_A = confusion_matrix(y_atest_all,y_predlim)\n",
    "\n",
    "#Accuracy Score\n",
    "accuracy_limLR = accuracy_score(logRegrlim.predict(xt_lim), y_atest_all)\n",
    "\n",
    "#Results\n",
    "print('The Accuracy Score for Limited Features Logistic Regression using an', 'LBFGS solver and no same day adoptions is', \n",
    "      round(accuracy_limLR,5))"
   ]
  },
  {
   "cell_type": "code",
   "execution_count": 101,
   "metadata": {},
   "outputs": [
    {
     "name": "stdout",
     "output_type": "stream",
     "text": [
      "The Accuracy Score for Logistic Regression using the LBFGS solver on the entire data set with no same day adoptions is 0.37516\n",
      "The Accuracy Score for Logistic Regression using the Liblinear solver on the entire data set with no same day adoptions is 0.37767\n"
     ]
    }
   ],
   "source": [
    "#Define, fit models and create confusion matrices, calculate accuracy\n",
    "#LBFGS Model\n",
    "logRegrA = LogisticRegression(C= 0.1,solver='lbfgs',multi_class='ovr', max_iter=10000)\n",
    "logRegAf = logRegrA.fit(x_a_all, y_a_all)\n",
    "y_predA = logRegrA.predict(x_atest_all)\n",
    "cm_A_all = confusion_matrix(y_atest_all,y_predA)\n",
    "acc_A_all = accuracy_score(logRegrA.predict(x_atest_all), y_atest_all)\n",
    "\n",
    "#LibLinear Model\n",
    "logRegrB = LogisticRegression(C=0.1,solver='liblinear',multi_class='ovr')\n",
    "logRegBf = logRegrB.fit(x_a_all, y_a_all)\n",
    "y_predB = logRegrB.predict(x_atest_all)\n",
    "cm_B_all = confusion_matrix(y_atest_all,y_predB)\n",
    "acc_B_all = accuracy_score(logRegrB.predict(x_atest_all), y_atest_all)\n",
    "                           \n",
    "print('The Accuracy Score for Logistic Regression using the LBFGS solver on the entire data set with no same day adoptions is',\n",
    "      round(acc_A_all,5))\n",
    "print('The Accuracy Score for Logistic Regression using the Liblinear solver on the entire data set with no same day adoptions is', \n",
    "      round(acc_B_all,5))"
   ]
  },
  {
   "cell_type": "code",
   "execution_count": 100,
   "metadata": {},
   "outputs": [
    {
     "data": {
      "text/plain": [
       "(array([0.5, 1.5, 2.5, 3.5]), <a list of 4 Text yticklabel objects>)"
      ]
     },
     "execution_count": 100,
     "metadata": {},
     "output_type": "execute_result"
    },
    {
     "data": {
      "image/png": "[encoded data removed]",
      "text/plain": [
       "<Figure size 1152x432 with 4 Axes>"
      ]
     },
     "metadata": {
      "needs_background": "light"
     },
     "output_type": "display_data"
    }
   ],
   "source": [
    "#import Labels for heatmaps\n",
    "adpt_spd = adptspeed.AdoptionSpeed[1:]\n",
    "\n",
    "#Create Figure with 2 subplots\n",
    "fig, ax = plt.subplots(figsize = (16, 6))\n",
    "\n",
    "#Plot Confusion matrix of LBFGS model\n",
    "plt.subplot(1, 2, 1)\n",
    "ax = sns.heatmap(cm_A_all, annot=True, fmt='g', xticklabels = adpt_spd, yticklabels = adpt_spd, linewidths = 3)\n",
    "ax.set(title = 'Logistic Regression- LBFGS-Full Dataset',\n",
    "      xlabel = 'Adoption Speed (Days)',\n",
    "      ylabel = 'Adoption Speed (Days)')\n",
    "plt.yticks(rotation = 0)\n",
    "\n",
    "\n",
    "#Plot Confusion matrix of Liblinear model\n",
    "plt.subplot(1, 2, 2)\n",
    "ax = sns.heatmap(cm_B_all, annot=True, fmt='g', xticklabels = adpt_spd, yticklabels = adpt_spd, linewidths = 3)\n",
    "ax.set(title = 'Logistic Regression- Liblinear- Full Dataset',\n",
    "      xlabel = 'Adoption Speed (Days)',\n",
    "      ylabel = 'Adoption Speed (Days)')\n",
    "plt.yticks(rotation = 0)"
   ]
  },
  {
   "cell_type": "markdown",
   "metadata": {},
   "source": [
    "#### Logistic Regression - Final thoughts \n",
    "\n",
    "Surprisingly, the liblinear model with access to all features and all pets fit best when testing all the data. \n",
    "This was unexpected, as the expected result was a highest score for All features with the not same day adoption pets. \n",
    "\n",
    "The confusion matrices for the analysis including the validation set show similar distributions, regardless of the model. \n",
    "\n",
    "It's suspected that increase in accuracy is due to the additional weight in the \"unadopted\" pets category, and not actually that the model is performing better. This is consistent with the fact that the final models without same-day adoption pets removed actually performed worse when tested using the entire dataset. \n",
    "\n",
    "Additional analysis into whether the model is overfitting would probably be wise, since the results seem to indicate this is what's occuring, but for now we'll move on to the next model. \n",
    "\n",
    "Final Scores: \n",
    "\n",
    "|Stage| Model | Accuracy Score | C-Value | Solver| Features|\n",
    "| --- | --- | --- | --- | --- | ---|\n",
    "|Development|Logistic Regression| 0.39208 |0.1| lbfgs| Rescuer, Breed, Age, #Photos |\n",
    "|Development|Logistic Regression| 0.38661| 1.0 | liblinear | Rescuer, Breed, Age, #Photos |\n",
    "|Development|Logistic Regression| 0.38579 |10| lbfgs| All Features|\n",
    "|Development|Logistic Regression| 0.38579 |100| liblinear| All Features|\n",
    "|Development|Logistic Regression|0.40754|1| lbfgs| No Same Day Adoptions, Some Features|\n",
    "|Development|Logistic Regression|0.40265  |0.1| liblinear| No Same Day Adoptions, Some Features|\n",
    "|Development|Logistic Regression| **0.41541** |0.1| lbfgs| No Same Day Adoptions, All Features|\n",
    "|Development|Logistic Regression| 0.40369 |0.1| liblinear| No Same Day Adoptions, All Features|\n",
    "||\n",
    "|Final Test |Logistic Regression| 0.37146 |0.1| lbfgs| Rescuer, Breed, Age, #Photos |\n",
    "|Final Test |Logistic Regression| 0.39237 |10| lbfgs| All Features|\n",
    "|Final Test |Logistic Regression| **0.39483** |100| liblinear| All Features|\n",
    "|Final Test |Logistic Regression| 0.38645 |0.1| lbfgs| Some Features, no same day adoptions|\n",
    "|Final Test |Logistic Regression| 0.37516 |0.1| lbfgs| All Features, no same day adoptions|\n",
    "|Final Test |Logistic Regression| 0.37641 |0.1| liblinear| All Features, no same day adoptions|\n",
    "\n"
   ]
  },
  {
   "cell_type": "markdown",
   "metadata": {},
   "source": [
    "# Naive Bayes\n",
    "\n",
    "Let's now try applying Naive Bayes.\n",
    "\n",
    "Multinomial Naive Bayes will be used because the bulk of the data is categorical, and it tends to not be normally distributed. Gaussian was considered but because of the mix of variables, it was decided that the best choice would be multinomial. The benefit of using Naive Bayes is that it assumes the independence of each feature in the data set, and will hopefully find any instances where a particular feature has more weight than the others. This typically considered is one of the better intial choices for an \"off the shelf\" supervised learning algorithm, which is why it's being considered."
   ]
  },
  {
   "cell_type": "code",
   "execution_count": 64,
   "metadata": {},
   "outputs": [
    {
     "name": "stdout",
     "output_type": "stream",
     "text": [
      "Training Data Accuracy:  0.227811190085657\n",
      "Testing Data Accuracy:   0.23333333333333334\n"
     ]
    }
   ],
   "source": [
    "#Define the Model \n",
    "NBclf = MultinomialNB()\n",
    "\n",
    "#Fit the Model \n",
    "NBclf_fit = NBclf.fit(x_train,y_train)\n",
    "\n",
    "#Print results of score \n",
    "print ('Training Data Accuracy: ', NBclf_fit.score(x_train,y_train))\n",
    "print ('Testing Data Accuracy:  ', NBclf_fit.score(x_test,y_test))"
   ]
  },
  {
   "cell_type": "code",
   "execution_count": 119,
   "metadata": {},
   "outputs": [
    {
     "data": {
      "text/plain": [
       "(array([0.5, 1.5, 2.5, 3.5, 4.5]), <a list of 5 Text yticklabel objects>)"
      ]
     },
     "execution_count": 119,
     "metadata": {},
     "output_type": "execute_result"
    },
    {
     "data": {
      "image/png": "[encoded data removed]",
      "text/plain": [
       "<Figure size 432x288 with 2 Axes>"
      ]
     },
     "metadata": {
      "needs_background": "light"
     },
     "output_type": "display_data"
    }
   ],
   "source": [
    "ya_pred = NBclf.predict(xa_test)\n",
    "cm_NBa = confusion_matrix(ya_test,ya_pred)\n",
    "\n",
    "\n",
    "#import Labels for heatmaps\n",
    "adpt_spd = adptspeed.AdoptionSpeed\n",
    "\n",
    "#Plot Confusion matrix of Naive Bayes model\n",
    "ax = sns.heatmap(cm_NBa, annot=True, fmt='g', xticklabels = adpt_spd, yticklabels = adpt_spd, linewidths = 3)\n",
    "ax.set(title = 'Naive Bayes',\n",
    "      xlabel = 'Adoption Speed (Days)',\n",
    "      ylabel = 'Adoption Speed (Days)')\n",
    "plt.yticks(rotation = 0)\n"
   ]
  },
  {
   "cell_type": "markdown",
   "metadata": {},
   "source": [
    "This result is so much less accurate than the logistic regression model that it's probably not worth pursing hyperparameter tuning. The unforunate thing about this being that it is at least predicting with some accuracy those dogs that will be adopted same day. It is potentially this very feature that is causing the lack of accuracy, so let's try removing it and see if there's any improvement. "
   ]
  },
  {
   "cell_type": "code",
   "execution_count": 105,
   "metadata": {},
   "outputs": [
    {
     "name": "stdout",
     "output_type": "stream",
     "text": [
      "Training Data Accuracy:  0.33147217569328125\n",
      "Testing Data Accuracy:   0.3512004466778336\n"
     ]
    }
   ],
   "source": [
    "# Repeat with adoption speed != 0 data \n",
    "NBclf_nozero = MultinomialNB()\n",
    "\n",
    "#Fit the Model \n",
    "NBclf_nz_fit = NBclf_nozero.fit(xa_train,ya_train)\n",
    "\n",
    "#Print results of score \n",
    "print ('Training Data Accuracy: ', NBclf_nz_fit.score(xa_train,ya_train))\n",
    "print ('Testing Data Accuracy:  ', NBclf_nz_fit.score(xa_test,ya_test))"
   ]
  },
  {
   "cell_type": "code",
   "execution_count": 107,
   "metadata": {},
   "outputs": [
    {
     "data": {
      "text/plain": [
       "(array([0.5, 1.5, 2.5, 3.5]), <a list of 4 Text yticklabel objects>)"
      ]
     },
     "execution_count": 107,
     "metadata": {},
     "output_type": "execute_result"
    },
    {
     "data": {
      "image/png": "[encoded data removed]",
      "text/plain": [
       "<Figure size 432x288 with 2 Axes>"
      ]
     },
     "metadata": {
      "needs_background": "light"
     },
     "output_type": "display_data"
    }
   ],
   "source": [
    "y_pred_nz = NBclf_nozero.predict(xa_test)\n",
    "cm_NB_nz = confusion_matrix(ya_test,y_pred_nz)\n",
    "\n",
    "# import Labels for heatmaps\n",
    "adpt_spd = adptspeed.AdoptionSpeed[1:]\n",
    "\n",
    "#Plot Confusion matrix of Naive Bayes model\n",
    "ax = sns.heatmap(cm_NB, annot=True, fmt='g', xticklabels = adpt_spd, yticklabels = adpt_spd, linewidths = 3)\n",
    "ax.set(title = 'Naive Bayes- No Same Day Adoptions',\n",
    "      xlabel = 'Adoption Speed (Days)',\n",
    "      ylabel = 'Adoption Speed (Days)')\n",
    "plt.yticks(rotation = 0)"
   ]
  },
  {
   "cell_type": "markdown",
   "metadata": {},
   "source": [
    "Since this is equivalent to the other models, we can try some hyperparameter tuning."
   ]
  },
  {
   "cell_type": "code",
   "execution_count": 112,
   "metadata": {},
   "outputs": [
    {
     "name": "stdout",
     "output_type": "stream",
     "text": [
      "Alpha Score Values:  [0.34003350083752093, 0.34003350083752093, 0.34003350083752093, 0.34003350083752093, 0.3394751535455053]\n",
      "Best score:  0.34003350083752093\n",
      "Alpha value that yields best score = 0.001\n"
     ]
    }
   ],
   "source": [
    "#the grid of parameters to search over\n",
    "alphas = [0.001, 0.1, 1, 10, 100]\n",
    "\n",
    "# initialize an empty array \n",
    "Alpha_scores=[]\n",
    "\n",
    "#Run model over each C value in Cs\n",
    "for param in alphas:\n",
    "    clf = MultinomialNB(alpha=param)\n",
    "    fit = clf.fit(xa_test,ya_test)\n",
    "    score = accuracy_score(clf.predict(xa_test), ya_test)\n",
    "    Alpha_scores.append(score)\n",
    "\n",
    "max_score = max(Alpha_scores)\n",
    "max_idx = Alpha_scores.index(max(Alpha_scores))\n",
    "highest_Alpha = alphas[max_idx]\n",
    "\n",
    "print('Alpha Score Values: ' , Alpha_scores)\n",
    "print(\"Best score: \", max_score)\n",
    "print(\"Alpha value that yields best score =\", highest_Alpha)"
   ]
  },
  {
   "cell_type": "markdown",
   "metadata": {},
   "source": [
    "So it immediately becomes obvious that the \"same day\" adopted pets are causing an issue with the model accuracy. However, hyperparameter showed a decrease in model accuracy, so it is not worth pursuing further as it will likely cause more problems than it solves. \n",
    "\n",
    "Let's now test this model on the entire data set, again both with and without same day adoptions to see the results. "
   ]
  },
  {
   "cell_type": "code",
   "execution_count": 113,
   "metadata": {},
   "outputs": [
    {
     "name": "stdout",
     "output_type": "stream",
     "text": [
      "Training Data Accuracy:  0.22468224682246823\n",
      "Testing Data Accuracy:   0.23493234932349324\n"
     ]
    },
    {
     "data": {
      "text/plain": [
       "(array([0.5, 1.5, 2.5, 3.5, 4.5]), <a list of 5 Text yticklabel objects>)"
      ]
     },
     "execution_count": 113,
     "metadata": {},
     "output_type": "execute_result"
    },
    {
     "data": {
      "image/png": "[encoded data removed]",
      "text/plain": [
       "<Figure size 432x288 with 2 Axes>"
      ]
     },
     "metadata": {
      "needs_background": "light"
     },
     "output_type": "display_data"
    }
   ],
   "source": [
    "# Repeat with all data- including validation set \n",
    "NBclf_nozero = MultinomialNB()\n",
    "\n",
    "#Fit the Model \n",
    "NBclf_nz_fit = NBclf_nozero.fit(x_all,y_all)\n",
    "\n",
    "#Print results of score \n",
    "print ('Training Data Accuracy: ', NBclf_nz_fit.score(x_all,y_all))\n",
    "print ('Testing Data Accuracy:  ', NBclf_nz_fit.score(x_test_all,y_test_all))\n",
    "\n",
    "y_pred = NBclf.predict(x_test_all)\n",
    "cm_NB = confusion_matrix(y_test_all,y_pred)\n",
    "\n",
    "\n",
    "#import Labels for heatmaps\n",
    "adpt_spd = adptspeed.AdoptionSpeed\n",
    "\n",
    "#Plot Confusion matrix of Naive Bayes model\n",
    "ax = sns.heatmap(cm_NB, annot=True, fmt='g', xticklabels = adpt_spd, yticklabels = adpt_spd, linewidths = 3)\n",
    "ax.set(title = 'Naive Bayes',\n",
    "      xlabel = 'Adoption Speed (Days)',\n",
    "      ylabel = 'Adoption Speed (Days)')\n",
    "plt.yticks(rotation = 0)\n"
   ]
  },
  {
   "cell_type": "code",
   "execution_count": 114,
   "metadata": {},
   "outputs": [
    {
     "name": "stdout",
     "output_type": "stream",
     "text": [
      "Training Data Accuracy:  0.3364042434394193\n",
      "Testing Data Accuracy:   0.3124215809284818\n"
     ]
    },
    {
     "data": {
      "text/plain": [
       "(array([0.5, 1.5, 2.5, 3.5, 4.5]), <a list of 5 Text yticklabel objects>)"
      ]
     },
     "execution_count": 114,
     "metadata": {},
     "output_type": "execute_result"
    },
    {
     "data": {
      "image/png": "[encoded data removed]",
      "text/plain": [
       "<Figure size 432x288 with 2 Axes>"
      ]
     },
     "metadata": {
      "needs_background": "light"
     },
     "output_type": "display_data"
    }
   ],
   "source": [
    "# Repeat with all data- including validation set- but no same day adoptions\n",
    "NBclf_nozero = MultinomialNB()\n",
    "\n",
    "#Fit the Model \n",
    "NBclf_nz_fit = NBclf_nozero.fit(x_a_all,y_a_all)\n",
    "\n",
    "#Print results of score \n",
    "print ('Training Data Accuracy: ', NBclf_nz_fit.score(x_a_all,y_a_all))\n",
    "print ('Testing Data Accuracy:  ', NBclf_nz_fit.score(x_atest_all,y_atest_all))\n",
    "\n",
    "y_pred = NBclf.predict(x_atest_all)\n",
    "cm_NB = confusion_matrix(y_atest_all,y_pred)\n",
    "\n",
    "\n",
    "#import Labels for heatmaps\n",
    "adpt_spd = adptspeed.AdoptionSpeed\n",
    "\n",
    "#Plot Confusion matrix of Naive Bayes model\n",
    "ax = sns.heatmap(cm_NB, annot=True, fmt='g', xticklabels = adpt_spd, yticklabels = adpt_spd, linewidths = 3)\n",
    "ax.set(title = 'Naive Bayes',\n",
    "      xlabel = 'Adoption Speed (Days)',\n",
    "      ylabel = 'Adoption Speed (Days)')\n",
    "plt.yticks(rotation = 0)\n"
   ]
  },
  {
   "attachments": {},
   "cell_type": "markdown",
   "metadata": {},
   "source": [
    "#### Naive Bayes- Final Thoughts \n",
    "\n",
    "This model is most accurate when you remove the pets adopted same day. This is likely due to the independence considerations it makes. So while it makes it better than logistic regression for predicting same day adoptions, it is not as accurate overall. \n",
    " \n",
    "\n",
    "| Model | Accuracy Score | All Pets/No Same Day| \n",
    "| --- | --- | ---|\n",
    "|Logistic Regression-liblinear | 0.39483| All Pets |\n",
    "|Naive Bayes | 0.31242| No Same Day| \n",
    "\n"
   ]
  },
  {
   "cell_type": "markdown",
   "metadata": {},
   "source": [
    "# Support Vector Machines\n",
    "\n",
    "Since Naive Bayes was successful, it would probably be beneficial to investigate further something that utilizes a categorization approach. We'll start with Linear SVC, since Logistic Regression analysis indicated there was some linearity in the data. Since this is a multiclass problem, SVC will be used instead of SVM. "
   ]
  },
  {
   "cell_type": "markdown",
   "metadata": {},
   "source": [
    "## Linear SVC\n",
    "\n",
    "Linear SVC was explored first because it tends to be faster to converge than the SVC method. "
   ]
  },
  {
   "cell_type": "code",
   "execution_count": 115,
   "metadata": {},
   "outputs": [
    {
     "name": "stdout",
     "output_type": "stream",
     "text": [
      "Linear SVC all features 0.17704918032786884\n"
     ]
    },
    {
     "name": "stderr",
     "output_type": "stream",
     "text": [
      "/Users/caitlinewing/opt/anaconda3/lib/python3.7/site-packages/sklearn/svm/base.py:929: ConvergenceWarning: Liblinear failed to converge, increase the number of iterations.\n",
      "  \"the number of iterations.\", ConvergenceWarning)\n"
     ]
    }
   ],
   "source": [
    "#Create the model\n",
    "Lsvc = LinearSVC(random_state = 0, max_iter = 10000)\n",
    "\n",
    "#Test model on data \n",
    "Lsvc.fit(x_train, y_train)\n",
    "\n",
    "#Print results\n",
    "print ('Linear SVC all features', Lsvc.score(x_test,y_test))"
   ]
  },
  {
   "cell_type": "code",
   "execution_count": 117,
   "metadata": {},
   "outputs": [
    {
     "data": {
      "text/plain": [
       "(array([0.5, 1.5, 2.5, 3.5, 4.5]), <a list of 5 Text yticklabel objects>)"
      ]
     },
     "execution_count": 117,
     "metadata": {},
     "output_type": "execute_result"
    },
    {
     "data": {
      "image/png": "[encoded data removed]",
      "text/plain": [
       "<Figure size 432x288 with 2 Axes>"
      ]
     },
     "metadata": {
      "needs_background": "light"
     },
     "output_type": "display_data"
    }
   ],
   "source": [
    "y_pred = Lsvc.predict(x_test)\n",
    "cm_LSVC = confusion_matrix(y_test,y_pred)\n",
    "\n",
    "#import Labels for heatmaps\n",
    "adpt_spd = adptspeed.AdoptionSpeed\n",
    "\n",
    "#Plot Confusion matrix of Naive Bayes model\n",
    "ax = sns.heatmap(cm_LSVC, annot=True, fmt='g', xticklabels = adpt_spd, yticklabels = adpt_spd, linewidths = 3)\n",
    "ax.set(title = 'Linear SVC',\n",
    "      xlabel = 'Adoption Speed (Days)',\n",
    "      ylabel = 'Adoption Speed (Days)')\n",
    "plt.yticks(rotation = 0)\n",
    "\n"
   ]
  },
  {
   "cell_type": "markdown",
   "metadata": {},
   "source": [
    "Yikes! This is by far the worst so far, but let's go ahead and apply it to the set of data without same-day adoption  and see if it does any better."
   ]
  },
  {
   "cell_type": "code",
   "execution_count": 121,
   "metadata": {},
   "outputs": [
    {
     "name": "stderr",
     "output_type": "stream",
     "text": [
      "/Users/caitlinewing/opt/anaconda3/lib/python3.7/site-packages/sklearn/svm/base.py:929: ConvergenceWarning: Liblinear failed to converge, increase the number of iterations.\n",
      "  \"the number of iterations.\", ConvergenceWarning)\n"
     ]
    },
    {
     "name": "stdout",
     "output_type": "stream",
     "text": [
      "Linear SVC all features 0.2752652149637074\n"
     ]
    },
    {
     "data": {
      "text/plain": [
       "(array([0.5, 1.5, 2.5, 3.5, 4.5]), <a list of 5 Text yticklabel objects>)"
      ]
     },
     "execution_count": 121,
     "metadata": {},
     "output_type": "execute_result"
    },
    {
     "data": {
      "image/png": "[encoded data removed]",
      "text/plain": [
       "<Figure size 432x288 with 2 Axes>"
      ]
     },
     "metadata": {
      "needs_background": "light"
     },
     "output_type": "display_data"
    }
   ],
   "source": [
    "#Repeat for pets without same day adoption classification\n",
    "Lsvc.fit(xa_train, ya_train)\n",
    "print ('Linear SVC all features', Lsvc.score(xa_test,ya_test))\n",
    "\n",
    "ya_pred = Lsvc.predict(xa_test)\n",
    "cm_LSVC = confusion_matrix(ya_test,ya_pred)\n",
    "\n",
    "#import Labels for heatmaps\n",
    "adpt_spd = adptspeed.AdoptionSpeed\n",
    "\n",
    "#Plot Confusion matrix of Naive Bayes model\n",
    "ax = sns.heatmap(cm_LSVC, annot=True, fmt='g', xticklabels = adpt_spd, yticklabels = adpt_spd, linewidths = 3)\n",
    "ax.set(title = 'Linear SVC',\n",
    "      xlabel = 'Adoption Speed (Days)',\n",
    "      ylabel = 'Adoption Speed (Days)')\n",
    "plt.yticks(rotation = 0)\n",
    "\n"
   ]
  },
  {
   "cell_type": "markdown",
   "metadata": {},
   "source": [
    "While this is better, its still pretty far off the accuracy of the other models, and the confusion matrix is showing that the classification of this model is not worth trying to tune the model any, let's move on to Nonlinear SVC. "
   ]
  },
  {
   "cell_type": "markdown",
   "metadata": {},
   "source": [
    "| Model | Accuracy Score | All Pets/No Same Day| \n",
    "| --- | --- | ---|\n",
    "|Logistic Regression-liblinear | 0.39483| All Pets |\n",
    "|Naive Bayes | 0.31242| No Same Day| \n",
    "|Linear SVC| 0.27527 | No Same Day | \n"
   ]
  },
  {
   "cell_type": "markdown",
   "metadata": {},
   "source": [
    "## Nonlinear SVC"
   ]
  },
  {
   "cell_type": "markdown",
   "metadata": {},
   "source": [
    "Nonlinear SVC is likely going to be a better choice for this dataset, simply because it is smaller. Larger datasets tend to perform better with linear SVC, due to the one-vs-rest approach that linear SVC uses.\n",
    "\n",
    "Since the default kernel here is rbf, it will also likely work better with the multiclass categorization of our dtaset. Utilizing a gamma of 'auto' will be more efficient because it both runs faster, and because it will work to correctly scale the amount of influence each single training example has. \n",
    "\n",
    "If the model proves to be a decent fit, we can tune it further using hyperparameters. "
   ]
  },
  {
   "cell_type": "code",
   "execution_count": 125,
   "metadata": {
    "scrolled": true
   },
   "outputs": [
    {
     "data": {
      "text/plain": [
       "(array([0.5, 1.5, 2.5, 3.5, 4.5]), <a list of 5 Text yticklabel objects>)"
      ]
     },
     "execution_count": 125,
     "metadata": {},
     "output_type": "execute_result"
    },
    {
     "data": {
      "image/png": "[encoded data removed]",
      "text/plain": [
       "<Figure size 432x288 with 2 Axes>"
      ]
     },
     "metadata": {
      "needs_background": "light"
     },
     "output_type": "display_data"
    }
   ],
   "source": [
    "svclassifier = SVC(gamma='auto')\n",
    "\n",
    "#All Features \n",
    "svclassifier.fit(x_train, y_train)\n",
    "y_pred = svclassifier.predict(x_test)\n",
    "\n",
    "cm_SVC = confusion_matrix(y_test,y_pred)\n",
    "\n",
    "#import Labels for heatmaps\n",
    "adpt_spd = adptspeed.AdoptionSpeed\n",
    "\n",
    "#Plot Confusion matrix of Naive Bayes model\n",
    "ax = sns.heatmap(cm_SVC, annot=True, fmt='g', xticklabels = adpt_spd, yticklabels = adpt_spd, linewidths = 3)\n",
    "ax.set(title = 'Nonlinear SVC',\n",
    "      xlabel = 'Adoption Speed (Days)',\n",
    "      ylabel = 'Adoption Speed (Days)')\n",
    "plt.yticks(rotation = 0)\n"
   ]
  },
  {
   "cell_type": "code",
   "execution_count": 126,
   "metadata": {},
   "outputs": [
    {
     "name": "stdout",
     "output_type": "stream",
     "text": [
      "              precision    recall  f1-score   support\n",
      "\n",
      "         0.0       1.00      0.05      0.10        38\n",
      "         1.0       0.39      0.10      0.16       323\n",
      "         2.0       0.40      0.24      0.30       487\n",
      "         3.0       0.46      0.20      0.27       439\n",
      "         4.0       0.38      0.89      0.54       543\n",
      "\n",
      "    accuracy                           0.39      1830\n",
      "   macro avg       0.53      0.30      0.27      1830\n",
      "weighted avg       0.42      0.39      0.33      1830\n",
      "\n",
      "Accuracy Score 0.39344262295081966\n"
     ]
    }
   ],
   "source": [
    "#Return the classification report \n",
    "print(classification_report(y_test,y_pred))\n",
    "\n",
    "#Return the accuracy score \n",
    "print('Accuracy Score', svclassifier.score(x_test,y_test))"
   ]
  },
  {
   "cell_type": "markdown",
   "metadata": {},
   "source": [
    "This model shows more promise than the linearSVC model did, but it is again not mapping the same-day adoptions very well. Before removing those data points and reanalyzing, lets first try some hyperparameter tuning to see if the model can be further improved. "
   ]
  },
  {
   "cell_type": "code",
   "execution_count": null,
   "metadata": {},
   "outputs": [],
   "source": [
    "from sklearn.model_selection import GridSearchCV"
   ]
  },
  {
   "cell_type": "code",
   "execution_count": null,
   "metadata": {},
   "outputs": [],
   "source": []
  },
  {
   "cell_type": "markdown",
   "metadata": {},
   "source": [
    "Repeat with alternative test set to determine effect of same day adoption on model. "
   ]
  },
  {
   "cell_type": "code",
   "execution_count": null,
   "metadata": {},
   "outputs": [],
   "source": [
    "\n",
    "svclassifier = SVC(gamma='auto', kernel='linear')\n",
    "\n",
    "#All Features \n",
    "svclassifier.fit(xa_train, ya_train)\n",
    "ya_pred = svclassifier.predict(xa_test)\n",
    "\n",
    "\n",
    "print(confusion_matrix(ya_test,ya_pred))\n",
    "print(classification_report(ya_test,ya_pred))\n",
    "\n",
    "\n",
    "print('Accuracy Score', svclassifier.score(xa_test,ya_test))"
   ]
  },
  {
   "cell_type": "code",
   "execution_count": null,
   "metadata": {},
   "outputs": [],
   "source": []
  },
  {
   "cell_type": "code",
   "execution_count": null,
   "metadata": {},
   "outputs": [],
   "source": []
  },
  {
   "cell_type": "markdown",
   "metadata": {},
   "source": [
    "| Model | Score | \n",
    "| --- | --- | \n",
    "|Logistic Regression-lbfgs| 0.38524 |\n",
    "|Logistic Regression-liblinear| 0.38797| \n",
    "|Naive Bayes | 0.19289| \n",
    "|Linear SVC| 0.23989 |\n",
    "|SVM| 0.31421| \n"
   ]
  },
  {
   "cell_type": "markdown",
   "metadata": {},
   "source": [
    "# K Nearest Neighbors"
   ]
  },
  {
   "cell_type": "markdown",
   "metadata": {},
   "source": [
    "**enter some information here "
   ]
  },
  {
   "cell_type": "code",
   "execution_count": null,
   "metadata": {},
   "outputs": [],
   "source": []
  },
  {
   "cell_type": "code",
   "execution_count": 28,
   "metadata": {},
   "outputs": [
    {
     "name": "stdout",
     "output_type": "stream",
     "text": [
      "KNN Score all features 0.37814207650273224\n",
      "KNN Score Specific Features 0.34494535519125685\n"
     ]
    }
   ],
   "source": [
    "\n",
    "\n",
    "#Split Data\n",
    "xtrain, xtest, ytrain, ytest = train_test_split(dtrain[['RescuerInt']], \n",
    "                                              np.ravel(dtrain[['AdoptionSpeed']],order='C'),\n",
    "                                              stratify=dtrain['AdoptionSpeed'], \n",
    "                                              test_size=0.2,random_state=42)\n",
    "\n",
    "\n",
    "kNN=KNeighborsClassifier()\n",
    "\n",
    "kNN.fit(x_train,y_train)\n",
    "print ('KNN Score all features', kNN.score(x_test,y_test))\n",
    "\n",
    "kNN.fit(xtrain,ytrain)\n",
    "print ('KNN Score Specific Features', kNN.score(xtest,ytest))\n"
   ]
  },
  {
   "cell_type": "code",
   "execution_count": 31,
   "metadata": {},
   "outputs": [
    {
     "name": "stdout",
     "output_type": "stream",
     "text": [
      "[[  5  13   6   5   9]\n",
      " [  3 118 108  49  45]\n",
      " [  7 124 179 101  76]\n",
      " [  5  86 158 121  69]\n",
      " [  4  82 112  76 269]]\n"
     ]
    }
   ],
   "source": [
    "kNN.fit(x_train,y_train)\n",
    "y_pred = kNN.predict(x_test)\n",
    "print(confusion_matrix(y_test,y_pred))"
   ]
  },
  {
   "cell_type": "code",
   "execution_count": 57,
   "metadata": {},
   "outputs": [
    {
     "name": "stdout",
     "output_type": "stream",
     "text": [
      "KNN Score Adoption Speeds Not Same Day 0.37103825136612023\n"
     ]
    }
   ],
   "source": [
    "# Repeat for non same day adoptions \n",
    "\n",
    "kNN=KNeighborsClassifier()\n",
    "\n",
    "\n",
    "kNN.fit(xa_train,ya_train)\n",
    "print ('KNN Score Adoption Speeds Not Same Day', kNN.score(xa_test,ya_test))"
   ]
  },
  {
   "cell_type": "code",
   "execution_count": null,
   "metadata": {},
   "outputs": [],
   "source": []
  },
  {
   "cell_type": "markdown",
   "metadata": {},
   "source": [
    "**UPDATE THIS**\n",
    "\n",
    "\n",
    "| Model | Score | \n",
    "| --- | --- | \n",
    "|Logistic Regression-lbfgs| 0.39125 |\n",
    "|Logistic Regression-liblinear| 0.38798| \n",
    "|SVM| 0.38689|\n",
    "|KNN| 0.329235|\n",
    "|Naive Bayes | 0.37104 | \n",
    "|Linear SVC| 0.23989 |"
   ]
  },
  {
   "cell_type": "markdown",
   "metadata": {},
   "source": [
    "# Random Forest "
   ]
  },
  {
   "cell_type": "code",
   "execution_count": null,
   "metadata": {},
   "outputs": [],
   "source": []
  },
  {
   "cell_type": "code",
   "execution_count": 14,
   "metadata": {},
   "outputs": [
    {
     "name": "stdout",
     "output_type": "stream",
     "text": [
      "Random Forest Score all features 0.4158469945355191\n",
      "Random Forest Score Adoption Not Zero 0.4158469945355191\n"
     ]
    }
   ],
   "source": [
    "\n",
    "RF = RandomForestClassifier(random_state = 0, n_estimators = 10)\n",
    "\n",
    "#Test model on all features\n",
    "RF.fit(x_train, y_train)\n",
    "print ('Random Forest Score all features', RF.score(x_test,y_test))\n",
    "\n",
    "\n",
    "#Test model on adoption speeds other than same day\n",
    "RF.fit(xa_train, ya_train)\n",
    "print ('Random Forest Score Adoption Not Zero', RF.score(xa_test,ya_test))"
   ]
  },
  {
   "cell_type": "markdown",
   "metadata": {},
   "source": [
    "So far this is the best model, so it would likely be beneficial to pursue some hyperparameter tuning on the Random Forest Model. Let's start by tuning n_estimators. "
   ]
  },
  {
   "cell_type": "code",
   "execution_count": 15,
   "metadata": {},
   "outputs": [
    {
     "name": "stdout",
     "output_type": "stream",
     "text": [
      "N-Estimators Values:  [0.3333333333333333, 0.4158469945355191, 0.4355191256830601, 0.453551912568306, 0.4557377049180328, 0.45737704918032784, 0.4568306010928962, 0.45081967213114754, 0.4524590163934426]\n",
      "Best score:  0.45737704918032784\n",
      "N-estimator value that yields best score = 120\n"
     ]
    }
   ],
   "source": [
    "#the grid of parameters to search over\n",
    "Ns = [1, 10, 50, 100, 110, 120, 130, 140, 150]\n",
    "\n",
    "# initialize an empty array \n",
    "N_scores=[]\n",
    "\n",
    "#Run model over each C value in Cs\n",
    "for param in Ns:\n",
    "    RF = RandomForestClassifier(random_state = 0, n_estimators = param)\n",
    "    RF.fit(x_train, y_train)\n",
    "    score = RF.score(x_test,y_test)\n",
    "    N_scores.append(score)\n",
    "\n",
    "max_score = max(N_scores)\n",
    "max_idx = N_scores.index(max(N_scores))\n",
    "highest_N = Ns[max_idx]\n",
    "\n",
    "print('N-Estimators Values: ' , N_scores)\n",
    "print(\"Best score: \", max_score)\n",
    "print(\"N-estimator value that yields best score =\", highest_N)"
   ]
  },
  {
   "cell_type": "code",
   "execution_count": 20,
   "metadata": {},
   "outputs": [
    {
     "name": "stdout",
     "output_type": "stream",
     "text": [
      "[[  1  11  11   5  10]\n",
      " [  0 105  95  47  76]\n",
      " [  3  80 176 110 118]\n",
      " [  1  48 111 161 118]\n",
      " [  1  27  81  47 387]]\n"
     ]
    }
   ],
   "source": [
    "RF = RandomForestClassifier(random_state = 0, n_estimators = 100)\n",
    "RF.fit(x_train,y_train)\n",
    "y_pred = RF.predict(x_test)\n",
    "print(confusion_matrix(y_test,y_pred))"
   ]
  },
  {
   "cell_type": "code",
   "execution_count": null,
   "metadata": {},
   "outputs": [],
   "source": []
  },
  {
   "cell_type": "code",
   "execution_count": 65,
   "metadata": {},
   "outputs": [
    {
     "name": "stdout",
     "output_type": "stream",
     "text": [
      "N-Estimators Values:  [0.3371584699453552, 0.41147540983606556, 0.45901639344262296, 0.4562841530054645, 0.460655737704918, 0.45901639344262296, 0.46174863387978143, 0.4644808743169399, 0.46174863387978143]\n",
      "Best score:  0.4644808743169399\n",
      "N-estimator value that yields best score = 140\n"
     ]
    }
   ],
   "source": [
    "#the grid of parameters to search over\n",
    "Ns = [1, 10, 50, 100, 110, 120, 130, 140, 150]\n",
    "\n",
    "# initialize an empty array \n",
    "N_scores=[]\n",
    "\n",
    "#Run model over each C value in Cs\n",
    "for param in Ns:\n",
    "    RF = RandomForestClassifier(random_state = 0, n_estimators = param)\n",
    "    RF.fit(xa_train, ya_train)\n",
    "    score = RF.score(xa_test,ya_test)\n",
    "    N_scores.append(score)\n",
    "\n",
    "max_score = max(N_scores)\n",
    "max_idx = N_scores.index(max(N_scores))\n",
    "highest_N = Ns[max_idx]\n",
    "\n",
    "print('N-Estimators Values: ' , N_scores)\n",
    "print(\"Best score: \", max_score)\n",
    "print(\"N-estimator value that yields best score =\", highest_N)"
   ]
  },
  {
   "cell_type": "code",
   "execution_count": null,
   "metadata": {},
   "outputs": [],
   "source": []
  },
  {
   "cell_type": "code",
   "execution_count": null,
   "metadata": {},
   "outputs": [],
   "source": []
  },
  {
   "cell_type": "code",
   "execution_count": null,
   "metadata": {},
   "outputs": [],
   "source": []
  },
  {
   "cell_type": "markdown",
   "metadata": {},
   "source": [
    "*/*update this*/*"
   ]
  },
  {
   "cell_type": "markdown",
   "metadata": {},
   "source": [
    "| Model | Score | \n",
    "| --- | --- | \n",
    "|Random Forest| 0.46011| \n",
    "|Logistic Regression-lbfgs| 0.39125 |\n",
    "|Logistic Regression-liblinear| 0.38798| \n",
    "|SVM| 0.38689|\n",
    "|KNN| 0.32924|\n",
    "|Naive Bayes | 0.25792 | \n",
    "|Linear SVC| .023989 |\n"
   ]
  },
  {
   "cell_type": "markdown",
   "metadata": {},
   "source": [
    "# Light GBM"
   ]
  },
  {
   "cell_type": "code",
   "execution_count": 68,
   "metadata": {},
   "outputs": [
    {
     "data": {
      "image/png": "[encoded data removed]",
      "text/plain": [
       "<Figure size 720x432 with 1 Axes>"
      ]
     },
     "metadata": {
      "needs_background": "light"
     },
     "output_type": "display_data"
    }
   ],
   "source": [
    "model = lgb.LGBMRegressor()\n",
    "model.fit(x_train, y_train)\n",
    "\n",
    "feature_imp = pd.DataFrame(sorted(zip(model.feature_importances_,x_train.columns)), columns=['Value','Feature'])\n",
    "\n",
    "plt.figure(figsize=(10, 6))\n",
    "sns.barplot(x=\"Value\", y=\"Feature\", data=feature_imp.sort_values(by=\"Value\", ascending=False))\n",
    "plt.title('LightGBM Features')\n",
    "plt.tight_layout()\n",
    "plt.show()\n",
    "\n",
    "\n",
    "features_selection = SelectFromModel(model, threshold='1.25*median') # The Threshold is the median of features importance*1.25 \n",
    "features_selection.fit(x_train, y_train)\n",
    "\n",
    "\n",
    "features_selection_support = features_selection.get_support()\n",
    "features_selection = x_train.loc[:,features_selection_support].columns.tolist()"
   ]
  },
  {
   "cell_type": "code",
   "execution_count": 71,
   "metadata": {},
   "outputs": [
    {
     "name": "stdout",
     "output_type": "stream",
     "text": [
      "LightGBM Score all features 0.20096462645474045\n"
     ]
    }
   ],
   "source": [
    "lgb_params = {\n",
    "'boosting_type': 'gbdt',\n",
    "'objective': 'regression',\n",
    "'learning_rate': 0.005,\n",
    "'subsample': .8,\n",
    "'colsample_bytree': 0.8,\n",
    "'min_split_gain': 0.006,\n",
    "'min_child_samples': 150,\n",
    "'min_child_weight': 0.1,\n",
    "'max_depth': 17,\n",
    "'n_estimators': 5000,\n",
    "'num_leaves': 80,\n",
    "}\n",
    "lgb_model = lgb.LGBMRegressor(**lgb_params)\n",
    "\n",
    "lgb_model.fit(x_train,y_train)\n",
    "\n",
    "#Prediction\n",
    "y_pred=lgb_model.predict(x_train.values)\n",
    "print ('LightGBM Score all features', lgb_model.score(x_test,y_test)) "
   ]
  },
  {
   "cell_type": "code",
   "execution_count": null,
   "metadata": {},
   "outputs": [],
   "source": []
  },
  {
   "cell_type": "code",
   "execution_count": 69,
   "metadata": {},
   "outputs": [
    {
     "name": "stdout",
     "output_type": "stream",
     "text": [
      "LightGBM Score all features 0.20096462645474045\n"
     ]
    }
   ],
   "source": [
    "lgb_params = {\n",
    "'boosting_type': 'gbdt',\n",
    "'objective': 'regression',\n",
    "'learning_rate': 0.005,\n",
    "'subsample': .8,\n",
    "'colsample_bytree': 0.8,\n",
    "'min_split_gain': 0.006,\n",
    "'min_child_samples': 150,\n",
    "'min_child_weight': 0.1,\n",
    "'max_depth': 17,\n",
    "'n_estimators': 5000,\n",
    "'num_leaves': 80,\n",
    "}\n",
    "lgb_model = lgb.LGBMRegressor(**lgb_params)\n",
    "\n",
    "lgb_model.fit(xa_train,ya_train)\n",
    "\n",
    "#Prediction\n",
    "y_pred=lgb_model.predict(xa_train.values)\n",
    "print ('LightGBM Score all features', lgb_model.score(xa_test,ya_test))"
   ]
  },
  {
   "cell_type": "markdown",
   "metadata": {},
   "source": [
    "# Model Scores \n",
    "\n",
    "| Model | Accuracy Score | \n",
    "| --- | --- | \n",
    "|Random Forest| 0.46011| \n",
    "|Logistic Regression-lbfgs| 0.39125 |\n",
    "|Logistic Regression-liblinear| 0.38798| \n",
    "|SVM| 0.38689|\n",
    "|KNN| 0.32924|\n",
    "|Naive Bayes | 0.25792 | \n",
    "|LightGBM | 0.24760 |\n",
    "|Linear SVC| 0.23989 |"
   ]
  },
  {
   "cell_type": "markdown",
   "metadata": {},
   "source": [
    "# Final Model Performance\n",
    "\n",
    "***** wrap up comments here********8 "
   ]
  },
  {
   "cell_type": "code",
   "execution_count": null,
   "metadata": {},
   "outputs": [],
   "source": []
  },
  {
   "cell_type": "code",
   "execution_count": 17,
   "metadata": {},
   "outputs": [],
   "source": []
  },
  {
   "cell_type": "code",
   "execution_count": null,
   "metadata": {},
   "outputs": [],
   "source": []
  }
 ],
 "metadata": {
  "kernelspec": {
   "display_name": "Python 3",
   "language": "python",
   "name": "python3"
  },
  "language_info": {
   "codemirror_mode": {
    "name": "ipython",
    "version": 3
   },
   "file_extension": ".py",
   "mimetype": "text/x-python",
   "name": "python",
   "nbconvert_exporter": "python",
   "pygments_lexer": "ipython3",
   "version": "3.7.1"
  }
 },
 "nbformat": 4,
 "nbformat_minor": 2
}
