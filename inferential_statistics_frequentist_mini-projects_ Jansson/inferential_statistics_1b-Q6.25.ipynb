{
 "cells": [
  {
   "cell_type": "markdown",
   "metadata": {},
   "source": [
    "# Inferential Statistics Ib - Frequentism"
   ]
  },
  {
   "cell_type": "markdown",
   "metadata": {},
   "source": [
    "## Learning objectives"
   ]
  },
  {
   "cell_type": "markdown",
   "metadata": {},
   "source": [
    "Welcome to the second Frequentist inference mini-project! Over the course of working on this mini-project and the previous frequentist mini-project, you'll learn the fundamental concepts associated with frequentist inference. The following list includes the topics you will become familiar with as you work through these two mini-projects:\n",
    "* the _z_-statistic\n",
    "* the _t_-statistic\n",
    "* the difference and relationship between the two\n",
    "* the Central Limit Theorem, its assumptions and consequences\n",
    "* how to estimate the population mean and standard deviation from a sample\n",
    "* the concept of a sampling distribution of a test statistic, particularly for the mean\n",
    "* how to combine these concepts to calculate confidence intervals and p-values\n",
    "* how those confidence intervals and p-values allow you to perform hypothesis (or A/B) tests"
   ]
  },
  {
   "cell_type": "markdown",
   "metadata": {},
   "source": [
    "## Prerequisites"
   ]
  },
  {
   "cell_type": "markdown",
   "metadata": {},
   "source": [
    "* what a random variable is\n",
    "* what a probability density function (pdf) is\n",
    "* what the cumulative density function is\n",
    "* a high-level sense of what the Normal distribution\n",
    "\n",
    "If these concepts are new to you, please take a few moments to Google these topics in order to get a sense of what they are and how you might use them.\n",
    "\n",
    "These two notebooks were designed to bridge the gap between having a basic understanding of probability and random variables and being able to apply these concepts in Python. This second frequentist inference mini-project focuses on a real-world application of this type of inference to give you further practice using these concepts. "
   ]
  },
  {
   "cell_type": "markdown",
   "metadata": {},
   "source": [
    "In the previous notebook, we used only data from a known normal distribution. You'll now tackle real data, rather than simulated data, and answer some relevant real-world business problems using the data."
   ]
  },
  {
   "cell_type": "markdown",
   "metadata": {},
   "source": [
    "## Hospital medical charges"
   ]
  },
  {
   "cell_type": "markdown",
   "metadata": {},
   "source": [
    "Imagine that a hospital has hired you as their data analyst. An administrator is working on the hospital's business operations plan and needs you to help them answer some business questions. This mini-project, as well as the bootstrap and Bayesian inference mini-projects also found in this unit are designed to illustrate how each of the inferential statistics methods have their uses for different use cases. In this assignment notebook, you're going to use frequentist statistical inference on a data sample to answer the questions:\n",
    "* has the hospital's revenue stream fallen below a key threshold?\n",
    "* are patients with insurance really charged different amounts than those without?\n",
    "Answering that last question with a frequentist approach makes some assumptions, or requires some knowledge, about the two groups. In the next mini-project, you'll use bootstrapping to test that assumption. And in the final mini-project of the unit, you're going to create a model for simulating _individual_ charges (not a sampling distribution) that the hospital can use to model a range of scenarios."
   ]
  },
  {
   "cell_type": "markdown",
   "metadata": {},
   "source": [
    "We are going to use some data on medical charges obtained from [Kaggle](https://www.kaggle.com/easonlai/sample-insurance-claim-prediction-dataset). For the purposes of this exercise, assume the observations are the result of random sampling from our one hospital. Recall in the previous assignment, we introduced the Central Limit Theorem (CLT), and how it tells us that the distributions of sample statistics approach a normal distribution as $n$ increases. The amazing thing about this is that it applies to the sampling distributions of statistics that have been calculated from even highly non-normal distributions of data. Remember, also, that hypothesis testing is very much based on making inferences about such sample statistics. You're going to rely heavily on the CLT to apply frequentist (parametric) tests to answer the questions in this notebook."
   ]
  },
  {
   "cell_type": "code",
   "execution_count": 1,
   "metadata": {},
   "outputs": [],
   "source": [
    "import pandas as pd\n",
    "import numpy as np\n",
    "import matplotlib.pyplot as plt\n",
    "from scipy.stats import t\n",
    "from numpy.random import seed\n",
    "medical = pd.read_csv('data/insurance2.csv')"
   ]
  },
  {
   "cell_type": "code",
   "execution_count": 2,
   "metadata": {},
   "outputs": [
    {
     "data": {
      "text/plain": [
       "(1338, 8)"
      ]
     },
     "execution_count": 2,
     "metadata": {},
     "output_type": "execute_result"
    }
   ],
   "source": [
    "medical.shape"
   ]
  },
  {
   "cell_type": "code",
   "execution_count": 3,
   "metadata": {},
   "outputs": [
    {
     "data": {
      "text/html": [
       "<div>\n",
       "<style scoped>\n",
       "    .dataframe tbody tr th:only-of-type {\n",
       "        vertical-align: middle;\n",
       "    }\n",
       "\n",
       "    .dataframe tbody tr th {\n",
       "        vertical-align: top;\n",
       "    }\n",
       "\n",
       "    .dataframe thead th {\n",
       "        text-align: right;\n",
       "    }\n",
       "</style>\n",
       "<table border=\"1\" class=\"dataframe\">\n",
       "  <thead>\n",
       "    <tr style=\"text-align: right;\">\n",
       "      <th></th>\n",
       "      <th>age</th>\n",
       "      <th>sex</th>\n",
       "      <th>bmi</th>\n",
       "      <th>children</th>\n",
       "      <th>smoker</th>\n",
       "      <th>region</th>\n",
       "      <th>charges</th>\n",
       "      <th>insuranceclaim</th>\n",
       "    </tr>\n",
       "  </thead>\n",
       "  <tbody>\n",
       "    <tr>\n",
       "      <th>0</th>\n",
       "      <td>19</td>\n",
       "      <td>0</td>\n",
       "      <td>27.900</td>\n",
       "      <td>0</td>\n",
       "      <td>1</td>\n",
       "      <td>3</td>\n",
       "      <td>16884.92400</td>\n",
       "      <td>1</td>\n",
       "    </tr>\n",
       "    <tr>\n",
       "      <th>1</th>\n",
       "      <td>18</td>\n",
       "      <td>1</td>\n",
       "      <td>33.770</td>\n",
       "      <td>1</td>\n",
       "      <td>0</td>\n",
       "      <td>2</td>\n",
       "      <td>1725.55230</td>\n",
       "      <td>1</td>\n",
       "    </tr>\n",
       "    <tr>\n",
       "      <th>2</th>\n",
       "      <td>28</td>\n",
       "      <td>1</td>\n",
       "      <td>33.000</td>\n",
       "      <td>3</td>\n",
       "      <td>0</td>\n",
       "      <td>2</td>\n",
       "      <td>4449.46200</td>\n",
       "      <td>0</td>\n",
       "    </tr>\n",
       "    <tr>\n",
       "      <th>3</th>\n",
       "      <td>33</td>\n",
       "      <td>1</td>\n",
       "      <td>22.705</td>\n",
       "      <td>0</td>\n",
       "      <td>0</td>\n",
       "      <td>1</td>\n",
       "      <td>21984.47061</td>\n",
       "      <td>0</td>\n",
       "    </tr>\n",
       "    <tr>\n",
       "      <th>4</th>\n",
       "      <td>32</td>\n",
       "      <td>1</td>\n",
       "      <td>28.880</td>\n",
       "      <td>0</td>\n",
       "      <td>0</td>\n",
       "      <td>1</td>\n",
       "      <td>3866.85520</td>\n",
       "      <td>1</td>\n",
       "    </tr>\n",
       "  </tbody>\n",
       "</table>\n",
       "</div>"
      ],
      "text/plain": [
       "   age  sex     bmi  children  smoker  region      charges  insuranceclaim\n",
       "0   19    0  27.900         0       1       3  16884.92400               1\n",
       "1   18    1  33.770         1       0       2   1725.55230               1\n",
       "2   28    1  33.000         3       0       2   4449.46200               0\n",
       "3   33    1  22.705         0       0       1  21984.47061               0\n",
       "4   32    1  28.880         0       0       1   3866.85520               1"
      ]
     },
     "execution_count": 3,
     "metadata": {},
     "output_type": "execute_result"
    }
   ],
   "source": [
    "medical.head()"
   ]
  },
  {
   "cell_type": "markdown",
   "metadata": {},
   "source": [
    "__Q:__ Plot the histogram of charges and calculate the mean and standard deviation. Comment on the appropriateness of these statistics for the data."
   ]
  },
  {
   "cell_type": "markdown",
   "metadata": {},
   "source": [
    "__A:__ \n",
    "\n",
    "In this case the data does not appear to be normally disributed, there's a definite skew. It's likely that the median will be a more valuable statistic than the mean. It's also possible that the data will show different distribution behavior if separated into those with and those without insurance. "
   ]
  },
  {
   "cell_type": "code",
   "execution_count": 21,
   "metadata": {},
   "outputs": [
    {
     "name": "stdout",
     "output_type": "stream",
     "text": [
      "Mean: $13270.42\n",
      "Standard Deviation: $12110.01\n"
     ]
    }
   ],
   "source": [
    "mean_charge=medical.charges.mean()\n",
    "std_charges=medical.charges.std()\n",
    "print('Mean: $' + str(round(mean_charge,2)))\n",
    "print('Standard Deviation: $' + str(round(std_charges,2)))"
   ]
  },
  {
   "cell_type": "code",
   "execution_count": 17,
   "metadata": {},
   "outputs": [
    {
     "data": {
      "image/png": "[encoded data removed]",
      "text/plain": [
       "<Figure size 432x288 with 1 Axes>"
      ]
     },
     "metadata": {
      "needs_background": "light"
     },
     "output_type": "display_data"
    }
   ],
   "source": [
    "_ = plt.hist(medical.charges)\n",
    "_ = plt.xlabel('Charge (USD)')\n",
    "_ = plt.ylabel('Number of Charges')\n",
    "_ = plt.axvline(mean_charge, color='k')\n",
    "_ = plt.axvline(mean_charge + std_charges, color='k',linestyle=':')\n",
    "_ = plt.axvline(mean_charge - std_charges, color='k',linestyle=':')\n",
    "_ = plt.axvline(medical.charges.median(),color='r')\n"
   ]
  },
  {
   "cell_type": "markdown",
   "metadata": {},
   "source": [
    "__Q:__ The administrator is concerned that the actual average charge has fallen below 12000, threatening the hospital's operational model. On the assumption that these data represent a random sample of charges, how would you justify that these data allow you to answer that question? And what would be the most appropriate frequentist test, of the ones discussed so far, to apply?"
   ]
  },
  {
   "cell_type": "markdown",
   "metadata": {},
   "source": [
    "__A:__\n",
    "\n",
    "I'd justify the data using a confidence interval. \n",
    "\n",
    "The test I'd apply would be the t-test. We'd be comparing two samples to see if there is a statistically significant difference between two independent sample groups."
   ]
  },
  {
   "cell_type": "markdown",
   "metadata": {},
   "source": [
    "__Q:__ Given the nature of the administrator's concern, what is the appropriate confidence interval in this case? A one-sided or two-sided interval? Calculate the critical value and the relevant 95% confidence interval for the mean and comment on whether the administrator should be concerned?"
   ]
  },
  {
   "cell_type": "markdown",
   "metadata": {},
   "source": [
    "__A:__\n",
    "\n",
    "Given both the shape of the data above and the administrators concern (<$12,000), a one-sided interval would be the most appropriate. \n",
    "\n",
    "The hospital adminstrator doesn't need to be concerned, as the value of the average charge is above the critical value. \n"
   ]
  },
  {
   "cell_type": "code",
   "execution_count": 42,
   "metadata": {},
   "outputs": [
    {
     "name": "stdout",
     "output_type": "stream",
     "text": [
      "Mean Charge:             13270.42\n",
      "Std Dev of Charges:      12110.01\n",
      "t-score:                 1.64\n",
      "Standard Error:          362.93\n",
      "Margin of Error:         597.0\n"
     ]
    }
   ],
   "source": [
    "#Sample size, n\n",
    "sample_size=len(medical)\n",
    "\n",
    "#From above, mean and standard deviation of the charges data\n",
    "mean_charge=medical.charges.mean()\n",
    "std_charges=medical.charges.std()\n",
    "\n",
    "#One tail test, so CI value will be 95%\n",
    "#Calculate t-score\n",
    "t_score=t.ppf(0.95,mean_charge)\n",
    "\n",
    "#Calculate standard error and margin of error\n",
    "std_error_t= mean_charge / np.sqrt(sample_size-1)\n",
    "marg_error_t= t_score * std_error_t\n",
    "\n",
    "print('Mean Charge:             ' + str(round(mean_charge,2)))\n",
    "print('Std Dev of Charges:      ' + str(round(std_charges,2)))\n",
    "print('t-score:                 ' + str(round(t_score,2)))\n",
    "print('Standard Error:          ' + str(round(std_error_t,2)))\n",
    "print('Margin of Error:         ' + str(round(marg_error_t,2)))"
   ]
  },
  {
   "cell_type": "code",
   "execution_count": 43,
   "metadata": {},
   "outputs": [
    {
     "name": "stdout",
     "output_type": "stream",
     "text": [
      "Confidence Interval:\n",
      "[12673.419127075093, 13867.42540320742]\n"
     ]
    }
   ],
   "source": [
    "#Confidence Interval\n",
    "CI= [mean_charge- marg_error_t , mean_charge + marg_error_t]\n",
    "print('Confidence Interval:')\n",
    "print(CI)"
   ]
  },
  {
   "cell_type": "code",
   "execution_count": 25,
   "metadata": {},
   "outputs": [
    {
     "name": "stdout",
     "output_type": "stream",
     "text": [
      "The critical value in this case is $12673.42\n"
     ]
    }
   ],
   "source": [
    "print('The critical value in this case is $' + str(round(mean_charge-marg_error_t,2)))"
   ]
  },
  {
   "cell_type": "markdown",
   "metadata": {},
   "source": [
    "The administrator then wants to know whether people with insurance really are charged a different amount to those without.\n",
    "\n",
    "__Q:__ State the null and alternative hypothesis here. Use the _t_-test for the difference between means where the pooled standard deviation of the two groups is given by\n",
    "\\begin{equation}\n",
    "s_p = \\sqrt{\\frac{(n_0 - 1)s^2_0 + (n_1 - 1)s^2_1}{n_0 + n_1 - 2}}\n",
    "\\end{equation}\n",
    "\n",
    "and the *t* test statistic is then given by\n",
    "\n",
    "\\begin{equation}\n",
    "t = \\frac{\\bar{x}_0 - \\bar{x}_1}{s_p \\sqrt{1/n_0 + 1/n_1}}.\n",
    "\\end{equation}\n",
    "\n",
    "What assumption about the variances of the two groups are we making here?"
   ]
  },
  {
   "cell_type": "markdown",
   "metadata": {},
   "source": [
    "__A:__\n",
    "\n",
    "$H_{0}$ : Patients with and without insurance are charged the same amount, on average. \n",
    "\n",
    "$H_{1}$ : Patients with and without insurance are not charged the same amount, on average. \n",
    "\n",
    "__Assumptions:__\n",
    "\n",
    "The two groups have identical population variance."
   ]
  },
  {
   "cell_type": "markdown",
   "metadata": {},
   "source": [
    "__Q:__ Perform this hypothesis test both manually, using the above formulae, and then using the appropriate function from [scipy.stats](https://docs.scipy.org/doc/scipy/reference/stats.html#statistical-tests) (hint, you're looking for a function to perform a _t_-test on two independent samples). For the manual approach, calculate the value of the test statistic and then its probability (the p-value). Verify you get the same results from both."
   ]
  },
  {
   "cell_type": "markdown",
   "metadata": {},
   "source": [
    "__A:__ "
   ]
  },
  {
   "cell_type": "code",
   "execution_count": 46,
   "metadata": {},
   "outputs": [],
   "source": [
    "#Prep The Data:\n",
    "\n",
    "#Create two data frames\n",
    "insurance=medical[medical.insuranceclaim == 1]\n",
    "no_insurance= medical[medical.insuranceclaim == 0]\n",
    "\n",
    "#Retrieve Data for charges on claims\n",
    "ins_chgs=insurance.charges\n",
    "no_ins_chgs= no_insurance.charges"
   ]
  },
  {
   "cell_type": "code",
   "execution_count": 141,
   "metadata": {},
   "outputs": [],
   "source": [
    "#Basic Statistics Values\n",
    "\n",
    "# Calculate n0 and n1\n",
    "n0=len(ins_chgs)\n",
    "n1=len(no_ins_chgs)\n",
    "\n",
    "#Mean and Std Dev for Insured \n",
    "s0= np.std(ins_chgs)\n",
    "xbar0= np.mean(ins_chgs)\n",
    "\n",
    "#Mean and Std Dev for Uninsured\n",
    "s1=np.std(no_ins_chgs)\n",
    "xbar1=np.mean(no_ins_chgs)"
   ]
  },
  {
   "cell_type": "code",
   "execution_count": 142,
   "metadata": {},
   "outputs": [
    {
     "name": "stdout",
     "output_type": "stream",
     "text": [
      "T-Test Statistic: 11.9\n"
     ]
    }
   ],
   "source": [
    "#Calculate t-score\n",
    "sp=np.sqrt(((n0-1)*s0**2 + (n1-1)*s1**2)/(n0+n1-2))\n",
    "t_score= (xbar0-xbar1) / (sp*np.sqrt((1/n0)+(1/n1)))\n",
    "\n",
    "print('T-Test Statistic: ' + str(round(t_score, 2)))\n"
   ]
  },
  {
   "cell_type": "code",
   "execution_count": 143,
   "metadata": {},
   "outputs": [
    {
     "name": "stdout",
     "output_type": "stream",
     "text": [
      "p-value:0.0\n"
     ]
    }
   ],
   "source": [
    "#Calculate Probability \n",
    "df= (n0-n1)-2\n",
    "p=(1-t.cdf(t_score,df))\n",
    "print('p-value:' + str(p))"
   ]
  },
  {
   "cell_type": "code",
   "execution_count": 144,
   "metadata": {},
   "outputs": [
    {
     "data": {
      "text/plain": [
       "Ttest_indResult(statistic=11.893299030876712, pvalue=4.461230231620717e-31)"
      ]
     },
     "execution_count": 144,
     "metadata": {},
     "output_type": "execute_result"
    }
   ],
   "source": [
    "#Calculate using scipy.stats\n",
    "import scipy.stats as spsts\n",
    "spsts.ttest_ind(ins_chgs, no_ins_chgs)"
   ]
  },
  {
   "cell_type": "code",
   "execution_count": 146,
   "metadata": {},
   "outputs": [
    {
     "name": "stdout",
     "output_type": "stream",
     "text": [
      "t=11.901, p=0.000\n",
      "Ttest_indResult(statistic=11.893299030876712, pvalue=4.461230231620717e-31)\n"
     ]
    }
   ],
   "source": [
    "#Comparison: \n",
    "\n",
    "print('t=%.3f, p=%.3f' % (t_score, p))\n",
    "print(spsts.ttest_ind(ins_chgs, no_ins_chgs))"
   ]
  },
  {
   "cell_type": "code",
   "execution_count": 122,
   "metadata": {},
   "outputs": [
    {
     "name": "stdout",
     "output_type": "stream",
     "text": [
      "Results per the critical value: Reject the null hypothesis.\n",
      "\n",
      "Results per the p-value: Reject the null hypothesis.\n"
     ]
    }
   ],
   "source": [
    "#Interpret the results:\n",
    "\n",
    "#Signifigance level for 95% confidence interval, 1-tailed\n",
    "alpha=0.05\n",
    "cv= t.ppf(.95,df)\n",
    "\n",
    "def results(t,p,a,df,cv) :\n",
    "    #Interperet via critical value \n",
    "    if abs(t) <= cv:\n",
    "        t_result = 'Results per the critical value: Fail to reject the null hypothesis.'\n",
    "    else:\n",
    "        t_result = 'Results per the critical value: Reject the null hypothesis.'\n",
    "    \n",
    "    # interpret via p-value\n",
    "    if p > alpha:\n",
    "        p_result = 'Results per the p-value: Fail to reject the null hypothesis.'\n",
    "    else:\n",
    "        p_result = 'Results per the p-value: Reject the null hypothesis.'\n",
    "        \n",
    "        return t_result, p_result\n",
    "    \n",
    "t_result,p_result=results(t_score,p,alpha,df,cv)\n",
    "\n",
    "print(t_result)\n",
    "print(\"\")\n",
    "print(p_result)"
   ]
  },
  {
   "cell_type": "markdown",
   "metadata": {},
   "source": [
    "Congratulations! Hopefully you got the exact same numerical results. This shows that you correctly calculated the numbers by hand. Secondly, you used the correct function and saw that it's much easier to use. All you need to do pass your data to it."
   ]
  },
  {
   "cell_type": "markdown",
   "metadata": {},
   "source": [
    "__Q:__ In the above calculations, we assumed the sample variances were equal. We may well suspect they are not (we'll explore this in another assignment). The calculation becomes a little more complicated to do by hand in this case, but we now know of a helpful function. Check the documentation for the function to tell it not to assume equal variances and perform the test again."
   ]
  },
  {
   "cell_type": "markdown",
   "metadata": {},
   "source": [
    "__A:__ You can do this by using the argument equal_var=False inside spsts.ttest_ind()."
   ]
  },
  {
   "cell_type": "code",
   "execution_count": 123,
   "metadata": {},
   "outputs": [
    {
     "data": {
      "text/plain": [
       "Ttest_indResult(statistic=13.298031957975649, pvalue=1.1105103216309125e-37)"
      ]
     },
     "execution_count": 123,
     "metadata": {},
     "output_type": "execute_result"
    }
   ],
   "source": [
    "spsts.ttest_ind(ins_chgs, no_ins_chgs,equal_var=False)"
   ]
  },
  {
   "cell_type": "markdown",
   "metadata": {},
   "source": [
    "The method to do this by hand is shown below:"
   ]
  },
  {
   "cell_type": "code",
   "execution_count": 148,
   "metadata": {},
   "outputs": [
    {
     "name": "stdout",
     "output_type": "stream",
     "text": [
      "t=13.298, df=1336, cv=1.646, p=0.000\n",
      "Ttest_indResult(statistic=13.298031957975649, pvalue=1.1105103216309125e-37)\n"
     ]
    }
   ],
   "source": [
    "from scipy.stats import sem , t\n",
    "\n",
    "def independent_t_vardiff(data1, data2, alpha):\n",
    "    # Calculate the means:\n",
    "        x0, x1 = np.mean(data1), np.mean(data2)\n",
    "        \n",
    "    # Degrees of freedom:\n",
    "        df = len(data1) + len(data2) - 2\n",
    "    \n",
    "    # Calculate standard errors:\n",
    "        se0, se1 = sem(data1), sem(data2)\n",
    "    \n",
    "    # Standard error on the difference between the samples:\n",
    "        se_delta = np.sqrt(se0**2 + se1**2)\n",
    "    \n",
    "    # Calculate the t-score statistic:\n",
    "        t_score_v = (x0 - x1) / se_delta\n",
    "\n",
    "    # Calculate the critical value:\n",
    "        cv = t.ppf(1.0 - alpha, df)\n",
    "\n",
    "    # Calculate the p-value:\n",
    "        p_var = (1.0 - t.cdf(abs(t_score), df)) * 2.0\n",
    "\n",
    "    # Return everything calculated\n",
    "        return t_score_v, df, cv, p_var\n",
    "\n",
    "\n",
    "# Run the t test\n",
    "\n",
    "#95% confidence interval\n",
    "alpha = 0.05\n",
    "\n",
    "t_score_v, df, cv, p_var = independent_t_vardiff(ins_chgs, no_ins_chgs, alpha)\n",
    "\n",
    "print('t=%.3f, df=%d, cv=%.3f, p=%.3f' % (t_score_v, df, cv, p_var))\n",
    "print(spsts.ttest_ind(ins_chgs, no_ins_chgs,equal_var=False))"
   ]
  },
  {
   "cell_type": "markdown",
   "metadata": {},
   "source": [
    "__Q:__ Conceptual question: look through the documentation for statistical test functions in scipy.stats. You'll see the above _t_-test for a sample, but can you see an equivalent one for performing a *z*-test from a sample? Comment on your answer."
   ]
  },
  {
   "cell_type": "markdown",
   "metadata": {},
   "source": [
    "__A:__ \n",
    "\n",
    "When looking at the statistical test functions in scipy.stats there are no test functions for a z-test. \n",
    "\n",
    "However, you could perform a z-test using statsmodels.stats.weightstats.ztest."
   ]
  },
  {
   "cell_type": "markdown",
   "metadata": {},
   "source": [
    "## Learning outcomes"
   ]
  },
  {
   "cell_type": "markdown",
   "metadata": {},
   "source": [
    "Having completed this project notebook, you now have good hands-on experience:\n",
    "* using the central limit theorem to help you apply frequentist techniques to answer questions that pertain to very non-normally distributed data from the real world\n",
    "* performing inference using such data to answer business questions\n",
    "* forming a hypothesis and framing the null and alternative hypotheses\n",
    "* testing this using a _t_-test"
   ]
  }
 ],
 "metadata": {
  "kernelspec": {
   "display_name": "Python 3",
   "language": "python",
   "name": "python3"
  },
  "language_info": {
   "codemirror_mode": {
    "name": "ipython",
    "version": 3
   },
   "file_extension": ".py",
   "mimetype": "text/x-python",
   "name": "python",
   "nbconvert_exporter": "python",
   "pygments_lexer": "ipython3",
   "version": "3.7.3"
  }
 },
 "nbformat": 4,
 "nbformat_minor": 2
}
